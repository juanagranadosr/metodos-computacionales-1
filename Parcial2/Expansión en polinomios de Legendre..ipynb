{
 "cells": [
  {
   "cell_type": "code",
   "execution_count": 1,
   "id": "b7d472d9",
   "metadata": {},
   "outputs": [],
   "source": [
    "import numpy as np\n",
    "import matplotlib.pyplot as plt\n",
    "import sympy as sym\n",
    "from scipy import integrate"
   ]
  },
  {
   "cell_type": "markdown",
   "id": "367b8882",
   "metadata": {},
   "source": [
    "#### 1. (Teórico)\n",
    "Se tiene que \n",
    "$$f(x) = \\sum_{n=0}^{\\infty} C_n P_n(x)$$\n",
    "Multipliquemos por un $P_m(x)$ a lado y lado de la expresión e integremos a cada lado:\n",
    "$$\\int_{-1}^{1} f(x)P_m(x) dx = \\int_{-1}^{1} \\sum_{n=0}^{\\infty} C_n P_n(x)P_m(x)dx$$\n",
    "$$\\int_{-1}^{1} f(x)P_m(x) dx =  \\sum_{n=0}^{\\infty}C_n \\int_{-1}^{1} P_n(x)P_m(x)dx$$\n",
    "Por ortogonalidad: \n",
    "$$\\int_{-1}^{1} f(x)P_m(x) dx =  \\frac{2}{2n+1}\\sum_{n=0}^{\\infty}C_n \\delta_{n,m}$$\n",
    "$$\\int_{-1}^{1} f(x)P_m(x) dx =  C_n \\frac{2}{2n+1}$$\n",
    "$$\\therefore C_n = \\frac{2n+1}{2}\\int_{-1}^{1} f(x)P_m(x) dx$$"
   ]
  },
  {
   "cell_type": "code",
   "execution_count": 2,
   "id": "4b40e3c8",
   "metadata": {},
   "outputs": [],
   "source": [
    "def sgn(x):\n",
    "    if x<0:\n",
    "        return -1\n",
    "    elif x==0:\n",
    "        return 0\n",
    "    elif x>0:\n",
    "        return 1"
   ]
  },
  {
   "cell_type": "code",
   "execution_count": 3,
   "id": "a1bb71c3",
   "metadata": {},
   "outputs": [
    {
     "data": {
      "text/plain": [
       "<matplotlib.collections.PathCollection at 0x7fd7e3b81a00>"
      ]
     },
     "execution_count": 3,
     "metadata": {},
     "output_type": "execute_result"
    },
    {
     "data": {
      "image/png": "[encoded data removed]",
      "text/plain": [
       "<Figure size 640x480 with 1 Axes>"
      ]
     },
     "metadata": {},
     "output_type": "display_data"
    }
   ],
   "source": [
    "X = np.linspace(-1,1,100)\n",
    "Y = np.zeros(100)\n",
    "for i in range(len(X)):\n",
    "    Y[i] = sgn(X[i])\n",
    "\n",
    "plt.scatter(X,Y,color='r')"
   ]
  },
  {
   "cell_type": "code",
   "execution_count": 4,
   "id": "2f93171a",
   "metadata": {},
   "outputs": [
    {
     "name": "stdout",
     "output_type": "stream",
     "text": [
      "[-0.98799252 -0.93727339 -0.84820658 -0.72441773 -0.57097217 -0.39415135\n",
      " -0.20119409  0.          0.20119409  0.39415135  0.57097217  0.72441773\n",
      "  0.84820658  0.93727339  0.98799252] [0.03075324 0.07036605 0.10715922 0.13957068 0.16626921 0.186161\n",
      " 0.19843149 0.20257824 0.19843149 0.186161   0.16626921 0.13957068\n",
      " 0.10715922 0.07036605 0.03075324]\n"
     ]
    }
   ],
   "source": [
    "roots, weights = np.polynomial.legendre.leggauss(15)\n",
    "print(roots, weights)"
   ]
  },
  {
   "cell_type": "code",
   "execution_count": 5,
   "id": "5a6965a2",
   "metadata": {},
   "outputs": [],
   "source": [
    "def GetLegendre(n,x):\n",
    "    y = (x**2 - 1)**n\n",
    "    poly = sym.diff( y,x,n )/(2**n * np.math.factorial(n))\n",
    "    return poly"
   ]
  },
  {
   "cell_type": "code",
   "execution_count": 79,
   "id": "6a6e2a6f",
   "metadata": {},
   "outputs": [
    {
     "data": {
      "text/plain": [
       "[1,\n",
       " x,\n",
       " (3*x**2 - 1)/2,\n",
       " x*(5*x**2 - 3)/2,\n",
       " (8*x**4 + 24*x**2*(x**2 - 1) + 3*(x**2 - 1)**2)/8,\n",
       " x*(8*x**4 + 40*x**2*(x**2 - 1) + 15*(x**2 - 1)**2)/8,\n",
       " (16*x**6 + 120*x**4*(x**2 - 1) + 90*x**2*(x**2 - 1)**2 + 5*(x**2 - 1)**3)/16,\n",
       " x*(16*x**6 + 168*x**4*(x**2 - 1) + 210*x**2*(x**2 - 1)**2 + 35*(x**2 - 1)**3)/16,\n",
       " (128*x**8 + 1792*x**6*(x**2 - 1) + 3360*x**4*(x**2 - 1)**2 + 1120*x**2*(x**2 - 1)**3 + 35*(x**2 - 1)**4)/128,\n",
       " x*(128*x**8 + 2304*x**6*(x**2 - 1) + 6048*x**4*(x**2 - 1)**2 + 3360*x**2*(x**2 - 1)**3 + 315*(x**2 - 1)**4)/128,\n",
       " (256*x**10 + 5760*x**8*(x**2 - 1) + 20160*x**6*(x**2 - 1)**2 + 16800*x**4*(x**2 - 1)**3 + 3150*x**2*(x**2 - 1)**4 + 63*(x**2 - 1)**5)/256,\n",
       " x*(256*x**10 + 7040*x**8*(x**2 - 1) + 31680*x**6*(x**2 - 1)**2 + 36960*x**4*(x**2 - 1)**3 + 11550*x**2*(x**2 - 1)**4 + 693*(x**2 - 1)**5)/256,\n",
       " (1024*x**12 + 33792*x**10*(x**2 - 1) + 190080*x**8*(x**2 - 1)**2 + 295680*x**6*(x**2 - 1)**3 + 138600*x**4*(x**2 - 1)**4 + 16632*x**2*(x**2 - 1)**5 + 231*(x**2 - 1)**6)/1024,\n",
       " x*(1024*x**12 + 39936*x**10*(x**2 - 1) + 274560*x**8*(x**2 - 1)**2 + 549120*x**6*(x**2 - 1)**3 + 360360*x**4*(x**2 - 1)**4 + 72072*x**2*(x**2 - 1)**5 + 3003*(x**2 - 1)**6)/1024,\n",
       " (2048*x**14 + 93184*x**12*(x**2 - 1) + 768768*x**10*(x**2 - 1)**2 + 1921920*x**8*(x**2 - 1)**3 + 1681680*x**6*(x**2 - 1)**4 + 504504*x**4*(x**2 - 1)**5 + 42042*x**2*(x**2 - 1)**6 + 429*(x**2 - 1)**7)/2048,\n",
       " x*(2048*x**14 + 107520*x**12*(x**2 - 1) + 1048320*x**10*(x**2 - 1)**2 + 3203200*x**8*(x**2 - 1)**3 + 3603600*x**6*(x**2 - 1)**4 + 1513512*x**4*(x**2 - 1)**5 + 210210*x**2*(x**2 - 1)**6 + 6435*(x**2 - 1)**7)/2048,\n",
       " (32768*x**16 + 1966080*x**14*(x**2 - 1) + 22364160*x**12*(x**2 - 1)**2 + 82001920*x**10*(x**2 - 1)**3 + 115315200*x**8*(x**2 - 1)**4 + 64576512*x**6*(x**2 - 1)**5 + 13453440*x**4*(x**2 - 1)**6 + 823680*x**2*(x**2 - 1)**7 + 6435*(x**2 - 1)**8)/32768,\n",
       " x*(32768*x**16 + 2228224*x**14*(x**2 - 1) + 29245440*x**12*(x**2 - 1)**2 + 126730240*x**10*(x**2 - 1)**3 + 217817600*x**8*(x**2 - 1)**4 + 156828672*x**6*(x**2 - 1)**5 + 45741696*x**4*(x**2 - 1)**6 + 4667520*x**2*(x**2 - 1)**7 + 109395*(x**2 - 1)**8)/32768,\n",
       " (65536*x**18 + 5013504*x**16*(x**2 - 1) + 75202560*x**14*(x**2 - 1)**2 + 380190720*x**12*(x**2 - 1)**3 + 784143360*x**10*(x**2 - 1)**4 + 705729024*x**8*(x**2 - 1)**5 + 274450176*x**6*(x**2 - 1)**6 + 42007680*x**4*(x**2 - 1)**7 + 1969110*x**2*(x**2 - 1)**8 + 12155*(x**2 - 1)**9)/65536,\n",
       " x*(65536*x**18 + 5603328*x**16*(x**2 - 1) + 95256576*x**14*(x**2 - 1)**2 + 555663360*x**12*(x**2 - 1)**3 + 1354429440*x**10*(x**2 - 1)**4 + 1489872384*x**8*(x**2 - 1)**5 + 744936192*x**6*(x**2 - 1)**6 + 159629184*x**4*(x**2 - 1)**7 + 12471030*x**2*(x**2 - 1)**8 + 230945*(x**2 - 1)**9)/65536,\n",
       " (262144*x**20 + 24903680*x**18*(x**2 - 1) + 476282880*x**16*(x**2 - 1)**2 + 3175219200*x**14*(x**2 - 1)**3 + 9029529600*x**12*(x**2 - 1)**4 + 11918979072*x**10*(x**2 - 1)**5 + 7449361920*x**8*(x**2 - 1)**6 + 2128389120*x**6*(x**2 - 1)**7 + 249420600*x**4*(x**2 - 1)**8 + 9237800*x**2*(x**2 - 1)**9 + 46189*(x**2 - 1)**10)/262144]"
      ]
     },
     "execution_count": 79,
     "metadata": {},
     "output_type": "execute_result"
    }
   ],
   "source": [
    "x = sym.Symbol('x')\n",
    "N = 21\n",
    "poly = []\n",
    "for i in range(N):\n",
    "    poly.append(GetLegendre(i,x))\n",
    "    \n",
    "poly"
   ]
  },
  {
   "cell_type": "markdown",
   "id": "3905dcf1",
   "metadata": {},
   "source": [
    "Teniendo en cuenta que\n",
    "$$C_n = \\frac{2n+1}{2}\\int_{-1}^{1}f(x)P_n(x) dx$$\n",
    "Se puede evaluar la función $sgn(x)$:\n",
    "$$\\implies C_n = \\frac{2n+1}{2}\\left(\\int_{-1}^{0}(-1)P_n(x) dx + \\int_{0}^{1}(1)P_n(x) dx\\right)$$\n",
    "\n",
    "Haciendo eso en código:"
   ]
  },
  {
   "cell_type": "code",
   "execution_count": 80,
   "id": "bca30ebe",
   "metadata": {},
   "outputs": [
    {
     "data": {
      "text/plain": [
       "array([ 0.        ,  1.5       ,  0.        , -0.875     ,  0.        ,\n",
       "        0.6875    ,  0.        , -0.5859375 ,  0.        ,  0.51953125,\n",
       "        0.        , -0.47167969,  0.        ,  0.43505859,  0.        ,\n",
       "       -0.40585327,  0.        ,  0.3818512 ,  0.        , -0.36166763,\n",
       "        0.        ])"
      ]
     },
     "execution_count": 80,
     "metadata": {},
     "output_type": "execute_result"
    }
   ],
   "source": [
    "def Ci (N):\n",
    "    Cn = []\n",
    "    for i in range(N):\n",
    "        pn = sym.lambdify([x], poly[i], 'numpy')\n",
    "        I1 = -integrate.quad(pn,-1,0)[0]\n",
    "        I2 = integrate.quad(pn,0,1)[0]\n",
    "        Cn.append((2*i+1)*(I1+I2)/2)\n",
    "    return np.array(Cn)\n",
    "\n",
    "Cn=Ci(N)\n",
    "Cn"
   ]
  },
  {
   "cell_type": "code",
   "execution_count": 98,
   "id": "14bf68d5",
   "metadata": {},
   "outputs": [],
   "source": [
    "def suma(X):\n",
    "    Sum=0\n",
    "    for i in range(len(poly)):\n",
    "        pi = GetLegendre(i,x),\n",
    "        pn = sym.lambdify([x], pi,'numpy')\n",
    "        Sum+=Cn[i]*pn(X)\n",
    "    return Sum\n"
   ]
  },
  {
   "cell_type": "code",
   "execution_count": 101,
   "id": "611b464a",
   "metadata": {},
   "outputs": [
    {
     "data": {
      "text/plain": [
       "[<matplotlib.lines.Line2D at 0x7fd7f188b790>]"
      ]
     },
     "execution_count": 101,
     "metadata": {},
     "output_type": "execute_result"
    },
    {
     "data": {
      "image/png": "[encoded data removed]",
      "text/plain": [
       "<Figure size 640x480 with 1 Axes>"
      ]
     },
     "metadata": {},
     "output_type": "display_data"
    }
   ],
   "source": [
    "X = np.linspace(-1,1,100)\n",
    "XL = np.linspace(-1,1,100)\n",
    "\n",
    "Y = np.zeros(100)\n",
    "YL = np.zeros(100)\n",
    "\n",
    "for i in range(len(X)):\n",
    "    Y[i] = sgn(X[i])\n",
    "    YL[i] = suma(XL[i])\n",
    "\n",
    "plt.scatter(X,Y,color='r')\n",
    "plt.plot(XL,YL)"
   ]
  },
  {
   "cell_type": "code",
   "execution_count": null,
   "id": "3868935a",
   "metadata": {},
   "outputs": [],
   "source": []
  }
 ],
 "metadata": {
  "kernelspec": {
   "display_name": "Python 3 (ipykernel)",
   "language": "python",
   "name": "python3"
  },
  "language_info": {
   "codemirror_mode": {
    "name": "ipython",
    "version": 3
   },
   "file_extension": ".py",
   "mimetype": "text/x-python",
   "name": "python",
   "nbconvert_exporter": "python",
   "pygments_lexer": "ipython3",
   "version": "3.9.13"
  }
 },
 "nbformat": 4,
 "nbformat_minor": 5
}
