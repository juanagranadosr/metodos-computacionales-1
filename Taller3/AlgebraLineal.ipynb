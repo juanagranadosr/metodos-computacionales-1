{
 "cells": [
  {
   "cell_type": "code",
   "execution_count": 1,
   "id": "48d4c631",
   "metadata": {},
   "outputs": [],
   "source": [
    "import numpy as np\n",
    "import matplotlib.pyplot as plt\n",
    "import sympy as sym\n",
    "from scipy import integrate"
   ]
  },
  {
   "cell_type": "markdown",
   "id": "6f1bef0e",
   "metadata": {},
   "source": [
    "Ejercicios: Álgebra lineal\n",
    "\n",
    "Problemas: 3,4,5,6,7,9,10,12,13,14,15"
   ]
  },
  {
   "cell_type": "markdown",
   "id": "6f7326ff",
   "metadata": {},
   "source": [
    "## Punto 3. Algoritmo para mutiplicar dos matrices"
   ]
  },
  {
   "cell_type": "code",
   "execution_count": 22,
   "id": "dbe5070d",
   "metadata": {},
   "outputs": [],
   "source": [
    "def MultiplyMatrix(matrix1, matrix2):\n",
    "    if len(matrix1[0])!=len(matrix2):\n",
    "        return 'No es posible realizar el producto.'\n",
    "    else:\n",
    "        result_matrix = np.zeros([len(matrix1),len(matrix2[0])])\n",
    "        for i in range(len(matrix1)):\n",
    "            for j in range(len(matrix2[0])):\n",
    "                for k in range(len(matrix2)):\n",
    "                    result_matrix[i][j] += matrix1[i][k]*matrix2[k][j]\n",
    "        return result_matrix"
   ]
  },
  {
   "cell_type": "code",
   "execution_count": 24,
   "id": "6c1f929b",
   "metadata": {},
   "outputs": [
    {
     "data": {
      "text/plain": [
       "array([[ 4., -2.,  1.],\n",
       "       [20., -7., 12.],\n",
       "       [-8., 13., 21.]])"
      ]
     },
     "execution_count": 24,
     "metadata": {},
     "output_type": "execute_result"
    }
   ],
   "source": [
    "M1 = np.array([[1, 0, 0],[5, 1, 0],[-2, 3, 1]])\n",
    "M2 = np.array([[4, -2, 1],[0, 3, 7],[0, 0, 2]])\n",
    "\n",
    "MultiplyMatrix(M1,M2)"
   ]
  },
  {
   "cell_type": "code",
   "execution_count": null,
   "id": "77c0217d",
   "metadata": {},
   "outputs": [],
   "source": []
  },
  {
   "cell_type": "code",
   "execution_count": null,
   "id": "acc9c05e",
   "metadata": {},
   "outputs": [],
   "source": []
  }
 ],
 "metadata": {
  "kernelspec": {
   "display_name": "Python 3 (ipykernel)",
   "language": "python",
   "name": "python3"
  },
  "language_info": {
   "codemirror_mode": {
    "name": "ipython",
    "version": 3
   },
   "file_extension": ".py",
   "mimetype": "text/x-python",
   "name": "python",
   "nbconvert_exporter": "python",
   "pygments_lexer": "ipython3",
   "version": "3.9.13"
  }
 },
 "nbformat": 4,
 "nbformat_minor": 5
}
