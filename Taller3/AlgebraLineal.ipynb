{
 "cells": [
  {
   "cell_type": "code",
   "execution_count": 1,
   "id": "48d4c631",
   "metadata": {},
   "outputs": [],
   "source": [
    "import numpy as np\n",
    "import matplotlib.pyplot as plt\n",
    "import sympy as sym\n",
    "from scipy import integrate\n",
    "import scipy.linalg"
   ]
  },
  {
   "cell_type": "markdown",
   "id": "6f1bef0e",
   "metadata": {},
   "source": [
    "Ejercicios: Álgebra lineal\n",
    "\n",
    "Faltan: 4,5,10,12\n",
    "\n",
    "Listos: 3,6,7,9, ,13,14,15"
   ]
  },
  {
   "cell_type": "markdown",
   "id": "6f7326ff",
   "metadata": {},
   "source": [
    "## Punto 3. Algoritmo para mutiplicar dos matrices"
   ]
  },
  {
   "cell_type": "code",
   "execution_count": 2,
   "id": "dbe5070d",
   "metadata": {},
   "outputs": [],
   "source": [
    "def MultiplyMatrix(matrix1, matrix2):\n",
    "    \n",
    "    if len(matrix1[0])!=len(matrix2):\n",
    "        return 'No es posible realizar el producto.'\n",
    "    else:\n",
    "        resultMatrix = np.zeros([len(matrix1),len(matrix2[0])])\n",
    "        for i in range(len(matrix1)):\n",
    "            for j in range(len(matrix2[0])):\n",
    "                for k in range(len(matrix2)):\n",
    "                    resultMatrix[i][j] += matrix1[i][k]*matrix2[k][j]\n",
    "        return resultMatrix"
   ]
  },
  {
   "cell_type": "code",
   "execution_count": 3,
   "id": "6c1f929b",
   "metadata": {},
   "outputs": [
    {
     "data": {
      "text/plain": [
       "array([[ 4., -2.,  1.],\n",
       "       [20., -7., 12.],\n",
       "       [-8., 13., 21.]])"
      ]
     },
     "execution_count": 3,
     "metadata": {},
     "output_type": "execute_result"
    }
   ],
   "source": [
    "M1 = np.array([[1, 0, 0],[5, 1, 0],[-2, 3, 1]])\n",
    "M2 = np.array([[4, -2, 1],[0, 3, 7],[0, 0, 2]])\n",
    "\n",
    "MultiplyMatrix(M1,M2)"
   ]
  },
  {
   "cell_type": "markdown",
   "id": "b4515026",
   "metadata": {},
   "source": [
    "## Punto 4. \n",
    "**(Theoretical)** Muestre con detalle que la sustituci´on hacia adelante se expresa como:\n",
    "$$x_i = b_i + \\sum_{j=0}^{i-1} A_{ij}x_j.$$"
   ]
  },
  {
   "cell_type": "markdown",
   "id": "976e51ea",
   "metadata": {},
   "source": [
    "Esta prueba será realizada por inducción en $i$:\n",
    "\n",
    "**Caso Base.**\n",
    "\n",
    "Se tiene que $i=1$. Entonces, $$x_1 = b_1,$$ que corresponde a la primera ecuación del sistema matricial.\n",
    "\n",
    "**Hipótesis de Inducción.**\n",
    "\n",
    "Se toma como cierto el caso de $i-1$:\n",
    "$$x_{i-1} = b_{i-1} + \\sum_{j=0}^{i-2} A_{ij}x_j.$$\n",
    "\n",
    "**Paso Inductivo.**\n",
    "\n",
    "Para el paso inductivo se supondrá la hipótesis de inducción y se demostrará que es cierto para $i$. Para el sistema $i$ se tiene que\n",
    "\n",
    "\n",
    "$$ b_{i} = \\sum_{j=0}^{i-1} A_{ij}x_i = A_{ii}x_i + \\sum_{j=0}^{i-1} A_{ij}x_i$$\n"
   ]
  },
  {
   "cell_type": "markdown",
   "id": "88e8372f",
   "metadata": {},
   "source": [
    "## Punto 6. "
   ]
  },
  {
   "cell_type": "code",
   "execution_count": 4,
   "id": "987fb2a0",
   "metadata": {},
   "outputs": [],
   "source": [
    "def SOR(A, b, x0, omega, itmax=800, tol=1e-9):\n",
    "    \n",
    "    x = x0.copy()\n",
    "    \n",
    "    for it in range(1,itmax):\n",
    "        for i in range(A.shape[0]):\n",
    "            sum_ = 0.\n",
    "            for j in range(A.shape[1]):\n",
    "                if j!=i:\n",
    "                    sum_ += A[i,j]*x[j]\n",
    "            x[i] = (1-omega)*x[i] + omega*((b[i] - sum_)/A[i,i])\n",
    "        \n",
    "        residuo = np.linalg.norm( np.dot(A,x) - b )\n",
    "        \n",
    "        if np.allclose(residuo, tol, atol=tol):\n",
    "            break\n",
    "    return x, it\n",
    "\n"
   ]
  },
  {
   "cell_type": "code",
   "execution_count": 5,
   "id": "e3469ebb",
   "metadata": {},
   "outputs": [
    {
     "name": "stdout",
     "output_type": "stream",
     "text": [
      "Solución:  [1. 1. 1.] \n",
      "Omega óptimo: 0.9828282828282827 \n",
      "Número óptimo de iteraciones: 15\n"
     ]
    }
   ],
   "source": [
    "A = np.array([[3,-1,-1],[-1.,3.,1.],[2,1,4]])\n",
    "b = np.array([1.,3.,7.])\n",
    "x = np.array([0.,0.,0.])\n",
    "\n",
    "omega = np.linspace(0.1, 2, 100)\n",
    "omega_opt = np.inf\n",
    "iter_opt = 1000-1\n",
    "\n",
    "for i in omega:\n",
    "    if SOR(A, b, x, i)[1]< (iter_opt):\n",
    "        omega_opt = i\n",
    "        iter_opt = SOR(A, b, x, i)[1]\n",
    "        X = SOR(A, b, x, i)[0]\n",
    "        \n",
    "print('Solución: ',X, '\\nOmega óptimo:', omega_opt, '\\nNúmero óptimo de iteraciones:', iter_opt)"
   ]
  },
  {
   "cell_type": "markdown",
   "id": "4df00a37",
   "metadata": {},
   "source": [
    "## Punto 7. Algoritmo de descomposición"
   ]
  },
  {
   "cell_type": "code",
   "execution_count": 6,
   "id": "a85dfff1",
   "metadata": {},
   "outputs": [],
   "source": [
    "def LUdecomposition(matrix):\n",
    "    \n",
    "    n = len(matrix)\n",
    "    L = np.zeros((n,n))\n",
    "    U = np.zeros((n,n))\n",
    "\n",
    "    for i in range(n):\n",
    "        L[i][i] = 1\n",
    "        # Upper matrix\n",
    "        for j in range(i, n):\n",
    "            for k in range(i):\n",
    "                U[i][j] = matrix[i][j] - np.sum(U[k][j]*L[i][k])\n",
    "        # Lower matrix\n",
    "        for j in range(i + 1, n):\n",
    "            for k in range(i):\n",
    "                L[j][i] = (matrix[j][i] - np.sum(U[k][i] * L[j][k]))/U[i][i]\n",
    "    return L,U"
   ]
  },
  {
   "cell_type": "code",
   "execution_count": 7,
   "id": "984aa991",
   "metadata": {},
   "outputs": [
    {
     "name": "stdout",
     "output_type": "stream",
     "text": [
      " L: \n",
      " [[ 1.          0.          0.        ]\n",
      " [ 0.          1.          0.        ]\n",
      " [ 0.         -1.85714286  1.        ]] \n",
      " U: \n",
      " [[ 0.          0.          0.        ]\n",
      " [ 0.         -7.         12.        ]\n",
      " [ 0.          0.         39.28571429]]\n"
     ]
    }
   ],
   "source": [
    "A = np.array([[4, -2, 1], [20, -7, 12], [-8, 13, 17]])\n",
    "\n",
    "L,U = LUdecomposition(A)\n",
    "print(' L: \\n', L, '\\n U: \\n', U)"
   ]
  },
  {
   "cell_type": "markdown",
   "id": "98fb79ee",
   "metadata": {},
   "source": [
    "## Punto 9. Método de Jacobi: diagonalización de matrices simétricas."
   ]
  },
  {
   "cell_type": "markdown",
   "id": "665eacd7",
   "metadata": {},
   "source": [
    "#### (a) Implemente el método de Jacobi para encontrar los valores y vectores propios de $\\mathbb{A}$."
   ]
  },
  {
   "cell_type": "code",
   "execution_count": 8,
   "id": "058a70ec",
   "metadata": {},
   "outputs": [],
   "source": [
    "def jacobiDiagonalization(A, itmax=1000, tol=1e-14):\n",
    "    \n",
    "    n = A.shape[0]\n",
    "    D = A.copy()\n",
    "    VMatrix = np.identity(n)\n",
    "    \n",
    "    # SUMA DE LOS ELEMENTOS DISTINTOS A LA DIAGONAL\n",
    "    # Y LOS ELEMENTOS EN EL TRIANGULO INFERIOR\n",
    "    res = np.sum(np.abs(np.triu(D, k=1)))\n",
    "    \n",
    "    count = 0\n",
    "\n",
    "    while count<itmax and res>tol:\n",
    "        # MATRIZ TRIANGULAR SUPERIOR\n",
    "        DUP = np.triu(D, k=1)\n",
    "        # INDICE MAYOR EN LA DIAGONAL\n",
    "        idx = np.argmax(np.abs(DUP))\n",
    "        p, q = np.unravel_index(idx, DUP.shape)\n",
    "        \n",
    "        \n",
    "        # MATRIZ DE ROTACIÓN R(THETA)\n",
    "        theta = np.arctan2(2.*D[p, q],(D[q, q] - D[p, p]))/2.\n",
    "        R = np.identity(n)\n",
    "        R[p, p] = np.cos(theta)\n",
    "        R[q, q] = np.cos(theta)\n",
    "        R[p, q] = -np.sin(theta)\n",
    "        R[q, p] = np.sin(theta)\n",
    "\n",
    "        # ACTUALIZACIÓN MATRIZ DE VALORES Y VECTORES PROPIOS\n",
    "        D = R.T @ D @ R\n",
    "        VMatrix = VMatrix @ R\n",
    "\n",
    "        # SUMAR LOS VALORES QUE QUEDARON POR FUERA DE LA DIAGONAL\n",
    "        res = np.sum(np.abs(np.triu(D, k=1)))\n",
    "        count += 1\n",
    "\n",
    "    eigValues = np.diag(D)\n",
    "    eigVectors = VMatrix / np.linalg.norm(VMatrix, axis=0)\n",
    "    eigVectors[:,1] = -eigVectors[:,1]\n",
    "    \n",
    "    return eigValues, eigVectors"
   ]
  },
  {
   "cell_type": "code",
   "execution_count": 9,
   "id": "c717e6d1",
   "metadata": {},
   "outputs": [
    {
     "name": "stdout",
     "output_type": "stream",
     "text": [
      "Con el método de Jacobi:\n",
      "\n",
      " - Valores propios: \n",
      " [6.8672772  3.39725929 1.73546351] \n",
      "\n",
      " - Matriz de vectores propios (columna): \n",
      " [[ 0.44012262  0.88613215  0.14512713]\n",
      " [ 0.43290596 -0.06779913 -0.89888582]\n",
      " [ 0.78669213 -0.45844638  0.41345182]]\n"
     ]
    }
   ],
   "source": [
    "A = np.array([[4,1,1], [1,3,2], [1,2,5]])\n",
    "\n",
    "print('Con el método de Jacobi:\\n\\n','- Valores propios: \\n', jacobiDiagonalization(A)[0]\n",
    "      ,'\\n\\n - Matriz de vectores propios (columna): \\n', jacobiDiagonalization(A)[1])"
   ]
  },
  {
   "cell_type": "markdown",
   "id": "3f1fa211",
   "metadata": {},
   "source": [
    "#### (b) Compare con el resultado que se obtiene de Numpy: np.linalg.eig(A)."
   ]
  },
  {
   "cell_type": "code",
   "execution_count": 10,
   "id": "f4b3e479",
   "metadata": {},
   "outputs": [
    {
     "name": "stdout",
     "output_type": "stream",
     "text": [
      "Con la función predeterminada de numpy:\n",
      "\n",
      " - Valores propios: \n",
      " [6.89510652 3.39729507 1.70759841] \n",
      "\n",
      " - Matriz de vectores propios (columna): \n",
      " [[ 0.43170413  0.88573564  0.17059871]\n",
      " [ 0.49725362 -0.07589338 -0.86427949]\n",
      " [ 0.75257583 -0.45794385  0.47319874]]\n"
     ]
    }
   ],
   "source": [
    "print('Con la función predeterminada de numpy:\\n\\n','- Valores propios: \\n', np.linalg.eig(A)[0]\n",
    "      ,'\\n\\n - Matriz de vectores propios (columna): \\n', np.linalg.eig(A)[1])"
   ]
  },
  {
   "cell_type": "code",
   "execution_count": 11,
   "id": "0d35a3e0",
   "metadata": {},
   "outputs": [
    {
     "name": "stdout",
     "output_type": "stream",
     "text": [
      "Diferencia valores propios: \n",
      " [ 2.78293166e-02  3.57800416e-05 -2.78650967e-02] \n",
      "\n",
      "Diferencia vectores propios: \n",
      " [[-0.00841849 -0.00039651  0.02547158]\n",
      " [ 0.06434766 -0.00809426  0.03460633]\n",
      " [-0.0341163   0.00050253  0.05974692]]\n"
     ]
    }
   ],
   "source": [
    "print('Diferencia valores propios: \\n', np.linalg.eig(A)[0]-jacobiDiagonalization(A)[0],\n",
    "     '\\n\\nDiferencia vectores propios: \\n', np.linalg.eig(A)[1]-jacobiDiagonalization(A)[1])"
   ]
  },
  {
   "cell_type": "markdown",
   "id": "608805d3",
   "metadata": {},
   "source": [
    "## Punto 10. Quantum system - ground state."
   ]
  },
  {
   "cell_type": "code",
   "execution_count": 12,
   "id": "c4ded8f5",
   "metadata": {},
   "outputs": [],
   "source": [
    "H = np.array([[1,2,-1], [1,0,1], [4,-4,5]])"
   ]
  },
  {
   "cell_type": "markdown",
   "id": "b7ae6d50",
   "metadata": {},
   "source": [
    "## Punto 12. (Jacobiano de cuarto orden)"
   ]
  },
  {
   "cell_type": "markdown",
   "id": "3bf40466",
   "metadata": {},
   "source": [
    "#### (a) Escriba una función que estime el Jacobiano con el operador derivada de orden ${O}(h^4)$."
   ]
  },
  {
   "cell_type": "code",
   "execution_count": 70,
   "id": "b599cdba",
   "metadata": {},
   "outputs": [],
   "source": [
    "def Jacobian(func, x, h):\n",
    "    return -(func(x + 2*h) + 8*func(x+h) - 8*func(x-h) + f(x-2*h))/(12*h)"
   ]
  },
  {
   "cell_type": "markdown",
   "id": "d50b1bfb",
   "metadata": {},
   "source": [
    "#### (b) Estime el Jacobiano de la función del problema anterior (5.70) en el punto $x =(0.5, 0.5, 0.5)$ con $h = 0.01$."
   ]
  },
  {
   "cell_type": "code",
   "execution_count": null,
   "id": "9efe8dc6",
   "metadata": {},
   "outputs": [],
   "source": [
    "def f1(x1, x2, x3):\n",
    "    return 6*x1 - 2*np.cos(x2*x3) - 1\n",
    "\n",
    "def f2(x1, x2, x3):\n",
    "    return 9*x2 + np.sqrt(x1**2 + np.sin(x3) + 1.06) + 0.9\n",
    "\n",
    "def f3(x1,x2,x3):\n",
    "    return 60*x3 + 3*np.exp(-x)"
   ]
  },
  {
   "cell_type": "markdown",
   "id": "4f52572a",
   "metadata": {
    "scrolled": true
   },
   "source": [
    "## Punto 13.  (Group theory, Sympy)"
   ]
  },
  {
   "cell_type": "code",
   "execution_count": 13,
   "id": "c1a24e3b",
   "metadata": {},
   "outputs": [],
   "source": [
    "Jx = sym.Matrix([[0, 0, 0], [0, 0, -1], [0, 1, 0]])\n",
    "Jy = sym.Matrix([[0, 0, 1], [0, 0, 0], [-1, 0, 0]])\n",
    "Jz = sym.Matrix([[0, -1, 0], [1, 0, 0], [0, 0, 0]])"
   ]
  },
  {
   "cell_type": "markdown",
   "id": "5c50e9d2",
   "metadata": {},
   "source": [
    "**Caso 1.** [$J_i,J_j$] = $\\epsilon_ij J_k$ para $i=x$, $j=y$ y $j=x$, $i=y$:"
   ]
  },
  {
   "cell_type": "code",
   "execution_count": 38,
   "id": "f8cfb7d8",
   "metadata": {},
   "outputs": [
    {
     "data": {
      "text/latex": [
       "$\\displaystyle \\left[\\begin{matrix}0 & 0 & 0\\\\0 & 0 & 0\\\\0 & 0 & 0\\end{matrix}\\right]$"
      ],
      "text/plain": [
       "Matrix([\n",
       "[0, 0, 0],\n",
       "[0, 0, 0],\n",
       "[0, 0, 0]])"
      ]
     },
     "execution_count": 38,
     "metadata": {},
     "output_type": "execute_result"
    }
   ],
   "source": [
    "Jx@Jy-Jy@Jx - 1*Jz"
   ]
  },
  {
   "cell_type": "code",
   "execution_count": 37,
   "id": "6b4bd2da",
   "metadata": {
    "scrolled": true
   },
   "outputs": [
    {
     "data": {
      "text/latex": [
       "$\\displaystyle \\left[\\begin{matrix}0 & 0 & 0\\\\0 & 0 & 0\\\\0 & 0 & 0\\end{matrix}\\right]$"
      ],
      "text/plain": [
       "Matrix([\n",
       "[0, 0, 0],\n",
       "[0, 0, 0],\n",
       "[0, 0, 0]])"
      ]
     },
     "execution_count": 37,
     "metadata": {},
     "output_type": "execute_result"
    }
   ],
   "source": [
    "Jy@Jx-Jx@Jy - (-1)*Jz"
   ]
  },
  {
   "cell_type": "markdown",
   "id": "ecbe4fc0",
   "metadata": {},
   "source": [
    "Verificando así que la igualdad se cumple."
   ]
  },
  {
   "cell_type": "markdown",
   "id": "39221ee3",
   "metadata": {},
   "source": [
    "**Caso 2.** [$J_i,J_j$] = $\\epsilon_ij J_k$ para $i=x$, $j=z$ y $j=x$, $i=z$::"
   ]
  },
  {
   "cell_type": "code",
   "execution_count": 39,
   "id": "05a5a8b3",
   "metadata": {
    "scrolled": true
   },
   "outputs": [
    {
     "data": {
      "text/latex": [
       "$\\displaystyle \\left[\\begin{matrix}0 & 0 & 0\\\\0 & 0 & 0\\\\0 & 0 & 0\\end{matrix}\\right]$"
      ],
      "text/plain": [
       "Matrix([\n",
       "[0, 0, 0],\n",
       "[0, 0, 0],\n",
       "[0, 0, 0]])"
      ]
     },
     "execution_count": 39,
     "metadata": {},
     "output_type": "execute_result"
    }
   ],
   "source": [
    "Jz@Jx-Jx@Jz - (1)*Jy"
   ]
  },
  {
   "cell_type": "code",
   "execution_count": 41,
   "id": "464fbc8b",
   "metadata": {},
   "outputs": [
    {
     "data": {
      "text/latex": [
       "$\\displaystyle \\left[\\begin{matrix}0 & 0 & 0\\\\0 & 0 & 0\\\\0 & 0 & 0\\end{matrix}\\right]$"
      ],
      "text/plain": [
       "Matrix([\n",
       "[0, 0, 0],\n",
       "[0, 0, 0],\n",
       "[0, 0, 0]])"
      ]
     },
     "execution_count": 41,
     "metadata": {},
     "output_type": "execute_result"
    }
   ],
   "source": [
    "Jx@Jz-Jz@Jx - (-1)*Jy"
   ]
  },
  {
   "cell_type": "markdown",
   "id": "25b091d2",
   "metadata": {},
   "source": [
    "**Caso 3.** [$J_i,J_j$] = $\\epsilon_ij J_k$ para $i=y$, $j=z$ y $j=y$, $i=z$::"
   ]
  },
  {
   "cell_type": "code",
   "execution_count": 42,
   "id": "6d88ce2c",
   "metadata": {
    "scrolled": true
   },
   "outputs": [
    {
     "data": {
      "text/latex": [
       "$\\displaystyle \\left[\\begin{matrix}0 & 0 & 0\\\\0 & 0 & 0\\\\0 & 0 & 0\\end{matrix}\\right]$"
      ],
      "text/plain": [
       "Matrix([\n",
       "[0, 0, 0],\n",
       "[0, 0, 0],\n",
       "[0, 0, 0]])"
      ]
     },
     "execution_count": 42,
     "metadata": {},
     "output_type": "execute_result"
    }
   ],
   "source": [
    "Jz@Jy-Jy@Jz - (-1)*Jx"
   ]
  },
  {
   "cell_type": "code",
   "execution_count": 43,
   "id": "a5d78cc6",
   "metadata": {},
   "outputs": [
    {
     "data": {
      "text/latex": [
       "$\\displaystyle \\left[\\begin{matrix}0 & 0 & 0\\\\0 & 0 & 0\\\\0 & 0 & 0\\end{matrix}\\right]$"
      ],
      "text/plain": [
       "Matrix([\n",
       "[0, 0, 0],\n",
       "[0, 0, 0],\n",
       "[0, 0, 0]])"
      ]
     },
     "execution_count": 43,
     "metadata": {},
     "output_type": "execute_result"
    }
   ],
   "source": [
    "Jy@Jz-Jz@Jy - 1*Jx"
   ]
  },
  {
   "cell_type": "markdown",
   "id": "78d2d372",
   "metadata": {},
   "source": [
    "**Caso 3.** [$J_i,J_j$] = $\\epsilon_ij J_k = 0$ para indices repetidos:"
   ]
  },
  {
   "cell_type": "code",
   "execution_count": 45,
   "id": "70aae6fc",
   "metadata": {},
   "outputs": [
    {
     "data": {
      "text/latex": [
       "$\\displaystyle \\left[\\begin{matrix}0 & 0 & 0\\\\0 & 0 & 0\\\\0 & 0 & 0\\end{matrix}\\right]$"
      ],
      "text/plain": [
       "Matrix([\n",
       "[0, 0, 0],\n",
       "[0, 0, 0],\n",
       "[0, 0, 0]])"
      ]
     },
     "execution_count": 45,
     "metadata": {},
     "output_type": "execute_result"
    }
   ],
   "source": [
    "Jx@Jx-Jx@Jx"
   ]
  },
  {
   "cell_type": "code",
   "execution_count": 44,
   "id": "aca4322e",
   "metadata": {},
   "outputs": [
    {
     "data": {
      "text/latex": [
       "$\\displaystyle \\left[\\begin{matrix}0 & 0 & 0\\\\0 & 0 & 0\\\\0 & 0 & 0\\end{matrix}\\right]$"
      ],
      "text/plain": [
       "Matrix([\n",
       "[0, 0, 0],\n",
       "[0, 0, 0],\n",
       "[0, 0, 0]])"
      ]
     },
     "execution_count": 44,
     "metadata": {},
     "output_type": "execute_result"
    }
   ],
   "source": [
    "Jy@Jy-Jy@Jy"
   ]
  },
  {
   "cell_type": "code",
   "execution_count": 46,
   "id": "60f77996",
   "metadata": {},
   "outputs": [
    {
     "data": {
      "text/latex": [
       "$\\displaystyle \\left[\\begin{matrix}0 & 0 & 0\\\\0 & 0 & 0\\\\0 & 0 & 0\\end{matrix}\\right]$"
      ],
      "text/plain": [
       "Matrix([\n",
       "[0, 0, 0],\n",
       "[0, 0, 0],\n",
       "[0, 0, 0]])"
      ]
     },
     "execution_count": 46,
     "metadata": {},
     "output_type": "execute_result"
    }
   ],
   "source": [
    "Jz@Jz-Jz@Jz"
   ]
  },
  {
   "cell_type": "markdown",
   "id": "cd667c4d",
   "metadata": {},
   "source": [
    "Verificando así que la igualdad se cumple para todos los casos."
   ]
  },
  {
   "cell_type": "markdown",
   "id": "2f770735",
   "metadata": {},
   "source": [
    "## Punto 14. (Group theory, Sympy)"
   ]
  },
  {
   "cell_type": "code",
   "execution_count": 18,
   "id": "e4c0369c",
   "metadata": {},
   "outputs": [],
   "source": [
    "sigmax = sym.Matrix([[0, 1], [1, 0]])\n",
    "sigmay = sym.Matrix([[0, -1j], [1j, 0]])\n",
    "sigmaz = sym.Matrix([[1, 0], [0, -1]])"
   ]
  },
  {
   "cell_type": "markdown",
   "id": "d404fc0a",
   "metadata": {},
   "source": [
    "Verifiquemos ahroa que se satisface que [$\\sigma_i, \\sigma_j$] $= 2i\\epsilon_{ijk}\\sigma_{k}$:"
   ]
  },
  {
   "cell_type": "code",
   "execution_count": 19,
   "id": "715f2c42",
   "metadata": {},
   "outputs": [],
   "source": [
    "def conmutador(A, B):\n",
    "    return A@B-B@A"
   ]
  },
  {
   "cell_type": "markdown",
   "id": "d90da85d",
   "metadata": {},
   "source": [
    "**Caso 1.1.** $i=x$ y $j=y$."
   ]
  },
  {
   "cell_type": "code",
   "execution_count": 20,
   "id": "1d8ea5f5",
   "metadata": {},
   "outputs": [
    {
     "data": {
      "text/latex": [
       "$\\displaystyle \\left[\\begin{matrix}0 & 0\\\\0 & 0\\end{matrix}\\right]$"
      ],
      "text/plain": [
       "Matrix([\n",
       "[0, 0],\n",
       "[0, 0]])"
      ]
     },
     "execution_count": 20,
     "metadata": {},
     "output_type": "execute_result"
    }
   ],
   "source": [
    "conmutador(sigmax,sigmay) - 2*(1)*1j*sigmaz"
   ]
  },
  {
   "cell_type": "markdown",
   "id": "7fba0def",
   "metadata": {},
   "source": [
    "**Caso 1.2.** $i=y$ y $j=x$."
   ]
  },
  {
   "cell_type": "code",
   "execution_count": 21,
   "id": "028fb840",
   "metadata": {},
   "outputs": [
    {
     "data": {
      "text/latex": [
       "$\\displaystyle \\left[\\begin{matrix}0 & 0\\\\0 & 0\\end{matrix}\\right]$"
      ],
      "text/plain": [
       "Matrix([\n",
       "[0, 0],\n",
       "[0, 0]])"
      ]
     },
     "execution_count": 21,
     "metadata": {},
     "output_type": "execute_result"
    }
   ],
   "source": [
    "conmutador(sigmay,sigmax) + 2*(1)*1j*sigmaz"
   ]
  },
  {
   "cell_type": "markdown",
   "id": "0176ccfa",
   "metadata": {},
   "source": [
    "**Caso 2.1.** $i=x$ y $j=z$."
   ]
  },
  {
   "cell_type": "code",
   "execution_count": 22,
   "id": "70626c28",
   "metadata": {},
   "outputs": [
    {
     "data": {
      "text/latex": [
       "$\\displaystyle \\left[\\begin{matrix}0 & 0\\\\0 & 0\\end{matrix}\\right]$"
      ],
      "text/plain": [
       "Matrix([\n",
       "[0, 0],\n",
       "[0, 0]])"
      ]
     },
     "execution_count": 22,
     "metadata": {},
     "output_type": "execute_result"
    }
   ],
   "source": [
    "conmutador(sigmax,sigmaz) - 2*(-1)*1j*sigmay"
   ]
  },
  {
   "cell_type": "markdown",
   "id": "6aee5c2e",
   "metadata": {},
   "source": [
    "**Caso 2.2.** $i=z$ y $j=x$."
   ]
  },
  {
   "cell_type": "code",
   "execution_count": 23,
   "id": "5f2705c3",
   "metadata": {},
   "outputs": [
    {
     "data": {
      "text/latex": [
       "$\\displaystyle \\left[\\begin{matrix}0 & 0\\\\0 & 0\\end{matrix}\\right]$"
      ],
      "text/plain": [
       "Matrix([\n",
       "[0, 0],\n",
       "[0, 0]])"
      ]
     },
     "execution_count": 23,
     "metadata": {},
     "output_type": "execute_result"
    }
   ],
   "source": [
    "conmutador(sigmaz,sigmax) + 2*(-1)*1j*sigmay"
   ]
  },
  {
   "cell_type": "markdown",
   "id": "2e1d2c6f",
   "metadata": {},
   "source": [
    "**Caso 3.1.** $i=y$ y $j=z$."
   ]
  },
  {
   "cell_type": "code",
   "execution_count": 24,
   "id": "8389965d",
   "metadata": {},
   "outputs": [
    {
     "data": {
      "text/latex": [
       "$\\displaystyle \\left[\\begin{matrix}0 & 0\\\\0 & 0\\end{matrix}\\right]$"
      ],
      "text/plain": [
       "Matrix([\n",
       "[0, 0],\n",
       "[0, 0]])"
      ]
     },
     "execution_count": 24,
     "metadata": {},
     "output_type": "execute_result"
    }
   ],
   "source": [
    "conmutador(sigmay,sigmaz) - 2*(1)*1j*sigmax"
   ]
  },
  {
   "cell_type": "markdown",
   "id": "40cdbfee",
   "metadata": {},
   "source": [
    "**Caso 3.2.** $i=z$ y $j=y$."
   ]
  },
  {
   "cell_type": "code",
   "execution_count": 25,
   "id": "28ca4fa7",
   "metadata": {},
   "outputs": [
    {
     "data": {
      "text/latex": [
       "$\\displaystyle \\left[\\begin{matrix}0 & 0\\\\0 & 0\\end{matrix}\\right]$"
      ],
      "text/plain": [
       "Matrix([\n",
       "[0, 0],\n",
       "[0, 0]])"
      ]
     },
     "execution_count": 25,
     "metadata": {},
     "output_type": "execute_result"
    }
   ],
   "source": [
    "conmutador(sigmaz,sigmay) + 2*(1)*1j*sigmax"
   ]
  },
  {
   "cell_type": "markdown",
   "id": "0c1cf50c",
   "metadata": {},
   "source": [
    "**Caso 4.** Indices repetidos."
   ]
  },
  {
   "cell_type": "code",
   "execution_count": 26,
   "id": "0b02a8b3",
   "metadata": {},
   "outputs": [
    {
     "data": {
      "text/plain": [
       "(Matrix([\n",
       " [0, 0],\n",
       " [0, 0]]),\n",
       " Matrix([\n",
       " [0, 0],\n",
       " [0, 0]]),\n",
       " Matrix([\n",
       " [0, 0],\n",
       " [0, 0]]))"
      ]
     },
     "execution_count": 26,
     "metadata": {},
     "output_type": "execute_result"
    }
   ],
   "source": [
    "conmutador(sigmax,sigmax), conmutador(sigmay,sigmay), conmutador(sigmaz,sigmaz)"
   ]
  },
  {
   "cell_type": "markdown",
   "id": "e2da8828",
   "metadata": {},
   "source": [
    "Como se consideraron todos los posibles casos y se verificó que se satisface en todos ellos, se tiene que la igualdad se cumple."
   ]
  },
  {
   "cell_type": "markdown",
   "id": "cb66e8a8",
   "metadata": {},
   "source": [
    "## Punto 15. (Particle Physics, Sympy)"
   ]
  },
  {
   "cell_type": "code",
   "execution_count": 27,
   "id": "3b5fe124",
   "metadata": {},
   "outputs": [],
   "source": [
    "gamma0 = sym.Matrix([[1, 0, 0, 0], [0, 1, 0, 0], [0, 0, -1, 0], [0, 0, 0, -1]])\n",
    "gamma1 = sym.Matrix([[0, 0, 0, 1], [0, 0, 1, 0], [0, -1, 0, 0], [-1, 0, 0, 0]])\n",
    "gamma2 = sym.Matrix([[0, 0, 0, -1j], [0, 0, 1j, 0], [0, 1j, 0, 0], [-1j, 0, 0, 0]])\n",
    "gamma3 = sym.Matrix([[0, 0, 1, 0], [0, 0, 0, -1], [-1, 0, 0, 0], [0, 1, 0, 0]])"
   ]
  },
  {
   "cell_type": "markdown",
   "id": "0ed32ddc",
   "metadata": {},
   "source": [
    "Para todo anticonmutador con indices $\\nu$, $\\mu$ distintos se tiene una matriz de ceros. Tenga en cuenta las entradas de la relación del anticonmutador\n",
    "\n",
    "$$ \\lbrace\\gamma^{\\nu},\\gamma^{\\mu}\\rbrace = \\lbrace\\gamma^{\\mu},\\gamma^{\\nu}\\rbrace  $$\n",
    "\n",
    "ya que se tiene conmutatividad bajo suma. Entonces, todos los posibles casos para la matriz del anticonmutador distintas a la diagonal están dadas por:"
   ]
  },
  {
   "cell_type": "code",
   "execution_count": 59,
   "id": "5ffed934",
   "metadata": {},
   "outputs": [
    {
     "data": {
      "text/plain": [
       "(Matrix([\n",
       " [0, 0, 0, 0],\n",
       " [0, 0, 0, 0],\n",
       " [0, 0, 0, 0],\n",
       " [0, 0, 0, 0]]),\n",
       " Matrix([\n",
       " [0, 0, 0, 0],\n",
       " [0, 0, 0, 0],\n",
       " [0, 0, 0, 0],\n",
       " [0, 0, 0, 0]]),\n",
       " Matrix([\n",
       " [0, 0, 0, 0],\n",
       " [0, 0, 0, 0],\n",
       " [0, 0, 0, 0],\n",
       " [0, 0, 0, 0]]),\n",
       " Matrix([\n",
       " [0, 0, 0, 0],\n",
       " [0, 0, 0, 0],\n",
       " [0, 0, 0, 0],\n",
       " [0, 0, 0, 0]]),\n",
       " Matrix([\n",
       " [0, 0, 0, 0],\n",
       " [0, 0, 0, 0],\n",
       " [0, 0, 0, 0],\n",
       " [0, 0, 0, 0]]),\n",
       " Matrix([\n",
       " [0, 0, 0, 0],\n",
       " [0, 0, 0, 0],\n",
       " [0, 0, 0, 0],\n",
       " [0, 0, 0, 0]]))"
      ]
     },
     "execution_count": 59,
     "metadata": {},
     "output_type": "execute_result"
    }
   ],
   "source": [
    "gamma0@gamma1+gamma1@gamma0, gamma0@gamma2+gamma2@gamma0, gamma0@gamma3+gamma3@gamma0, gamma1@gamma2+gamma2@gamma1, gamma1@gamma3+gamma3@gamma1, gamma2@gamma3+gamma3@gamma2"
   ]
  },
  {
   "cell_type": "markdown",
   "id": "102745a9",
   "metadata": {},
   "source": [
    "Luego, las entradas distintas a la diagonal, es decir $\\lbrace\\gamma^{\\nu},\\gamma^{\\mu}\\rbrace = 0$ para $\\nu\\neq\\mu$.\n",
    "\n",
    "\n",
    "Por otro lado, las entradas diagonales están dadas por:"
   ]
  },
  {
   "cell_type": "code",
   "execution_count": 68,
   "id": "7721a342",
   "metadata": {},
   "outputs": [
    {
     "data": {
      "text/plain": [
       "(Matrix([\n",
       " [2, 0, 0, 0],\n",
       " [0, 2, 0, 0],\n",
       " [0, 0, 2, 0],\n",
       " [0, 0, 0, 2]]),\n",
       " Matrix([\n",
       " [-2,  0,  0,  0],\n",
       " [ 0, -2,  0,  0],\n",
       " [ 0,  0, -2,  0],\n",
       " [ 0,  0,  0, -2]]),\n",
       " Matrix([\n",
       " [-2.0,    0,    0,    0],\n",
       " [   0, -2.0,    0,    0],\n",
       " [   0,    0, -2.0,    0],\n",
       " [   0,    0,    0, -2.0]]),\n",
       " Matrix([\n",
       " [-2,  0,  0,  0],\n",
       " [ 0, -2,  0,  0],\n",
       " [ 0,  0, -2,  0],\n",
       " [ 0,  0,  0, -2]]))"
      ]
     },
     "execution_count": 68,
     "metadata": {},
     "output_type": "execute_result"
    }
   ],
   "source": [
    "gamma0@gamma0+gamma0@gamma0,gamma1@gamma1+gamma1@gamma1, gamma2@gamma2+gamma2@gamma2, sym.Matrix(gamma3@gamma3+gamma3@gamma3)\n"
   ]
  },
  {
   "cell_type": "markdown",
   "id": "956d4a65",
   "metadata": {},
   "source": [
    "Por los que las entradas de la diagonal están dadas por:\n",
    "$$\\lbrace\\gamma^{0},\\gamma^{0}\\rbrace = 2\\cdot \\mathbb{I}_{4\\times 4},$$\n",
    "$$\\lbrace\\gamma^{1},\\gamma^{1}\\rbrace = -2\\cdot \\mathbb{I}_{4\\times 4},$$\n",
    "$$\\lbrace\\gamma^{2},\\gamma^{2}\\rbrace = -2\\cdot \\mathbb{I}_{4\\times 4},$$\n",
    "$$\\lbrace\\gamma^{3},\\gamma^{3}\\rbrace = -2\\cdot \\mathbb{I}_{4\\times 4}.$$\n",
    "\n",
    "Luego, \n",
    "$$\\lbrace\\gamma^{\\mu},\\gamma^{\\nu}\\rbrace = \\left[\\begin{array}{cccc}\n",
    "2 & 0 & 0 & 0\t\\\\\n",
    "0 & -2 & 0 & 0\t\\\\\n",
    "0 & 0 & -2 & 0\t\\\\\n",
    "0 & 0 & 0 & -2\n",
    "\\end{array}\\right] = 2\\eta^{\\mu\\nu}\\mathbb{I}_{4\\times 4}$$\n",
    "\n",
    "\n",
    "para $\\mu,\\nu$ que toman los valores de $0,1,2,3$ y $\\eta^{\\mu\\nu}=diag(+1,-1,-1,-1)$.\n",
    "\n",
    "Verificando así que\n",
    "$$\\lbrace\\gamma^{\\mu},\\gamma^{\\nu}\\rbrace = \\gamma^{\\mu}\\gamma^{\\nu} + \\gamma^{\\nu}\\gamma^{\\mu} = 2\\eta^{\\mu\\nu}\\mathbb{I}_{4\\times 4}.$$"
   ]
  },
  {
   "cell_type": "code",
   "execution_count": null,
   "id": "8969627c",
   "metadata": {},
   "outputs": [],
   "source": []
  }
 ],
 "metadata": {
  "kernelspec": {
   "display_name": "Python 3 (ipykernel)",
   "language": "python",
   "name": "python3"
  },
  "language_info": {
   "codemirror_mode": {
    "name": "ipython",
    "version": 3
   },
   "file_extension": ".py",
   "mimetype": "text/x-python",
   "name": "python",
   "nbconvert_exporter": "python",
   "pygments_lexer": "ipython3",
   "version": "3.9.13"
  }
 },
 "nbformat": 4,
 "nbformat_minor": 5
}
