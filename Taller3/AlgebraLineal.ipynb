{
 "cells": [
  {
   "cell_type": "code",
   "execution_count": 369,
   "id": "48d4c631",
   "metadata": {},
   "outputs": [],
   "source": [
    "import numpy as np\n",
    "import matplotlib.pyplot as plt\n",
    "import sympy as sym\n",
    "from scipy import integrate\n",
    "import scipy.linalg"
   ]
  },
  {
   "cell_type": "markdown",
   "id": "6f1bef0e",
   "metadata": {},
   "source": [
    "Ejercicios: Álgebra lineal\n",
    "\n",
    "Problemas: 3,4,5,6,7,9,10,12,13,14,15\n",
    "\n",
    "Listos: 3,6,7,9,  ,15"
   ]
  },
  {
   "cell_type": "markdown",
   "id": "6f7326ff",
   "metadata": {},
   "source": [
    "## Punto 3. Algoritmo para mutiplicar dos matrices"
   ]
  },
  {
   "cell_type": "code",
   "execution_count": 370,
   "id": "dbe5070d",
   "metadata": {},
   "outputs": [],
   "source": [
    "def MultiplyMatrix(matrix1, matrix2):\n",
    "    \n",
    "    if len(matrix1[0])!=len(matrix2):\n",
    "        return 'No es posible realizar el producto.'\n",
    "    else:\n",
    "        resultMatrix = np.zeros([len(matrix1),len(matrix2[0])])\n",
    "        for i in range(len(matrix1)):\n",
    "            for j in range(len(matrix2[0])):\n",
    "                for k in range(len(matrix2)):\n",
    "                    resultMatrix[i][j] += matrix1[i][k]*matrix2[k][j]\n",
    "        return resultMatrix"
   ]
  },
  {
   "cell_type": "code",
   "execution_count": 371,
   "id": "6c1f929b",
   "metadata": {},
   "outputs": [
    {
     "data": {
      "text/plain": [
       "array([[ 4., -2.,  1.],\n",
       "       [20., -7., 12.],\n",
       "       [-8., 13., 21.]])"
      ]
     },
     "execution_count": 371,
     "metadata": {},
     "output_type": "execute_result"
    }
   ],
   "source": [
    "M1 = np.array([[1, 0, 0],[5, 1, 0],[-2, 3, 1]])\n",
    "M2 = np.array([[4, -2, 1],[0, 3, 7],[0, 0, 2]])\n",
    "\n",
    "MultiplyMatrix(M1,M2)"
   ]
  },
  {
   "cell_type": "markdown",
   "id": "b4515026",
   "metadata": {},
   "source": [
    "## Punto 4. \n",
    "**(Theoretical)** Muestre con detalle que la sustituci´on hacia adelante se expresa como:\n",
    "$$x_i = b_i + \\sum_{j=0}^{i-1} A_{ij}x_j.$$"
   ]
  },
  {
   "cell_type": "markdown",
   "id": "976e51ea",
   "metadata": {},
   "source": [
    "Esta prueba será realizada por inducción en $i$:\n",
    "\n",
    "**Caso Base.**\n",
    "\n",
    "Se tiene que $i=1$. Entonces, $$x_1 = b_1,$$ que corresponde a la primera ecuación del sistema matricial.\n",
    "\n",
    "**Hipótesis de Inducción.**\n",
    "\n",
    "Se toma como cierto el caso de $i-1$:\n",
    "$$x_{i-1} = b_{i-1} + \\sum_{j=0}^{i-2} A_{ij}x_j.$$\n",
    "\n",
    "**Paso Inductivo.**\n",
    "\n",
    "Para el paso inductivo se supondrá la hipótesis de inducción y se demostrará que es cierto para $i$. Para el sistema $i$ se tiene que\n",
    "\n",
    "\n",
    "$$ b_{i} = \\sum_{j=0}^{i-1} A_{ij}x_i = A_{ii}x_i + \\sum_{j=0}^{i-1} A_{ij}x_i$$\n"
   ]
  },
  {
   "cell_type": "markdown",
   "id": "88e8372f",
   "metadata": {},
   "source": [
    "## Punto 6. "
   ]
  },
  {
   "cell_type": "code",
   "execution_count": 372,
   "id": "987fb2a0",
   "metadata": {},
   "outputs": [],
   "source": [
    "def SOR(A, b, x0, omega, itmax=800, tol=1e-9):\n",
    "    \n",
    "    x = x0.copy()\n",
    "    \n",
    "    for it in range(1,itmax):\n",
    "        for i in range(A.shape[0]):\n",
    "            sum_ = 0.\n",
    "            for j in range(A.shape[1]):\n",
    "                if j!=i:\n",
    "                    sum_ += A[i,j]*x[j]\n",
    "            x[i] = (1-omega)*x[i] + omega*((b[i] - sum_)/A[i,i])\n",
    "        \n",
    "        residuo = np.linalg.norm( np.dot(A,x) - b )\n",
    "        \n",
    "        if np.allclose(residuo, tol, atol=tol):\n",
    "            break\n",
    "    return x, it\n",
    "\n"
   ]
  },
  {
   "cell_type": "code",
   "execution_count": 373,
   "id": "e3469ebb",
   "metadata": {},
   "outputs": [
    {
     "name": "stdout",
     "output_type": "stream",
     "text": [
      "0.9828282828282827 15\n"
     ]
    }
   ],
   "source": [
    "A = np.array([[3,-1,-1],[-1.,3.,1.],[2,1,4]])\n",
    "b = np.array([1.,3.,7.])\n",
    "x = np.array([0.,0.,0.])\n",
    "\n",
    "omega = np.linspace(0.1, 2, 100)\n",
    "omega_opt = np.inf\n",
    "iter_opt = 1000-1\n",
    "\n",
    "for i in omega:\n",
    "    if SOR(A, b, x, i)[1]< (iter_opt):\n",
    "        omega_opt = i\n",
    "        iter_opt = SOR(A, b, x, i)[1]\n",
    "        \n",
    "print(omega_opt, iter_opt)"
   ]
  },
  {
   "cell_type": "markdown",
   "id": "4df00a37",
   "metadata": {},
   "source": [
    "## Punto 7. Algoritmo de descomposición"
   ]
  },
  {
   "cell_type": "code",
   "execution_count": 374,
   "id": "a85dfff1",
   "metadata": {},
   "outputs": [],
   "source": [
    "def LUdecomposition(matrix):\n",
    "    \n",
    "    n = len(matrix)\n",
    "    L = np.zeros((n,n))\n",
    "    U = np.zeros((n,n))\n",
    "\n",
    "    for i in range(n):\n",
    "        L[i][i] = 1\n",
    "        # Upper matrix\n",
    "        for j in range(i, n):\n",
    "            for k in range(i):\n",
    "                U[i][j] = matrix[i][j] - np.sum(U[k][j]*L[i][k])\n",
    "        # Lower matrix\n",
    "        for j in range(i + 1, n):\n",
    "            for k in range(i):\n",
    "                L[j][i] = (matrix[j][i] - np.sum(U[k][i] * L[j][k]))/U[i][i]\n",
    "    return L,U"
   ]
  },
  {
   "cell_type": "code",
   "execution_count": 375,
   "id": "984aa991",
   "metadata": {},
   "outputs": [
    {
     "name": "stdout",
     "output_type": "stream",
     "text": [
      " L: \n",
      " [[ 1.  0.  0.]\n",
      " [ 5.  1.  0.]\n",
      " [-2.  3.  1.]] \n",
      " U: \n",
      " [[ 4. -2.  1.]\n",
      " [ 0.  3.  7.]\n",
      " [ 0.  0. -2.]]\n"
     ]
    }
   ],
   "source": [
    "A = np.array([[4, -2, 1], [20, -7, 12], [-8, 13, 17]])\n",
    "\n",
    "L,U = LU_decomposition(A)\n",
    "print(' L: \\n', L, '\\n U: \\n', U)"
   ]
  },
  {
   "cell_type": "markdown",
   "id": "98fb79ee",
   "metadata": {},
   "source": [
    "## Punto 9. Método de Jacobi: diagonalización de matrices simétricas."
   ]
  },
  {
   "cell_type": "markdown",
   "id": "665eacd7",
   "metadata": {},
   "source": [
    "#### (a) Implemente el método de Jacobi para encontrar los valores y vectores propios de $\\mathbb{A}$."
   ]
  },
  {
   "cell_type": "code",
   "execution_count": 376,
   "id": "058a70ec",
   "metadata": {},
   "outputs": [],
   "source": [
    "def jacobiDiagonalization(A, itmax=1000, tol=1e-14):\n",
    "    \n",
    "    n = A.shape[0]\n",
    "    D = A.copy()\n",
    "    VMatrix = np.identity(n)\n",
    "    \n",
    "    # SUMA DE LOS ELEMENTOS DISTINTOS A LA DIAGONAL\n",
    "    # Y LOS ELEMENTOS EN EL TRIANGULO INFERIOR\n",
    "    res = np.sum(np.abs(np.triu(D, k=1)))\n",
    "    \n",
    "    count = 0\n",
    "\n",
    "    while count<itmax and res>tol:\n",
    "        # MATRIZ TRIANGULAR SUPERIOR\n",
    "        DUP = np.triu(D, k=1)\n",
    "        # INDICE MAYOR EN LA DIAGONAL\n",
    "        idx = np.argmax(np.abs(DUP))\n",
    "        p, q = np.unravel_index(idx, DUP.shape)\n",
    "        \n",
    "        \n",
    "        # MATRIZ DE ROTACIÓN R(THETA)\n",
    "        theta = np.arctan2(2.*D[p, q],(D[q, q] - D[p, p]))/2.\n",
    "        R = np.identity(n)\n",
    "        R[p, p] = np.cos(theta)\n",
    "        R[q, q] = np.cos(theta)\n",
    "        R[p, q] = -np.sin(theta)\n",
    "        R[q, p] = np.sin(theta)\n",
    "\n",
    "        # ACTUALIZACIÓN MATRIZ DE VALORES Y VECTORES PROPIOS\n",
    "        D = R.T @ D @ R\n",
    "        VMatrix = VMatrix @ R\n",
    "\n",
    "        # SUMAR LOS VALORES QUE QUEDARON POR FUERA DE LA DIAGONAL\n",
    "        res = np.sum(np.abs(np.triu(D, k=1)))\n",
    "        count += 1\n",
    "\n",
    "    eigValues = np.diag(D)\n",
    "    eigVectors = VMatrix / np.linalg.norm(VMatrix, axis=0)\n",
    "    eigVectors[:,1] = -eigVectors[:,1]\n",
    "    \n",
    "    return eigValues, eigVectors"
   ]
  },
  {
   "cell_type": "code",
   "execution_count": 377,
   "id": "c717e6d1",
   "metadata": {},
   "outputs": [
    {
     "name": "stdout",
     "output_type": "stream",
     "text": [
      "Con el método de Jacobi:\n",
      "\n",
      " - Valores propios: \n",
      " [6.8672772  3.39725929 1.73546351] \n",
      "\n",
      " - Matriz de vectores propios (columna): \n",
      " [[ 0.44012262  0.88613215  0.14512713]\n",
      " [ 0.43290596 -0.06779913 -0.89888582]\n",
      " [ 0.78669213 -0.45844638  0.41345182]]\n"
     ]
    }
   ],
   "source": [
    "A = np.array([[4,1,1], [1,3,2], [1,2,5]])\n",
    "\n",
    "print('Con el método de Jacobi:\\n\\n','- Valores propios: \\n', jacobiDiagonalization(A)[0]\n",
    "      ,'\\n\\n - Matriz de vectores propios (columna): \\n', jacobiDiagonalization(A)[1])"
   ]
  },
  {
   "cell_type": "markdown",
   "id": "3f1fa211",
   "metadata": {},
   "source": [
    "#### (b) Compare con el resultado que se obtiene de Numpy: np.linalg.eig(A)."
   ]
  },
  {
   "cell_type": "code",
   "execution_count": 378,
   "id": "f4b3e479",
   "metadata": {},
   "outputs": [
    {
     "name": "stdout",
     "output_type": "stream",
     "text": [
      "Con la función predeterminada de numpy:\n",
      "\n",
      " - Valores propios: \n",
      " [6.89510652 3.39729507 1.70759841] \n",
      "\n",
      " - Matriz de vectores propios (columna): \n",
      " [[ 0.43170413  0.88573564  0.17059871]\n",
      " [ 0.49725362 -0.07589338 -0.86427949]\n",
      " [ 0.75257583 -0.45794385  0.47319874]]\n"
     ]
    }
   ],
   "source": [
    "print('Con la función predeterminada de numpy:\\n\\n','- Valores propios: \\n', np.linalg.eig(A)[0]\n",
    "      ,'\\n\\n - Matriz de vectores propios (columna): \\n', np.linalg.eig(A)[1])"
   ]
  },
  {
   "cell_type": "code",
   "execution_count": 379,
   "id": "0d35a3e0",
   "metadata": {},
   "outputs": [
    {
     "name": "stdout",
     "output_type": "stream",
     "text": [
      "Diferencia valores propios: \n",
      " [ 2.78293166e-02  3.57800416e-05 -2.78650967e-02] \n",
      "\n",
      "Diferencia vectores propios: \n",
      " [[-0.00841849 -0.00039651  0.02547158]\n",
      " [ 0.06434766 -0.00809426  0.03460633]\n",
      " [-0.0341163   0.00050253  0.05974692]]\n"
     ]
    }
   ],
   "source": [
    "print('Diferencia valores propios: \\n', np.linalg.eig(A)[0]-jacobiDiagonalization(A)[0],\n",
    "     '\\n\\nDiferencia vectores propios: \\n', np.linalg.eig(A)[1]-jacobiDiagonalization(A)[1])"
   ]
  },
  {
   "cell_type": "markdown",
   "id": "608805d3",
   "metadata": {},
   "source": [
    "## Punto 10. Quantum system - ground state."
   ]
  },
  {
   "cell_type": "code",
   "execution_count": 415,
   "id": "c4ded8f5",
   "metadata": {},
   "outputs": [],
   "source": [
    "H = np.array([[1,2,-1], [1,0,1], [4,-4,5]])"
   ]
  },
  {
   "cell_type": "code",
   "execution_count": 469,
   "id": "51c8400d",
   "metadata": {
    "scrolled": true
   },
   "outputs": [
    {
     "name": "stdout",
     "output_type": "stream",
     "text": [
      "[1 1 1] 1\n",
      "[ 18.65497076 -16.43274854 -35.73099415] 2\n",
      "[-145.47724086  147.94637666  291.78550665] 3\n",
      "[ 1505.26827768 -1502.52479345 -3010.09917381] 4\n",
      "[-14994.01846879  14997.0667846   29988.2671384 ] 5\n",
      "[ 150006.71345596 -150003.3264384  -300013.30575359] 6\n",
      "[-1499992.50517803  1499996.26853088  2999985.0741236 ] 7\n",
      "[ 15000008.34622485 -15000004.1647217  -30000016.65888784] 8\n",
      "[-1.49999991e+08  1.49999995e+08  2.99999981e+08] 9\n",
      "[ 1.50000001e+09 -1.50000001e+09 -3.00000002e+09] 10\n",
      "[-1.5e+10  1.5e+10  3.0e+10] 11\n",
      "[ 1.5e+11 -1.5e+11 -3.0e+11] 12\n",
      "[-1.5e+12  1.5e+12  3.0e+12] 13\n",
      "[ 1.5e+13 -1.5e+13 -3.0e+13] 14\n",
      "[-1.5e+14  1.5e+14  3.0e+14] 15\n",
      "[ 1.5e+15 -1.5e+15 -3.0e+15] 16\n",
      "[-1.5e+16  1.5e+16  3.0e+16] 17\n",
      "[ 1.5e+17 -1.5e+17 -3.0e+17] 18\n",
      "[-1.5e+18  1.5e+18  3.0e+18] 19\n",
      "[ 1.5e+19 -1.5e+19 -3.0e+19] 20\n",
      "[-1.5e+20  1.5e+20  3.0e+20] 21\n",
      "[ 1.5e+21 -1.5e+21 -3.0e+21] 22\n",
      "[-1.5e+22  1.5e+22  3.0e+22] 23\n",
      "[ 1.5e+23 -1.5e+23 -3.0e+23] 24\n",
      "[-1.5e+24  1.5e+24  3.0e+24] 25\n",
      "[ 1.5e+25 -1.5e+25 -3.0e+25] 26\n",
      "[-1.5e+26  1.5e+26  3.0e+26] 27\n",
      "[ 1.5e+27 -1.5e+27 -3.0e+27] 28\n",
      "[-1.5e+28  1.5e+28  3.0e+28] 29\n",
      "[ 1.5e+29 -1.5e+29 -3.0e+29] 30\n",
      "[-1.5e+30  1.5e+30  3.0e+30] 31\n",
      "[ 1.5e+31 -1.5e+31 -3.0e+31] 32\n",
      "[-1.5e+32  1.5e+32  3.0e+32] 33\n",
      "[ 1.5e+33 -1.5e+33 -3.0e+33] 34\n",
      "[-1.5e+34  1.5e+34  3.0e+34] 35\n",
      "[ 1.5e+35 -1.5e+35 -3.0e+35] 36\n",
      "[-1.5e+36  1.5e+36  3.0e+36] 37\n",
      "[ 1.5e+37 -1.5e+37 -3.0e+37] 38\n",
      "[-1.5e+38  1.5e+38  3.0e+38] 39\n",
      "[ 1.5e+39 -1.5e+39 -3.0e+39] 40\n",
      "[-1.5e+40  1.5e+40  3.0e+40] 41\n",
      "[ 1.5e+41 -1.5e+41 -3.0e+41] 42\n",
      "[-1.5e+42  1.5e+42  3.0e+42] 43\n",
      "[ 1.5e+43 -1.5e+43 -3.0e+43] 44\n",
      "[-1.5e+44  1.5e+44  3.0e+44] 45\n",
      "[ 1.5e+45 -1.5e+45 -3.0e+45] 46\n",
      "[-1.5e+46  1.5e+46  3.0e+46] 47\n",
      "[ 1.5e+47 -1.5e+47 -3.0e+47] 48\n",
      "[-1.5e+48  1.5e+48  3.0e+48] 49\n",
      "[ 1.5e+49 -1.5e+49 -3.0e+49] 50\n",
      "[-1.5e+50  1.5e+50  3.0e+50] 51\n",
      "[ 1.5e+51 -1.5e+51 -3.0e+51] 52\n",
      "[-1.5e+52  1.5e+52  3.0e+52] 53\n",
      "[ 1.5e+53 -1.5e+53 -3.0e+53] 54\n",
      "[-1.5e+54  1.5e+54  3.0e+54] 55\n",
      "[ 1.5e+55 -1.5e+55 -3.0e+55] 56\n",
      "[-1.5e+56  1.5e+56  3.0e+56] 57\n",
      "[ 1.5e+57 -1.5e+57 -3.0e+57] 58\n",
      "[-1.5e+58  1.5e+58  3.0e+58] 59\n",
      "[ 1.5e+59 -1.5e+59 -3.0e+59] 60\n",
      "[-1.5e+60  1.5e+60  3.0e+60] 61\n",
      "[ 1.5e+61 -1.5e+61 -3.0e+61] 62\n",
      "[-1.5e+62  1.5e+62  3.0e+62] 63\n",
      "[ 1.5e+63 -1.5e+63 -3.0e+63] 64\n",
      "[-1.5e+64  1.5e+64  3.0e+64] 65\n",
      "[ 1.5e+65 -1.5e+65 -3.0e+65] 66\n",
      "[-1.5e+66  1.5e+66  3.0e+66] 67\n",
      "[ 1.5e+67 -1.5e+67 -3.0e+67] 68\n",
      "[-1.5e+68  1.5e+68  3.0e+68] 69\n",
      "[ 1.5e+69 -1.5e+69 -3.0e+69] 70\n",
      "[-1.5e+70  1.5e+70  3.0e+70] 71\n",
      "[ 1.5e+71 -1.5e+71 -3.0e+71] 72\n",
      "[-1.5e+72  1.5e+72  3.0e+72] 73\n",
      "[ 1.5e+73 -1.5e+73 -3.0e+73] 74\n",
      "[-1.5e+74  1.5e+74  3.0e+74] 75\n",
      "[ 1.5e+75 -1.5e+75 -3.0e+75] 76\n",
      "[-1.5e+76  1.5e+76  3.0e+76] 77\n",
      "[ 1.5e+77 -1.5e+77 -3.0e+77] 78\n",
      "[-1.5e+78  1.5e+78  3.0e+78] 79\n",
      "[ 1.5e+79 -1.5e+79 -3.0e+79] 80\n",
      "[-1.5e+80  1.5e+80  3.0e+80] 81\n",
      "[ 1.5e+81 -1.5e+81 -3.0e+81] 82\n",
      "[-1.5e+82  1.5e+82  3.0e+82] 83\n",
      "[ 1.5e+83 -1.5e+83 -3.0e+83] 84\n",
      "[-1.5e+84  1.5e+84  3.0e+84] 85\n",
      "[ 1.5e+85 -1.5e+85 -3.0e+85] 86\n",
      "[-1.5e+86  1.5e+86  3.0e+86] 87\n",
      "[ 1.5e+87 -1.5e+87 -3.0e+87] 88\n",
      "[-1.5e+88  1.5e+88  3.0e+88] 89\n",
      "[ 1.5e+89 -1.5e+89 -3.0e+89] 90\n",
      "[-1.5e+90  1.5e+90  3.0e+90] 91\n",
      "[ 1.5e+91 -1.5e+91 -3.0e+91] 92\n",
      "[-1.5e+92  1.5e+92  3.0e+92] 93\n",
      "[ 1.5e+93 -1.5e+93 -3.0e+93] 94\n",
      "[-1.5e+94  1.5e+94  3.0e+94] 95\n",
      "[ 1.5e+95 -1.5e+95 -3.0e+95] 96\n",
      "[-1.5e+96  1.5e+96  3.0e+96] 97\n",
      "[ 1.5e+97 -1.5e+97 -3.0e+97] 98\n",
      "[-1.5e+98  1.5e+98  3.0e+98] 99\n",
      "[ 1.5e+99 -1.5e+99 -3.0e+99] 100\n",
      "[-1.5e+100  1.5e+100  3.0e+100] 101\n",
      "[ 1.5e+101 -1.5e+101 -3.0e+101] 102\n",
      "[-1.5e+102  1.5e+102  3.0e+102] 103\n",
      "[ 1.5e+103 -1.5e+103 -3.0e+103] 104\n",
      "[-1.5e+104  1.5e+104  3.0e+104] 105\n",
      "[ 1.5e+105 -1.5e+105 -3.0e+105] 106\n",
      "[-1.5e+106  1.5e+106  3.0e+106] 107\n",
      "[ 1.5e+107 -1.5e+107 -3.0e+107] 108\n",
      "[-1.5e+108  1.5e+108  3.0e+108] 109\n",
      "[ 1.5e+109 -1.5e+109 -3.0e+109] 110\n",
      "[-1.5e+110  1.5e+110  3.0e+110] 111\n",
      "[ 1.5e+111 -1.5e+111 -3.0e+111] 112\n",
      "[-1.5e+112  1.5e+112  3.0e+112] 113\n",
      "[ 1.5e+113 -1.5e+113 -3.0e+113] 114\n",
      "[-1.5e+114  1.5e+114  3.0e+114] 115\n",
      "[ 1.5e+115 -1.5e+115 -3.0e+115] 116\n",
      "[-1.5e+116  1.5e+116  3.0e+116] 117\n",
      "[ 1.5e+117 -1.5e+117 -3.0e+117] 118\n",
      "[-1.5e+118  1.5e+118  3.0e+118] 119\n",
      "[ 1.5e+119 -1.5e+119 -3.0e+119] 120\n",
      "[-1.5e+120  1.5e+120  3.0e+120] 121\n",
      "[ 1.5e+121 -1.5e+121 -3.0e+121] 122\n",
      "[-1.5e+122  1.5e+122  3.0e+122] 123\n",
      "[ 1.5e+123 -1.5e+123 -3.0e+123] 124\n",
      "[-1.5e+124  1.5e+124  3.0e+124] 125\n",
      "[ 1.5e+125 -1.5e+125 -3.0e+125] 126\n",
      "[-1.5e+126  1.5e+126  3.0e+126] 127\n",
      "[ 1.5e+127 -1.5e+127 -3.0e+127] 128\n",
      "[-1.5e+128  1.5e+128  3.0e+128] 129\n",
      "[ 1.5e+129 -1.5e+129 -3.0e+129] 130\n",
      "[-1.5e+130  1.5e+130  3.0e+130] 131\n",
      "[ 1.5e+131 -1.5e+131 -3.0e+131] 132\n",
      "[-1.5e+132  1.5e+132  3.0e+132] 133\n",
      "[ 1.5e+133 -1.5e+133 -3.0e+133] 134\n",
      "[-1.5e+134  1.5e+134  3.0e+134] 135\n",
      "[ 1.5e+135 -1.5e+135 -3.0e+135] 136\n",
      "[-1.5e+136  1.5e+136  3.0e+136] 137\n",
      "[ 1.5e+137 -1.5e+137 -3.0e+137] 138\n",
      "[-1.5e+138  1.5e+138  3.0e+138] 139\n",
      "[ 1.5e+139 -1.5e+139 -3.0e+139] 140\n",
      "[-1.5e+140  1.5e+140  3.0e+140] 141\n",
      "[ 1.5e+141 -1.5e+141 -3.0e+141] 142\n",
      "[-1.5e+142  1.5e+142  3.0e+142] 143\n",
      "[ 1.5e+143 -1.5e+143 -3.0e+143] 144\n",
      "[-1.5e+144  1.5e+144  3.0e+144] 145\n",
      "[ 1.5e+145 -1.5e+145 -3.0e+145] 146\n",
      "[-1.5e+146  1.5e+146  3.0e+146] 147\n",
      "[ 1.5e+147 -1.5e+147 -3.0e+147] 148\n",
      "[-1.5e+148  1.5e+148  3.0e+148] 149\n",
      "[ 1.5e+149 -1.5e+149 -3.0e+149] 150\n",
      "[-1.5e+150  1.5e+150  3.0e+150] 151\n",
      "[ 1.5e+151 -1.5e+151 -3.0e+151] 152\n",
      "[-1.5e+152  1.5e+152  3.0e+152] 153\n",
      "[ 1.5e+153 -1.5e+153 -3.0e+153] 154\n",
      "[-1.5e+154  1.5e+154  3.0e+154] 155\n",
      "[ 1.5e+155 -1.5e+155 -3.0e+155] 156\n",
      "[-1.5e+156  1.5e+156  3.0e+156] 157\n",
      "[ 1.5e+157 -1.5e+157 -3.0e+157] 158\n",
      "[-1.5e+158  1.5e+158  3.0e+158] 159\n",
      "[ 1.5e+159 -1.5e+159 -3.0e+159] 160\n",
      "[-1.5e+160  1.5e+160  3.0e+160] 161\n",
      "[ 1.5e+161 -1.5e+161 -3.0e+161] 162\n",
      "[-1.5e+162  1.5e+162  3.0e+162] 163\n",
      "[ 1.5e+163 -1.5e+163 -3.0e+163] 164\n",
      "[-1.5e+164  1.5e+164  3.0e+164] 165\n",
      "[ 1.5e+165 -1.5e+165 -3.0e+165] 166\n",
      "[-1.5e+166  1.5e+166  3.0e+166] 167\n",
      "[ 1.5e+167 -1.5e+167 -3.0e+167] 168\n",
      "[-1.5e+168  1.5e+168  3.0e+168] 169\n",
      "[ 1.5e+169 -1.5e+169 -3.0e+169] 170\n",
      "[-1.5e+170  1.5e+170  3.0e+170] 171\n",
      "[ 1.5e+171 -1.5e+171 -3.0e+171] 172\n",
      "[-1.5e+172  1.5e+172  3.0e+172] 173\n",
      "[ 1.5e+173 -1.5e+173 -3.0e+173] 174\n",
      "[-1.5e+174  1.5e+174  3.0e+174] 175\n",
      "[ 1.5e+175 -1.5e+175 -3.0e+175] 176\n",
      "[-1.5e+176  1.5e+176  3.0e+176] 177\n",
      "[ 1.5e+177 -1.5e+177 -3.0e+177] 178\n",
      "[-1.5e+178  1.5e+178  3.0e+178] 179\n",
      "[ 1.5e+179 -1.5e+179 -3.0e+179] 180\n",
      "[-1.5e+180  1.5e+180  3.0e+180] 181\n",
      "[ 1.5e+181 -1.5e+181 -3.0e+181] 182\n",
      "[-1.5e+182  1.5e+182  3.0e+182] 183\n",
      "[ 1.5e+183 -1.5e+183 -3.0e+183] 184\n",
      "[-1.5e+184  1.5e+184  3.0e+184] 185\n",
      "[ 1.5e+185 -1.5e+185 -3.0e+185] 186\n",
      "[-1.5e+186  1.5e+186  3.0e+186] 187\n",
      "[ 1.5e+187 -1.5e+187 -3.0e+187] 188\n",
      "[-1.5e+188  1.5e+188  3.0e+188] 189\n",
      "[ 1.5e+189 -1.5e+189 -3.0e+189] 190\n",
      "[-1.5e+190  1.5e+190  3.0e+190] 191\n",
      "[ 1.5e+191 -1.5e+191 -3.0e+191] 192\n",
      "[-1.5e+192  1.5e+192  3.0e+192] 193\n",
      "[ 1.5e+193 -1.5e+193 -3.0e+193] 194\n",
      "[-1.5e+194  1.5e+194  3.0e+194] 195\n",
      "[ 1.5e+195 -1.5e+195 -3.0e+195] 196\n",
      "[-1.5e+196  1.5e+196  3.0e+196] 197\n",
      "[ 1.5e+197 -1.5e+197 -3.0e+197] 198\n",
      "[-1.5e+198  1.5e+198  3.0e+198] 199\n",
      "[ 1.5e+199 -1.5e+199 -3.0e+199] 200\n",
      "[-1.5e+200  1.5e+200  3.0e+200] 201\n",
      "[ 1.5e+201 -1.5e+201 -3.0e+201] 202\n",
      "[-1.5e+202  1.5e+202  3.0e+202] 203\n",
      "[ 1.5e+203 -1.5e+203 -3.0e+203] 204\n",
      "[-1.5e+204  1.5e+204  3.0e+204] 205\n",
      "[ 1.5e+205 -1.5e+205 -3.0e+205] 206\n",
      "[-1.5e+206  1.5e+206  3.0e+206] 207\n",
      "[ 1.5e+207 -1.5e+207 -3.0e+207] 208\n",
      "[-1.5e+208  1.5e+208  3.0e+208] 209\n",
      "[ 1.5e+209 -1.5e+209 -3.0e+209] 210\n",
      "[-1.5e+210  1.5e+210  3.0e+210] 211\n",
      "[ 1.5e+211 -1.5e+211 -3.0e+211] 212\n",
      "[-1.5e+212  1.5e+212  3.0e+212] 213\n",
      "[ 1.5e+213 -1.5e+213 -3.0e+213] 214\n",
      "[-1.5e+214  1.5e+214  3.0e+214] 215\n",
      "[ 1.5e+215 -1.5e+215 -3.0e+215] 216\n",
      "[-1.5e+216  1.5e+216  3.0e+216] 217\n",
      "[ 1.5e+217 -1.5e+217 -3.0e+217] 218\n",
      "[-1.5e+218  1.5e+218  3.0e+218] 219\n",
      "[ 1.5e+219 -1.5e+219 -3.0e+219] 220\n",
      "[-1.5e+220  1.5e+220  3.0e+220] 221\n",
      "[ 1.5e+221 -1.5e+221 -3.0e+221] 222\n",
      "[-1.5e+222  1.5e+222  3.0e+222] 223\n",
      "[ 1.5e+223 -1.5e+223 -3.0e+223] 224\n",
      "[-1.5e+224  1.5e+224  3.0e+224] 225\n",
      "[ 1.5e+225 -1.5e+225 -3.0e+225] 226\n",
      "[-1.5e+226  1.5e+226  3.0e+226] 227\n",
      "[ 1.5e+227 -1.5e+227 -3.0e+227] 228\n",
      "[-1.5e+228  1.5e+228  3.0e+228] 229\n",
      "[ 1.5e+229 -1.5e+229 -3.0e+229] 230\n",
      "[-1.5e+230  1.5e+230  3.0e+230] 231\n",
      "[ 1.5e+231 -1.5e+231 -3.0e+231] 232\n",
      "[-1.5e+232  1.5e+232  3.0e+232] 233\n",
      "[ 1.5e+233 -1.5e+233 -3.0e+233] 234\n",
      "[-1.5e+234  1.5e+234  3.0e+234] 235\n",
      "[ 1.5e+235 -1.5e+235 -3.0e+235] 236\n",
      "[-1.5e+236  1.5e+236  3.0e+236] 237\n",
      "[ 1.5e+237 -1.5e+237 -3.0e+237] 238\n",
      "[-1.5e+238  1.5e+238  3.0e+238] 239\n",
      "[ 1.5e+239 -1.5e+239 -3.0e+239] 240\n",
      "[-1.5e+240  1.5e+240  3.0e+240] 241\n",
      "[ 1.5e+241 -1.5e+241 -3.0e+241] 242\n",
      "[-1.5e+242  1.5e+242  3.0e+242] 243\n",
      "[ 1.5e+243 -1.5e+243 -3.0e+243] 244\n",
      "[-1.5e+244  1.5e+244  3.0e+244] 245\n",
      "[ 1.5e+245 -1.5e+245 -3.0e+245] 246\n",
      "[-1.5e+246  1.5e+246  3.0e+246] 247\n",
      "[ 1.5e+247 -1.5e+247 -3.0e+247] 248\n",
      "[-1.5e+248  1.5e+248  3.0e+248] 249\n",
      "[ 1.5e+249 -1.5e+249 -3.0e+249] 250\n",
      "[-1.5e+250  1.5e+250  3.0e+250] 251\n",
      "[ 1.5e+251 -1.5e+251 -3.0e+251] 252\n",
      "[-1.5e+252  1.5e+252  3.0e+252] 253\n",
      "[ 1.5e+253 -1.5e+253 -3.0e+253] 254\n",
      "[-1.5e+254  1.5e+254  3.0e+254] 255\n",
      "[ 1.5e+255 -1.5e+255 -3.0e+255] 256\n",
      "[-1.5e+256  1.5e+256  3.0e+256] 257\n",
      "[ 1.5e+257 -1.5e+257 -3.0e+257] 258\n",
      "[-1.5e+258  1.5e+258  3.0e+258] 259\n",
      "[ 1.5e+259 -1.5e+259 -3.0e+259] 260\n",
      "[-1.5e+260  1.5e+260  3.0e+260] 261\n",
      "[ 1.5e+261 -1.5e+261 -3.0e+261] 262\n",
      "[-1.5e+262  1.5e+262  3.0e+262] 263\n",
      "[ 1.5e+263 -1.5e+263 -3.0e+263] 264\n",
      "[-1.5e+264  1.5e+264  3.0e+264] 265\n",
      "[ 1.5e+265 -1.5e+265 -3.0e+265] 266\n",
      "[-1.5e+266  1.5e+266  3.0e+266] 267\n",
      "[ 1.5e+267 -1.5e+267 -3.0e+267] 268\n",
      "[-1.5e+268  1.5e+268  3.0e+268] 269\n",
      "[ 1.5e+269 -1.5e+269 -3.0e+269] 270\n",
      "[-1.5e+270  1.5e+270  3.0e+270] 271\n",
      "[ 1.5e+271 -1.5e+271 -3.0e+271] 272\n",
      "[-1.5e+272  1.5e+272  3.0e+272] 273\n",
      "[ 1.5e+273 -1.5e+273 -3.0e+273] 274\n",
      "[-1.5e+274  1.5e+274  3.0e+274] 275\n",
      "[ 1.5e+275 -1.5e+275 -3.0e+275] 276\n",
      "[-1.5e+276  1.5e+276  3.0e+276] 277\n",
      "[ 1.5e+277 -1.5e+277 -3.0e+277] 278\n",
      "[-1.5e+278  1.5e+278  3.0e+278] 279\n",
      "[ 1.5e+279 -1.5e+279 -3.0e+279] 280\n",
      "[-1.5e+280  1.5e+280  3.0e+280] 281\n",
      "[ 1.5e+281 -1.5e+281 -3.0e+281] 282\n",
      "[-1.5e+282  1.5e+282  3.0e+282] 283\n",
      "[ 1.5e+283 -1.5e+283 -3.0e+283] 284\n",
      "[-1.5e+284  1.5e+284  3.0e+284] 285\n",
      "[ 1.5e+285 -1.5e+285 -3.0e+285] 286\n",
      "[-1.5e+286  1.5e+286  3.0e+286] 287\n",
      "[ 1.5e+287 -1.5e+287 -3.0e+287] 288\n",
      "[-1.5e+288  1.5e+288  3.0e+288] 289\n",
      "[ 1.5e+289 -1.5e+289 -3.0e+289] 290\n",
      "[-1.5e+290  1.5e+290  3.0e+290] 291\n",
      "[ 1.5e+291 -1.5e+291 -3.0e+291] 292\n",
      "[-1.5e+292  1.5e+292  3.0e+292] 293\n",
      "[ 1.5e+293 -1.5e+293 -3.0e+293] 294\n",
      "[-1.5e+294  1.5e+294  3.0e+294] 295\n",
      "[ 1.5e+295 -1.5e+295 -3.0e+295] 296\n",
      "[-1.5e+296  1.5e+296  3.0e+296] 297\n",
      "[ 1.5e+297 -1.5e+297 -3.0e+297] 298\n",
      "[-1.5e+298  1.5e+298  3.0e+298] 299\n",
      "[ 1.5e+299 -1.5e+299 -3.0e+299] 300\n",
      "[-1.5e+300  1.5e+300  3.0e+300] 301\n",
      "[ 1.5e+301 -1.5e+301 -3.0e+301] 302\n",
      "[-1.5e+302  1.5e+302  3.0e+302] 303\n",
      "[ 1.5e+303 -1.5e+303 -3.0e+303] 304\n",
      "[-1.5e+304  1.5e+304  3.0e+304] 305\n",
      "[ 1.5e+305 -1.5e+305 -3.0e+305] 306\n",
      "[-1.5e+306  1.5e+306  3.0e+306] 307\n",
      "[ 1.5e+307 -1.5e+307 -3.0e+307] 308\n",
      "a [ 1.5e+307 -1.5e+307 -3.0e+307] 308\n",
      "psi: [ 1.5e+307 -1.5e+307 -3.0e+307] 1.1\n",
      "Ground state energy: nan\n",
      "Ground state vector: [nan nan nan]\n"
     ]
    }
   ],
   "source": [
    "# Set the initial guess for the eigenvector (you can choose any nonzero vector)\n",
    "psi = np.array([1, 1, 1])\n",
    "\n",
    "# Set the tolerance and maximum number of iterations\n",
    "tolerance = 1e-8\n",
    "max_iterations = 1000\n",
    "\n",
    "# Compute the shifted Hamiltonian and shift value\n",
    "shift = H[0, 0] + 0.1  # arbitrary shift value\n",
    "H_shifted = H - shift * np.eye(3)\n",
    "\n",
    "# Implement the power iteration method\n",
    "c = 0\n",
    "for i in range(max_iterations):\n",
    "    c +=1\n",
    "    # Compute the QR decomposition of the shifted Hamiltonian\n",
    "    Q, R = np.linalg.qr(H_shifted)\n",
    "\n",
    "    # Solve the linear system R*psi_new = Q.T*psi\n",
    "    psi_new = np.linalg.solve(R, np.dot(Q.T, psi))\n",
    "\n",
    "    # Compute the eigenvalue estimate\n",
    "    eigenvalue = np.dot(psi, psi_new) / np.dot(psi, psi)\n",
    "\n",
    "    # Check for convergence\n",
    "    print(psi, c)\n",
    "    if np.linalg.norm(psi - psi_new) < tolerance or np.isnan(psi_new).any():\n",
    "        print(\"a\",psi, c)\n",
    "        break\n",
    "\n",
    "    # Update the eigenvector estimate\n",
    "    \n",
    "    psi = psi_new\n",
    "print(\"psi:\",psi, shift)\n",
    "# Add the shift value to obtain the true ground state energy\n",
    "ground_energy = eigenvalue + shift\n",
    "\n",
    "# Normalize the eigenvector estimate\n",
    "ground_state = psi_new / np.linalg.norm(psi_new)\n",
    "\n",
    "# Print the results\n",
    "print(\"Ground state energy:\", ground_energy)\n",
    "print(\"Ground state vector:\", ground_state)\n"
   ]
  },
  {
   "cell_type": "code",
   "execution_count": 465,
   "id": "5eae4703",
   "metadata": {
    "scrolled": true
   },
   "outputs": [
    {
     "data": {
      "text/plain": [
       "True"
      ]
     },
     "execution_count": 465,
     "metadata": {},
     "output_type": "execute_result"
    }
   ],
   "source": [
    "np.isnan(psi_new).any()"
   ]
  },
  {
   "cell_type": "code",
   "execution_count": 438,
   "id": "514d6fe6",
   "metadata": {},
   "outputs": [],
   "source": [
    "np.array([1,2,3]).any?"
   ]
  },
  {
   "cell_type": "code",
   "execution_count": 456,
   "id": "e8402df3",
   "metadata": {},
   "outputs": [
    {
     "data": {
      "text/plain": [
       "True"
      ]
     },
     "execution_count": 456,
     "metadata": {},
     "output_type": "execute_result"
    }
   ],
   "source": []
  },
  {
   "cell_type": "markdown",
   "id": "cb66e8a8",
   "metadata": {},
   "source": [
    "## Punto 15. (Particle Physics, Sympy)"
   ]
  },
  {
   "cell_type": "code",
   "execution_count": 174,
   "id": "3b5fe124",
   "metadata": {},
   "outputs": [],
   "source": [
    "gamma0 = sym.Matrix([[1, 0, 0, 0], [0, 1, 0, 0], [0, 0, -1, 0], [0, 0, 0, -1]])\n",
    "gamma1 = sym.Matrix([[0, 0, 0, 1], [0, 0, 1, 0], [0, -1, 0, 0], [-1, 0, 0, 0]])\n",
    "gamma2 = sym.Matrix([[0, 0, 0, -1j], [0, 0, 1j, 0], [0, 1j, 0, 0], [-1j, 0, 0, 0]])\n",
    "gamma3 = sym.Matrix([[0, 0, 1, 0], [0, 0, 0, -1], [-1, 0, 0, 0], [0, 1, 0, 0]])"
   ]
  },
  {
   "cell_type": "markdown",
   "id": "0ed32ddc",
   "metadata": {},
   "source": [
    "Para todo anticonmutador con indices $\\nu$, $\\mu$ distintos se tiene una matriz de ceros. Tenga en cuenta las entradas de la relación del anticonmutador\n",
    "\n",
    "$$ \\lbrace\\gamma^{\\nu},\\gamma^{\\mu}\\rbrace = \\lbrace\\gamma^{\\mu},\\gamma^{\\nu}\\rbrace  $$\n",
    "\n",
    "ya que se tiene conmutatividad bajo suma. Entonces, todos los posibles casos para la matriz del anticonmutador distintas a la diagonal están dadas por:"
   ]
  },
  {
   "cell_type": "code",
   "execution_count": 175,
   "id": "5ffed934",
   "metadata": {},
   "outputs": [
    {
     "data": {
      "text/latex": [
       "$\\displaystyle \\left( \\left[\\begin{matrix}0 & 0 & 0 & 0\\\\0 & 0 & 0 & 0\\\\0 & 0 & 0 & 0\\\\0 & 0 & 0 & 0\\end{matrix}\\right], \\  \\left[\\begin{matrix}0 & 0 & 0 & 0\\\\0 & 0 & 0 & 0\\\\0 & 0 & 0 & 0\\\\0 & 0 & 0 & 0\\end{matrix}\\right], \\  \\left[\\begin{matrix}0 & 0 & 0 & 0\\\\0 & 0 & 0 & 0\\\\0 & 0 & 0 & 0\\\\0 & 0 & 0 & 0\\end{matrix}\\right], \\  \\left[\\begin{matrix}0 & 0 & 0 & 0\\\\0 & 0 & 0 & 0\\\\0 & 0 & 0 & 0\\\\0 & 0 & 0 & 0\\end{matrix}\\right], \\  \\left[\\begin{matrix}0 & 0 & 0 & 0\\\\0 & 0 & 0 & 0\\\\0 & 0 & 0 & 0\\\\0 & 0 & 0 & 0\\end{matrix}\\right], \\  \\left[\\begin{matrix}0 & 0 & 0 & 0\\\\0 & 0 & 0 & 0\\\\0 & 0 & 0 & 0\\\\0 & 0 & 0 & 0\\end{matrix}\\right]\\right)$"
      ],
      "text/plain": [
       "⎛⎡0  0  0  0⎤  ⎡0  0  0  0⎤  ⎡0  0  0  0⎤  ⎡0  0  0  0⎤  ⎡0  0  0  0⎤  ⎡0  0  \n",
       "⎜⎢          ⎥  ⎢          ⎥  ⎢          ⎥  ⎢          ⎥  ⎢          ⎥  ⎢      \n",
       "⎜⎢0  0  0  0⎥  ⎢0  0  0  0⎥  ⎢0  0  0  0⎥  ⎢0  0  0  0⎥  ⎢0  0  0  0⎥  ⎢0  0  \n",
       "⎜⎢          ⎥, ⎢          ⎥, ⎢          ⎥, ⎢          ⎥, ⎢          ⎥, ⎢      \n",
       "⎜⎢0  0  0  0⎥  ⎢0  0  0  0⎥  ⎢0  0  0  0⎥  ⎢0  0  0  0⎥  ⎢0  0  0  0⎥  ⎢0  0  \n",
       "⎜⎢          ⎥  ⎢          ⎥  ⎢          ⎥  ⎢          ⎥  ⎢          ⎥  ⎢      \n",
       "⎝⎣0  0  0  0⎦  ⎣0  0  0  0⎦  ⎣0  0  0  0⎦  ⎣0  0  0  0⎦  ⎣0  0  0  0⎦  ⎣0  0  \n",
       "\n",
       "0  0⎤⎞\n",
       "    ⎥⎟\n",
       "0  0⎥⎟\n",
       "    ⎥⎟\n",
       "0  0⎥⎟\n",
       "    ⎥⎟\n",
       "0  0⎦⎠"
      ]
     },
     "execution_count": 175,
     "metadata": {},
     "output_type": "execute_result"
    }
   ],
   "source": [
    "gamma0@gamma1+gamma1@gamma0, gamma0@gamma2+gamma2@gamma0, gamma0@gamma3+gamma3@gamma0, gamma1@gamma2+gamma2@gamma1, gamma1@gamma3+gamma3@gamma1, gamma2@gamma3+gamma3@gamma2"
   ]
  },
  {
   "cell_type": "markdown",
   "id": "102745a9",
   "metadata": {},
   "source": [
    "Luego, las entradas distintas a la diagonal, es decir $\\lbrace\\gamma^{\\nu},\\gamma^{\\mu}\\rbrace = 0$ para $\\nu\\neq\\mu$.\n",
    "\n",
    "\n",
    "Por otro lado, las entradas diagonales están dadas por:"
   ]
  },
  {
   "cell_type": "code",
   "execution_count": 177,
   "id": "7721a342",
   "metadata": {},
   "outputs": [
    {
     "data": {
      "text/latex": [
       "$\\displaystyle \\left( \\left[\\begin{matrix}2 & 0 & 0 & 0\\\\0 & 2 & 0 & 0\\\\0 & 0 & 2 & 0\\\\0 & 0 & 0 & 2\\end{matrix}\\right], \\  \\left[\\begin{matrix}-2 & 0 & 0 & 0\\\\0 & -2 & 0 & 0\\\\0 & 0 & -2 & 0\\\\0 & 0 & 0 & -2\\end{matrix}\\right], \\  \\left[\\begin{matrix}-2.0 & 0 & 0 & 0\\\\0 & -2.0 & 0 & 0\\\\0 & 0 & -2.0 & 0\\\\0 & 0 & 0 & -2.0\\end{matrix}\\right], \\  \\left[\\begin{matrix}-2 & 0 & 0 & 0\\\\0 & -2 & 0 & 0\\\\0 & 0 & -2 & 0\\\\0 & 0 & 0 & -2\\end{matrix}\\right]\\right)$"
      ],
      "text/plain": [
       "⎛⎡2  0  0  0⎤  ⎡-2  0   0   0 ⎤  ⎡-2.0   0     0     0  ⎤  ⎡-2  0   0   0 ⎤⎞\n",
       "⎜⎢          ⎥  ⎢              ⎥  ⎢                      ⎥  ⎢              ⎥⎟\n",
       "⎜⎢0  2  0  0⎥  ⎢0   -2  0   0 ⎥  ⎢ 0    -2.0   0     0  ⎥  ⎢0   -2  0   0 ⎥⎟\n",
       "⎜⎢          ⎥, ⎢              ⎥, ⎢                      ⎥, ⎢              ⎥⎟\n",
       "⎜⎢0  0  2  0⎥  ⎢0   0   -2  0 ⎥  ⎢ 0     0    -2.0   0  ⎥  ⎢0   0   -2  0 ⎥⎟\n",
       "⎜⎢          ⎥  ⎢              ⎥  ⎢                      ⎥  ⎢              ⎥⎟\n",
       "⎝⎣0  0  0  2⎦  ⎣0   0   0   -2⎦  ⎣ 0     0     0    -2.0⎦  ⎣0   0   0   -2⎦⎠"
      ]
     },
     "execution_count": 177,
     "metadata": {},
     "output_type": "execute_result"
    }
   ],
   "source": [
    "gamma0@gamma0+gamma0@gamma0, gamma1@gamma1+gamma1@gamma1, gamma2@gamma2+gamma2@gamma2, gamma3@gamma3+gamma3@gamma3"
   ]
  },
  {
   "cell_type": "markdown",
   "id": "956d4a65",
   "metadata": {},
   "source": [
    "Por los que las entradas de la diagonal están dadas por:\n",
    "$$\\lbrace\\gamma^{0},\\gamma^{0}\\rbrace = 2\\cdot \\mathbb{I}_{4\\times 4},$$\n",
    "$$\\lbrace\\gamma^{1},\\gamma^{1}\\rbrace = -2\\cdot \\mathbb{I}_{4\\times 4},$$\n",
    "$$\\lbrace\\gamma^{2},\\gamma^{2}\\rbrace = -2\\cdot \\mathbb{I}_{4\\times 4},$$\n",
    "$$\\lbrace\\gamma^{3},\\gamma^{3}\\rbrace = -2\\cdot \\mathbb{I}_{4\\times 4}.$$\n",
    "\n",
    "Luego, \n",
    "$$\\lbrace\\gamma^{\\mu},\\gamma^{\\nu}\\rbrace = \\left[\\begin{array}{cccc}\n",
    "2 & 0 & 0 & 0\t\\\\\n",
    "0 & -2 & 0 & 0\t\\\\\n",
    "0 & 0 & -2 & 0\t\\\\\n",
    "0 & 0 & 0 & -2\n",
    "\\end{array}\\right] = 2\\eta^{\\mu\\nu}\\mathbb{I}_{4\\times 4}$$\n",
    "\n",
    "\n",
    "para $\\mu,\\nu$ que toman los valores de $0,1,2,3$ y $\\eta^{\\mu\\nu}=diag(+1,-1,-1,-1)$.\n",
    "\n",
    "Verificando así que\n",
    "$$\\lbrace\\gamma^{\\mu},\\gamma^{\\nu}\\rbrace = \\gamma^{\\mu}\\gamma^{\\nu} + \\gamma^{\\nu}\\gamma^{\\mu} = 2\\eta^{\\mu\\nu}\\mathbb{I}_{4\\times 4}.$$"
   ]
  }
 ],
 "metadata": {
  "kernelspec": {
   "display_name": "Python 3 (ipykernel)",
   "language": "python",
   "name": "python3"
  },
  "language_info": {
   "codemirror_mode": {
    "name": "ipython",
    "version": 3
   },
   "file_extension": ".py",
   "mimetype": "text/x-python",
   "name": "python",
   "nbconvert_exporter": "python",
   "pygments_lexer": "ipython3",
   "version": "3.9.13"
  }
 },
 "nbformat": 4,
 "nbformat_minor": 5
}
