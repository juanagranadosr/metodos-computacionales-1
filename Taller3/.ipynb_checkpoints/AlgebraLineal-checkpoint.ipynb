{
 "cells": [
  {
   "cell_type": "code",
   "execution_count": 1,
   "id": "48d4c631",
   "metadata": {},
   "outputs": [],
   "source": [
    "import numpy as np\n",
    "import matplotlib.pyplot as plt\n",
    "import sympy as sym\n",
    "from scipy import integrate"
   ]
  },
  {
   "cell_type": "markdown",
   "id": "6f1bef0e",
   "metadata": {},
   "source": [
    "Ejercicios: Álgebra lineal\n",
    "\n",
    "Problemas: 3,4,5,6,7,9,10,12,13,14,15\n",
    "\n",
    "Listos: 3,7"
   ]
  },
  {
   "cell_type": "markdown",
   "id": "6f7326ff",
   "metadata": {},
   "source": [
    "## Punto 3. Algoritmo para mutiplicar dos matrices"
   ]
  },
  {
   "cell_type": "code",
   "execution_count": 5,
   "id": "dbe5070d",
   "metadata": {},
   "outputs": [],
   "source": [
    "def MultiplyMatrix(matrix1, matrix2):\n",
    "    if len(matrix1[0])!=len(matrix2):\n",
    "        return 'No es posible realizar el producto.'\n",
    "    else:\n",
    "        resultMatrix = np.zeros([len(matrix1),len(matrix2[0])])\n",
    "        for i in range(len(matrix1)):\n",
    "            for j in range(len(matrix2[0])):\n",
    "                for k in range(len(matrix2)):\n",
    "                    resultMatrix[i][j] += matrix1[i][k]*matrix2[k][j]\n",
    "        return resultMatrix"
   ]
  },
  {
   "cell_type": "code",
   "execution_count": 6,
   "id": "6c1f929b",
   "metadata": {},
   "outputs": [
    {
     "data": {
      "text/plain": [
       "array([[ 4., -2.,  1.],\n",
       "       [20., -7., 12.],\n",
       "       [-8., 13., 21.]])"
      ]
     },
     "execution_count": 6,
     "metadata": {},
     "output_type": "execute_result"
    }
   ],
   "source": [
    "M1 = np.array([[1, 0, 0],[5, 1, 0],[-2, 3, 1]])\n",
    "M2 = np.array([[4, -2, 1],[0, 3, 7],[0, 0, 2]])\n",
    "\n",
    "MultiplyMatrix(M1,M2)"
   ]
  },
  {
   "cell_type": "markdown",
   "id": "59587e19",
   "metadata": {},
   "source": [
    "## Punto 4. \n",
    "**(Theoretical)** Muestre con detalle que la sustituci´on hacia adelante se expresa como:\n",
    "$$x_i = b_i + \\sum_{j=0}^{i-1} A_{ij}x_j.$$"
   ]
  },
  {
   "cell_type": "markdown",
   "id": "b12a433a",
   "metadata": {},
   "source": []
  },
  {
   "cell_type": "markdown",
   "id": "35985b76",
   "metadata": {},
   "source": [
    "## Punto 6. "
   ]
  },
  {
   "cell_type": "code",
   "execution_count": null,
   "id": "0473ebc9",
   "metadata": {},
   "outputs": [],
   "source": []
  },
  {
   "cell_type": "markdown",
   "id": "130210ac",
   "metadata": {},
   "source": [
    "## Punto 7. Algoritmo de descomposición"
   ]
  },
  {
   "cell_type": "code",
   "execution_count": 18,
   "id": "3eb4f39e",
   "metadata": {},
   "outputs": [],
   "source": [
    "def LUdecomposition(matrix):\n",
    "    n = len(matrix)\n",
    "    L = np.zeros((n,n))\n",
    "    U = np.zeros((n,n))\n",
    "\n",
    "    for i in range(n):\n",
    "        L[i][i] = 1\n",
    "        # Upper matrix\n",
    "        for j in range(i, n):\n",
    "            for k in range(i):\n",
    "                U[i][j] = matrix[i][j] - np.sum(U[k][j]*L[i][k])\n",
    "        # Lower matrix\n",
    "        for j in range(i + 1, n):\n",
    "            for k in range(i):\n",
    "                L[j][i] = (matrix[j][i] - np.sum(U[k][i] * L[j][k]))/U[i][i]\n",
    "    return L,U"
   ]
  },
  {
   "cell_type": "code",
   "execution_count": 19,
   "id": "9f003caa",
   "metadata": {},
   "outputs": [
    {
     "name": "stdout",
     "output_type": "stream",
     "text": [
      "L: \n",
      " [[ 1.  0.  0.]\n",
      " [ 5.  1.  0.]\n",
      " [-2.  3.  1.]] \n",
      " U: \n",
      " [[ 4. -2.  1.]\n",
      " [ 0.  3.  7.]\n",
      " [ 0.  0. -2.]]\n"
     ]
    }
   ],
   "source": [
    "A = np.array([[4, -2, 1], [20, -7, 12], [-8, 13, 17]])\n",
    "\n",
    "L,U = LU_decomposition(A)\n",
    "print('L: \\n', L, '\\n U: \\n', U)"
   ]
  },
  {
   "cell_type": "code",
   "execution_count": null,
   "id": "b836efcb",
   "metadata": {},
   "outputs": [],
   "source": []
  }
 ],
 "metadata": {
  "kernelspec": {
   "display_name": "Python 3 (ipykernel)",
   "language": "python",
   "name": "python3"
  },
  "language_info": {
   "codemirror_mode": {
    "name": "ipython",
    "version": 3
   },
   "file_extension": ".py",
   "mimetype": "text/x-python",
   "name": "python",
   "nbconvert_exporter": "python",
   "pygments_lexer": "ipython3",
   "version": "3.9.13"
  }
 },
 "nbformat": 4,
 "nbformat_minor": 5
}
