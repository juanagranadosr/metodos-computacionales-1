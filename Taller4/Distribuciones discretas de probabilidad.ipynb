{
 "cells": [
  {
   "cell_type": "code",
   "execution_count": 77,
   "metadata": {},
   "outputs": [],
   "source": [
    "# Section 6.10, pág. 112\n",
    "import numpy as np\n",
    "import sympy as sym\n",
    "import math\n",
    "from IPython.display import display, Math"
   ]
  },
  {
   "attachments": {},
   "cell_type": "markdown",
   "metadata": {},
   "source": [
    "# Ejercicio 3\n",
    "Un embarque de 10 microchips similares que se envía a distribución tiene 3 aparatos defectuosos. Si una empresa realiza un compra aleatoria de 2 de estos microchips.\n",
    "\n"
   ]
  },
  {
   "cell_type": "code",
   "execution_count": 67,
   "metadata": {},
   "outputs": [
    {
     "data": {
      "text/latex": [
       "$\\displaystyle \\frac{{\\binom{3}{x}} {\\binom{7}{2 - x}}}{45}$"
      ],
      "text/plain": [
       "binomial(3, x)*binomial(7, 2 - x)/45"
      ]
     },
     "execution_count": 67,
     "metadata": {},
     "output_type": "execute_result"
    }
   ],
   "source": [
    "# Definimos la función f de acuerdo a lo presentado en el enunciado\n",
    "x = sym.symbols('x')\n",
    "f=(sym.binomial(7,2-x)*sym.binomial(3,x))/sym.binomial(10,2)\n",
    "f_np=sym.lambdify(x, f, 'numpy')\n",
    "f_np(1)\n",
    "f"
   ]
  },
  {
   "cell_type": "code",
   "execution_count": 74,
   "metadata": {},
   "outputs": [
    {
     "data": {
      "text/plain": [
       "'Para x=0, f(x):'"
      ]
     },
     "metadata": {},
     "output_type": "display_data"
    },
    {
     "data": {
      "text/latex": [
       "$\\displaystyle \\frac{7}{15}$"
      ],
      "text/plain": [
       "7/15"
      ]
     },
     "metadata": {},
     "output_type": "display_data"
    },
    {
     "data": {
      "text/plain": [
       "'Para x=1, f(x):'"
      ]
     },
     "metadata": {},
     "output_type": "display_data"
    },
    {
     "data": {
      "text/latex": [
       "$\\displaystyle \\frac{7}{15}$"
      ],
      "text/plain": [
       "7/15"
      ]
     },
     "metadata": {},
     "output_type": "display_data"
    },
    {
     "data": {
      "text/plain": [
       "'Para x=2, f(x):'"
      ]
     },
     "metadata": {},
     "output_type": "display_data"
    },
    {
     "data": {
      "text/latex": [
       "$\\displaystyle \\frac{1}{15}$"
      ],
      "text/plain": [
       "1/15"
      ]
     },
     "metadata": {},
     "output_type": "display_data"
    },
    {
     "name": "stdout",
     "output_type": "stream",
     "text": [
      "Para todo el dominio los valores de f(x) son no negativos.\n",
      "\n",
      "Como 𝝨f(x)=1.0, la función f puede ser entonces una función de densidad de probabilidad.\n"
     ]
    }
   ],
   "source": [
    "# Prueba de que la función f() es una distribución de probabilidad\n",
    "# f(x)>=0\n",
    "for valor in [0,1,2]:\n",
    "    display(f\"Para x={valor}, f(x):\",sym.nsimplify(f_np(valor)))\n",
    "print(\"Para todo el dominio los valores de f(x) son no negativos.\\n\")\n",
    "\n",
    "# 𝝨(f(x))=1\n",
    "c = 0\n",
    "for k in [0,1,2]:\n",
    "    c+=f_np(k)\n",
    "print(f\"Como 𝝨f(x)={c}, la función f puede ser entonces una función de densidad de probabilidad.\")"
   ]
  },
  {
   "cell_type": "code",
   "execution_count": 93,
   "metadata": {},
   "outputs": [
    {
     "data": {
      "text/latex": [
       "$\\displaystyle \\hat{\\mu}=E(X) =\\sum_{x=0}^{3} \\frac{x {\\binom{3}{x}} {\\binom{7}{2 - x}}}{45}$"
      ],
      "text/plain": [
       "<IPython.core.display.Math object>"
      ]
     },
     "metadata": {},
     "output_type": "display_data"
    },
    {
     "name": "stdout",
     "output_type": "stream",
     "text": [
      "El valor esperado de microchips defectuosos es:\n"
     ]
    },
    {
     "data": {
      "text/latex": [
       "$\\displaystyle \\hat{\\mu}=\\frac{3}{5}$"
      ],
      "text/plain": [
       "<IPython.core.display.Math object>"
      ]
     },
     "metadata": {},
     "output_type": "display_data"
    }
   ],
   "source": [
    "# Calcular el valor esperado de los microchips defectuosos\n",
    "n = sym.symbols('n')\n",
    "series =sym.Sum(x*f, (x, 0, 3) )\n",
    "display(Math('\\hat{\\mu}=E(X) =%s' %sym.latex(series)))\n",
    "print(\"El valor esperado de microchips defectuosos es:\")\n",
    "display(Math('\\hat{\\mu}='+sym.latex(series.doit())))"
   ]
  },
  {
   "attachments": {},
   "cell_type": "markdown",
   "metadata": {},
   "source": [
    "# Ejercicio 4\n",
    "Una caja cuántica tiene 3 electrones, 2 protones y 3 neutrones. Se selecciona una muestra\n",
    "aleatoria de 4 partículas. Si x es el número de electrones e y es el número de protones."
   ]
  },
  {
   "cell_type": "code",
   "execution_count": 115,
   "metadata": {},
   "outputs": [
    {
     "data": {
      "text/latex": [
       "$\\displaystyle f(x,y)=\\frac{{\\binom{2}{y}} {\\binom{3}{x}} {\\binom{3}{- x - y + 4}}}{70}$"
      ],
      "text/plain": [
       "<IPython.core.display.Math object>"
      ]
     },
     "metadata": {},
     "output_type": "display_data"
    }
   ],
   "source": [
    "x,y = sym.symbols('x y')\n",
    "f = (sym.binomial(3,x)*sym.binomial(2,y)*sym.binomial(3,4-x-y))/sym.binomial(8,4)\n",
    "f_np = sym.lambdify((x,y), f, 'numpy')\n",
    "display(Math('f(x,y)='+ sym.latex(f)))"
   ]
  },
  {
   "cell_type": "code",
   "execution_count": 141,
   "metadata": {},
   "outputs": [],
   "source": [
    "def funcionconjunta(x,y):\n",
    "    \n",
    "    num= (sym.binomial(3,x)*sym.binomial(2,y)*sym.binomial(3,4-x-y))\n",
    "    denom =sym.binomial(8,4)\n",
    "    return num/denom"
   ]
  },
  {
   "cell_type": "code",
   "execution_count": 159,
   "metadata": {},
   "outputs": [
    {
     "data": {
      "text/plain": [
       "array([[0.        , 0.02857143, 0.04285714],\n",
       "       [0.04285714, 0.25714286, 0.12857143],\n",
       "       [0.12857143, 0.25714286, 0.04285714],\n",
       "       [0.04285714, 0.02857143, 0.        ]])"
      ]
     },
     "metadata": {},
     "output_type": "display_data"
    },
    {
     "name": "stdout",
     "output_type": "stream",
     "text": [
      "[[ True  True  True]\n",
      " [ True  True  True]\n",
      " [ True  True  True]\n",
      " [ True  True  True]]\n",
      "Por lo tanto, f(x,y)>0 para todo el dominio.\n",
      "\n",
      "Ahora calculamos 𝝨(f(x,y)=0.9999999999999999.\n",
      "Por lo tanto la función f(x,y) es una función de distribución de probabilidad conjunta válida.\n"
     ]
    }
   ],
   "source": [
    "# Muestre que la distribución de probabilidad conjunta f(x,y) es la siguiente\n",
    "\n",
    "# Justificar la distribución de probabilidad conjunta\n",
    "\n",
    "# Probar que f(x,y)>=0, para todo el dominio\n",
    "M=np.zeros([4,3])\n",
    "for electrones in range(4):\n",
    "    for protones in range(3):\n",
    "        if 0<=(4-electrones-protones) and (4-electrones-protones)<=4:\n",
    "            M[electrones,protones]=funcionconjunta(electrones,protones)\n",
    "        else:\n",
    "            M[electrones,protones]=0\n",
    "            #print(electrones,protones)\n",
    "display(M)\n",
    "print(M>=0)\n",
    "print(\"Por lo tanto, f(x,y)>0 para todo el dominio.\\n\")\n",
    "\n",
    "# Probar 𝝨(f(x,y))=1\n",
    "print(f\"Ahora calculamos 𝝨(f(x,y)={np.sum(M)}.\")\n",
    "print(\"Por lo tanto la función f(x,y) es una función de distribución de probabilidad conjunta válida.\")"
   ]
  },
  {
   "cell_type": "code",
   "execution_count": 160,
   "metadata": {},
   "outputs": [
    {
     "data": {
      "text/plain": [
       "<function __main__.funcionconjunta(x, y)>"
      ]
     },
     "execution_count": 160,
     "metadata": {},
     "output_type": "execute_result"
    }
   ],
   "source": [
    "funcionconjunta"
   ]
  },
  {
   "cell_type": "code",
   "execution_count": 167,
   "metadata": {},
   "outputs": [
    {
     "data": {
      "text/latex": [
       "$\\displaystyle \\frac{{\\binom{2}{y}} {\\binom{3}{x}} {\\binom{3}{- x - y + 4}}}{70}$"
      ],
      "text/plain": [
       "binomial(2, y)*binomial(3, x)*binomial(3, -x - y + 4)/70"
      ]
     },
     "execution_count": 167,
     "metadata": {},
     "output_type": "execute_result"
    }
   ],
   "source": [
    "f"
   ]
  },
  {
   "cell_type": "code",
   "execution_count": 173,
   "metadata": {},
   "outputs": [
    {
     "data": {
      "text/latex": [
       "$\\displaystyle \\frac{\\left({\\binom{3}{1 - y}} + 3 {\\binom{3}{2 - y}} + 3 {\\binom{3}{3 - y}} + {\\binom{3}{4 - y}}\\right) {\\binom{2}{y}}}{70}$"
      ],
      "text/plain": [
       "(binomial(3, 1 - y) + 3*binomial(3, 2 - y) + 3*binomial(3, 3 - y) + binomial(3, 4 - y))*binomial(2, y)/70"
      ]
     },
     "metadata": {},
     "output_type": "display_data"
    }
   ],
   "source": [
    "# Hallar distribución marginal h(y)\n",
    "h =sym.Sum(f, (x, 0, 3)).doit()\n",
    "display(h)\n",
    "h_np = sym.lambdify(y, h, 'numpy')"
   ]
  },
  {
   "cell_type": "code",
   "execution_count": 193,
   "metadata": {},
   "outputs": [
    {
     "data": {
      "text/latex": [
       "$\\displaystyle \\frac{\\left({\\binom{3}{2 - x}} + 2 {\\binom{3}{3 - x}} + {\\binom{3}{4 - x}}\\right) {\\binom{3}{x}}}{70}$"
      ],
      "text/plain": [
       "(binomial(3, 2 - x) + 2*binomial(3, 3 - x) + binomial(3, 4 - x))*binomial(3, x)/70"
      ]
     },
     "metadata": {},
     "output_type": "display_data"
    }
   ],
   "source": [
    "# Hallar distribución marginal g(x)\n",
    "g = sym.Sum(f, (y, 0, 3)).doit()\n",
    "display(g)\n",
    "g_np = sym.lambdify(x, g, 'numpy')"
   ]
  },
  {
   "cell_type": "code",
   "execution_count": 215,
   "metadata": {},
   "outputs": [
    {
     "data": {
      "text/latex": [
       "$\\displaystyle \\frac{3}{2}$"
      ],
      "text/plain": [
       "3/2"
      ]
     },
     "execution_count": 215,
     "metadata": {},
     "output_type": "execute_result"
    }
   ],
   "source": [
    "# Hallar el valor esperado de electrones:\n",
    "Ex =sym.Sum(g*x, (x, 0, 3)).doit()\n",
    "Ex\n"
   ]
  },
  {
   "cell_type": "code",
   "execution_count": 216,
   "metadata": {},
   "outputs": [
    {
     "data": {
      "text/latex": [
       "$\\displaystyle 1$"
      ],
      "text/plain": [
       "1"
      ]
     },
     "execution_count": 216,
     "metadata": {},
     "output_type": "execute_result"
    }
   ],
   "source": [
    "# Hallar el valor esperado de protones\n",
    "Ey = sym.Sum(h*y, (y, 0, 2)).doit()\n",
    "Ey"
   ]
  },
  {
   "cell_type": "code",
   "execution_count": 252,
   "metadata": {},
   "outputs": [
    {
     "data": {
      "text/latex": [
       "$\\displaystyle -0.214285714285714$"
      ],
      "text/plain": [
       "-0.214285714285714"
      ]
     },
     "execution_count": 252,
     "metadata": {},
     "output_type": "execute_result"
    }
   ],
   "source": [
    "# Calcular covarianza \n",
    "\n",
    "cov = 0\n",
    "for x in range(4):\n",
    "    for y in range(3):\n",
    "        cov+= x*y*(M[x,y])\n",
    "      \n",
    "cov-Ex*Ey"
   ]
  },
  {
   "cell_type": "code",
   "execution_count": 258,
   "metadata": {},
   "outputs": [
    {
     "data": {
      "text/latex": [
       "$\\displaystyle - \\frac{3}{14}$"
      ],
      "text/plain": [
       "-3/14"
      ]
     },
     "execution_count": 258,
     "metadata": {},
     "output_type": "execute_result"
    }
   ],
   "source": [
    "# Calcular la covarianza de otra forma\n",
    "x = sym.symbols('x')\n",
    "y = sym.symbols('y')\n",
    "a = x-Ex\n",
    "b = y-Ey\n",
    "e = sym.Sum(f*a*b, (x,0,3), (y,0,2))\n",
    "e.doit()"
   ]
  },
  {
   "cell_type": "code",
   "execution_count": 260,
   "metadata": {},
   "outputs": [
    {
     "name": "stdout",
     "output_type": "stream",
     "text": [
      "Las variables x & y no son independientes\n"
     ]
    }
   ],
   "source": [
    "# ¿Son independientes las variables?\n",
    "if f==g*h:\n",
    "    print(\"Las variables x & y son independientes\")\n",
    "else:\n",
    "    print(\"Las variables x & y no son independientes\")"
   ]
  }
 ],
 "metadata": {
  "kernelspec": {
   "display_name": "base",
   "language": "python",
   "name": "python3"
  },
  "language_info": {
   "codemirror_mode": {
    "name": "ipython",
    "version": 3
   },
   "file_extension": ".py",
   "mimetype": "text/x-python",
   "name": "python",
   "nbconvert_exporter": "python",
   "pygments_lexer": "ipython3",
   "version": "3.9.16"
  },
  "orig_nbformat": 4
 },
 "nbformat": 4,
 "nbformat_minor": 2
}
