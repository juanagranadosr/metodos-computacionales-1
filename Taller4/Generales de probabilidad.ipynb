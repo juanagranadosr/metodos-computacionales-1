{
 "cells": [
  {
   "cell_type": "code",
   "execution_count": 6,
   "id": "3bc00019",
   "metadata": {},
   "outputs": [],
   "source": [
    "import numpy as np\n",
    "import matplotlib.pyplot as plt"
   ]
  },
  {
   "cell_type": "markdown",
   "id": "05edd923",
   "metadata": {},
   "source": [
    "Ejercicios: 4, 9, 12."
   ]
  },
  {
   "cell_type": "markdown",
   "id": "80b2e1ce",
   "metadata": {},
   "source": [
    "### Ejercicio 4. Calcular la probabilidad que $n$ personas ($n ≤ 365$) tengan fechas diferentes de cumpleaños, i.e, escribir la formula general de cálculo. Grafique la probabilidad $\\mathbb{P}(n ≤ 80)$ como función de $n$. Los números son demasiado grandes, pero Python puede manejar dichas cantidades."
   ]
  },
  {
   "cell_type": "code",
   "execution_count": 26,
   "id": "1001d123",
   "metadata": {},
   "outputs": [],
   "source": [
    "def cumple(n):\n",
    "    rta = 1\n",
    "    for i in range(n):\n",
    "        rta*=((365-i)/365)\n",
    "    return rta"
   ]
  },
  {
   "cell_type": "code",
   "execution_count": 29,
   "id": "024d61f8",
   "metadata": {},
   "outputs": [
    {
     "data": {
      "text/plain": [
       "Text(0, 0.5, 'ℙn')"
      ]
     },
     "execution_count": 29,
     "metadata": {},
     "output_type": "execute_result"
    },
    {
     "data": {
      "image/png": "[encoded data removed]",
      "text/plain": [
       "<Figure size 640x480 with 1 Axes>"
      ]
     },
     "metadata": {},
     "output_type": "display_data"
    }
   ],
   "source": [
    "x = np.linspace(0,80,81)\n",
    "y=np.zeros(81)\n",
    "for i in range(80):\n",
    "    y[i] = cumple(int(x[i]))\n",
    "plt.scatter(x,y)\n",
    "plt.xlabel('Número de personas')\n",
    "plt.ylabel('ℙn')"
   ]
  },
  {
   "cell_type": "markdown",
   "id": "9c44d93e",
   "metadata": {},
   "source": [
    "### Ejercicio 9. En el ejercicio anterior, imagine que las monedas están truncadas de tal manera que la probabilidad de que la moneda $1$ sea cara es $p_1$ y que sea sello es $1−p_1$. Usando el árbol de probabilidad, ¿cuál es la expresión de la probabilidad de obtener dos caras y dos sellos de este evento? Si el truncamiento de las monedas $1$ y $2$ puede variar como: $0.1 < p_1 < 0.9$ y $0.1 < p:2 < 0.5$, use el árbol de probabilidad para graficar la superficie de probabilidad del evento A. ¿En qué punto la probabilidad es mínima y máxima, y cuáles son sus valores?"
   ]
  },
  {
   "cell_type": "code",
   "execution_count": null,
   "id": "0fe17e08",
   "metadata": {},
   "outputs": [],
   "source": []
  },
  {
   "cell_type": "code",
   "execution_count": null,
   "id": "c4a3ee4a",
   "metadata": {},
   "outputs": [],
   "source": []
  },
  {
   "cell_type": "markdown",
   "id": "36e29d70",
   "metadata": {},
   "source": [
    "### Punto 12 (Microcanonical ensemble). Hay un sistema constituido por $N$ partículas, cada una puede estar en dos niveles de energía distintos (no degenerados) de valor $\\epsilon_0$ y $\\epsilon_1$ ($\\epsilon_1 > \\epsilon_0$). Si llamamos $n_0$ al número de partículas en el estado $\\epsilon_0$ y a $n_1$ al número de partículas en el estado $\\epsilon_1$. Se tienen las siguientes restricciones para la energía total y el número total de partículas: $$E = n_0\\epsilon_0+n_1\\epsilon_1$$ $$N = n_0+n_1$$"
   ]
  },
  {
   "cell_type": "markdown",
   "id": "16ba438e",
   "metadata": {},
   "source": [
    "#### (a) Muestre que el numero de configuraciones posibles (micro-estados) está dado por: $$\\Omega(N,n_0)=\\frac{N!}{n_0!n_1!}$$"
   ]
  },
  {
   "cell_type": "code",
   "execution_count": null,
   "id": "c7330ade",
   "metadata": {},
   "outputs": [],
   "source": []
  }
 ],
 "metadata": {
  "kernelspec": {
   "display_name": "Python 3 (ipykernel)",
   "language": "python",
   "name": "python3"
  },
  "language_info": {
   "codemirror_mode": {
    "name": "ipython",
    "version": 3
   },
   "file_extension": ".py",
   "mimetype": "text/x-python",
   "name": "python",
   "nbconvert_exporter": "python",
   "pygments_lexer": "ipython3",
   "version": "3.9.13"
  }
 },
 "nbformat": 4,
 "nbformat_minor": 5
}
