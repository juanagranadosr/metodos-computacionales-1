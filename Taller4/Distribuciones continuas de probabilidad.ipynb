{
 "cells": [
  {
   "cell_type": "code",
   "execution_count": 29,
   "metadata": {},
   "outputs": [],
   "source": [
    "import sympy as sym\n",
    "import numpy as np"
   ]
  },
  {
   "cell_type": "code",
   "execution_count": 28,
   "metadata": {},
   "outputs": [],
   "source": [
    "x=sym.Symbol('x')\n",
    "y=sym.Symbol('y')"
   ]
  },
  {
   "cell_type": "markdown",
   "metadata": {},
   "source": [
    "# Punto 1"
   ]
  },
  {
   "cell_type": "markdown",
   "metadata": {},
   "source": [
    "$$\n",
    "f( x,y) =\\begin{cases}\n",
    "\\frac{2}{3}( x+2y) \\  & ,\\ if\\ 0\\leqslant x\\leqslant 1,\\ 0\\leqslant y\\leqslant 1\\\\\n",
    "0 & ,\\ otherwise\n",
    "\\end{cases}\n",
    "$$"
   ]
  },
  {
   "cell_type": "code",
   "execution_count": 29,
   "metadata": {},
   "outputs": [],
   "source": [
    "f = sym.Piecewise(\n",
    "    (2/3*(x+2*y), sym.And(0<=x, x<=1, 0<=y, y<=1)),\n",
    "    (0, True)) # True means otherwise"
   ]
  },
  {
   "cell_type": "code",
   "execution_count": 30,
   "metadata": {},
   "outputs": [
    {
     "data": {
      "text/latex": [
       "$\\displaystyle \\begin{cases} 0.666666666666667 x + 1.33333333333333 y & \\text{for}\\: x \\geq 0 \\wedge y \\geq 0 \\wedge x \\leq 1 \\wedge y \\leq 1 \\\\0 & \\text{otherwise} \\end{cases}$"
      ],
      "text/plain": [
       "Piecewise((0.666666666666667*x + 1.33333333333333*y, (x >= 0) & (y >= 0) & (x <= 1) & (y <= 1)), (0, True))"
      ]
     },
     "metadata": {},
     "output_type": "display_data"
    }
   ],
   "source": [
    "display(f)\n",
    "F=sym.lambdify([x,y], f, 'numpy')"
   ]
  },
  {
   "cell_type": "code",
   "execution_count": 31,
   "metadata": {},
   "outputs": [],
   "source": [
    "# Revisar que f sea no negativa en su dominio\n",
    "for x in np.linspace(0, 1, 1000):\n",
    "    for y in np.linspace(0, 1, 1000):\n",
    "        if F(x,y)<0:\n",
    "            print(\"La función F es negativa en \",x,y)"
   ]
  },
  {
   "cell_type": "code",
   "execution_count": 33,
   "metadata": {},
   "outputs": [
    {
     "data": {
      "text/latex": [
       "$\\displaystyle 1.0$"
      ],
      "text/plain": [
       "1.00000000000000"
      ]
     },
     "execution_count": 33,
     "metadata": {},
     "output_type": "execute_result"
    }
   ],
   "source": [
    "# Revisar que la integral sea 1\n",
    "x=sym.Symbol('x')\n",
    "y=sym.Symbol('y')\n",
    "sym.integrate(f, (x, -sym.oo, sym.oo),(y, -sym.oo, sym.oo))"
   ]
  },
  {
   "cell_type": "markdown",
   "metadata": {},
   "source": [
    "Extrapolando la condición de la pdf con 2 variables:\n",
    "$$\n",
    "P(a<X<b,c<Y<d )=\\int_{a}^b\\int_{c}^d f(x,y)dydx\n",
    "$$"
   ]
  },
  {
   "cell_type": "code",
   "execution_count": 37,
   "metadata": {},
   "outputs": [
    {
     "name": "stdout",
     "output_type": "stream",
     "text": [
      "Probabilidad: 1.00000000000000\n"
     ]
    }
   ],
   "source": [
    "# Calcular la probabilidad de que (X,Y) esté en el intervalo \n",
    "def calcular_prob(a, b, c, d):\n",
    "    probability = sym.integrate(sym.integrate(f, (x, a, b)), (y, c, d))\n",
    "    return probability\n",
    "\n",
    "prob = calcular_prob(0, 1, 0, 1)\n",
    "\n",
    "print(\"Probabilidad:\", prob)\n"
   ]
  },
  {
   "cell_type": "markdown",
   "metadata": {},
   "source": []
  },
  {
   "cell_type": "code",
   "execution_count": 38,
   "metadata": {},
   "outputs": [
    {
     "data": {
      "text/latex": [
       "$\\displaystyle \\begin{cases} 0.666666666666667 x + 0.666666666666667 & \\text{for}\\: x \\geq 0 \\wedge x \\leq 1 \\\\0 & \\text{otherwise} \\end{cases}$"
      ],
      "text/plain": [
       "Piecewise((0.666666666666667*x + 0.666666666666667, (x >= 0) & (x <= 1)), (0, True))"
      ]
     },
     "execution_count": 38,
     "metadata": {},
     "output_type": "execute_result"
    }
   ],
   "source": [
    "# Hallar distribución marginal g(x)\n",
    "g = sym.integrate(f,(y, -sym.oo, sym.oo))\n",
    "g"
   ]
  },
  {
   "cell_type": "code",
   "execution_count": 39,
   "metadata": {},
   "outputs": [
    {
     "data": {
      "text/latex": [
       "$\\displaystyle \\begin{cases} 1.33333333333333 y + 0.333333333333333 & \\text{for}\\: y \\geq 0 \\wedge y \\leq 1 \\\\0 & \\text{otherwise} \\end{cases}$"
      ],
      "text/plain": [
       "Piecewise((1.33333333333333*y + 0.333333333333333, (y >= 0) & (y <= 1)), (0, True))"
      ]
     },
     "execution_count": 39,
     "metadata": {},
     "output_type": "execute_result"
    }
   ],
   "source": [
    "# Hallar distribución marginal h(y)\n",
    "h = sym.integrate(f,(x, -sym.oo, sym.oo))\n",
    "h"
   ]
  },
  {
   "cell_type": "code",
   "execution_count": 40,
   "metadata": {},
   "outputs": [
    {
     "data": {
      "text/latex": [
       "$\\displaystyle \\frac{5}{9}$"
      ],
      "text/plain": [
       "5/9"
      ]
     },
     "execution_count": 40,
     "metadata": {},
     "output_type": "execute_result"
    }
   ],
   "source": [
    "# Hallar el valor esperado E(x)\n",
    "sym.nsimplify(sym.integrate(f*x, (x, -sym.oo, sym.oo),  (y, -sym.oo, sym.oo)))"
   ]
  },
  {
   "cell_type": "code",
   "execution_count": 41,
   "metadata": {},
   "outputs": [
    {
     "data": {
      "text/latex": [
       "$\\displaystyle \\frac{11}{18}$"
      ],
      "text/plain": [
       "11/18"
      ]
     },
     "execution_count": 41,
     "metadata": {},
     "output_type": "execute_result"
    }
   ],
   "source": [
    "# Hallar el valor esperado E(y)\n",
    "sym.nsimplify(sym.integrate(f*y, (x, -sym.oo, sym.oo),  (y, -sym.oo, sym.oo)))"
   ]
  },
  {
   "cell_type": "code",
   "execution_count": 42,
   "metadata": {},
   "outputs": [
    {
     "data": {
      "text/latex": [
       "$\\displaystyle -0.00617283950617281$"
      ],
      "text/plain": [
       "-0.00617283950617281"
      ]
     },
     "execution_count": 42,
     "metadata": {},
     "output_type": "execute_result"
    }
   ],
   "source": [
    "# Calcular la covarianza conjunta\n",
    "sym.integrate(f*(x*y), (x, -sym.oo, sym.oo),  (y, -sym.oo, sym.oo))-sym.integrate(f*(x), (x, -sym.oo, sym.oo),  (y, -sym.oo, sym.oo))*sym.integrate(f*(y), (x, -sym.oo, sym.oo),  (y, -sym.oo, sym.oo))"
   ]
  },
  {
   "cell_type": "code",
   "execution_count": 43,
   "metadata": {},
   "outputs": [
    {
     "data": {
      "text/latex": [
       "$\\displaystyle -0.00617283950617284$"
      ],
      "text/plain": [
       "-0.00617283950617284"
      ]
     },
     "execution_count": 43,
     "metadata": {},
     "output_type": "execute_result"
    }
   ],
   "source": [
    "# Hallar la covarianza marginal usando otra expresión:\n",
    "a = x-sym.integrate(f*x, (x, -sym.oo, sym.oo),  (y, -sym.oo, sym.oo))\n",
    "b = y-sym.integrate(f*y, (x, -sym.oo, sym.oo),  (y, -sym.oo, sym.oo))\n",
    "e = sym.integrate(f*(a*b), (x, -sym.oo, sym.oo),  (y, -sym.oo, sym.oo))\n",
    "e"
   ]
  },
  {
   "cell_type": "markdown",
   "metadata": {},
   "source": [
    "Sabemos que dos variables aleatorias son independientes si:\n",
    "$$\n",
    "P(X\\in A,Y\\in B) = P(X\\in A)\\times P(Y\\in B)\n",
    "$$\n",
    "Por lo tanto, para verificar en python que las dos variables son independientes debemos revisar que para calcular $P(X\\in A,Y\\in B)$ solamente necesitamos multiplicar las dos distribuciones marginales. Esto equivale a decir que \n",
    "\n",
    "$$\n",
    "P(X\\in A)\\times P(Y\\in B)=g(x)\\times h(y) = f(x,y)\n",
    "$$"
   ]
  },
  {
   "cell_type": "code",
   "execution_count": 44,
   "metadata": {},
   "outputs": [
    {
     "name": "stdout",
     "output_type": "stream",
     "text": [
      "Las variables x & y no son independientes\n"
     ]
    }
   ],
   "source": [
    "# ¿Son las variables x & y independientes?\n",
    "# Revisamos la siguiente igualdad: f = g*h\n",
    "if f == g*h:\n",
    "    print(\"Las variables x & y son independientes\")\n",
    "else:\n",
    "    print(\"Las variables x & y no son independientes\")\n"
   ]
  },
  {
   "cell_type": "markdown",
   "metadata": {},
   "source": [
    "# Punto 2"
   ]
  },
  {
   "cell_type": "code",
   "execution_count": 98,
   "metadata": {},
   "outputs": [
    {
     "data": {
      "text/latex": [
       "$\\displaystyle \\begin{cases} \\frac{x^{2}}{3} & \\text{for}\\: x \\geq -1 \\wedge x \\leq 2 \\\\0 & \\text{otherwise} \\end{cases}$"
      ],
      "text/plain": [
       "Piecewise((x**2/3, (x >= -1) & (x <= 2)), (0, True))"
      ]
     },
     "execution_count": 98,
     "metadata": {},
     "output_type": "execute_result"
    }
   ],
   "source": [
    "f = sym.Piecewise(\n",
    "    ((x**2)/3, sym.And(x>=-1, x<=2)),\n",
    "    (0, True))\n",
    "f"
   ]
  },
  {
   "cell_type": "code",
   "execution_count": 99,
   "metadata": {},
   "outputs": [
    {
     "data": {
      "text/latex": [
       "$\\displaystyle \\frac{1}{9}$"
      ],
      "text/plain": [
       "1/9"
      ]
     },
     "execution_count": 99,
     "metadata": {},
     "output_type": "execute_result"
    }
   ],
   "source": [
    "# Ejercicio a)\n",
    "sym.integrate(f, (x, 0, 1))"
   ]
  },
  {
   "cell_type": "code",
   "execution_count": 101,
   "metadata": {},
   "outputs": [
    {
     "data": {
      "text/latex": [
       "$\\displaystyle \\frac{7}{9}$"
      ],
      "text/plain": [
       "7/9"
      ]
     },
     "execution_count": 101,
     "metadata": {},
     "output_type": "execute_result"
    }
   ],
   "source": [
    "# Ejercicio b)\n",
    "sym.integrate(f, (x, 1, 2))"
   ]
  },
  {
   "cell_type": "markdown",
   "metadata": {},
   "source": [
    "# Punto 4"
   ]
  },
  {
   "cell_type": "code",
   "execution_count": 108,
   "metadata": {},
   "outputs": [
    {
     "data": {
      "text/latex": [
       "$\\displaystyle \\begin{cases} e^{- x} & \\text{for}\\: x > 0 \\\\0 & \\text{otherwise} \\end{cases}$"
      ],
      "text/plain": [
       "Piecewise((exp(-x), x > 0), (0, True))"
      ]
     },
     "execution_count": 108,
     "metadata": {},
     "output_type": "execute_result"
    }
   ],
   "source": [
    "f=sym.Piecewise(\n",
    "    (sym.exp(-x), x>0),\n",
    "    (0, True)\n",
    ")\n",
    "f"
   ]
  },
  {
   "cell_type": "code",
   "execution_count": 109,
   "metadata": {},
   "outputs": [
    {
     "data": {
      "text/latex": [
       "$\\displaystyle e^{\\frac{2 x}{3}}$"
      ],
      "text/plain": [
       "exp(2*x/3)"
      ]
     },
     "execution_count": 109,
     "metadata": {},
     "output_type": "execute_result"
    }
   ],
   "source": [
    "g=sym.exp(2*x/3)\n",
    "g"
   ]
  },
  {
   "cell_type": "code",
   "execution_count": 110,
   "metadata": {},
   "outputs": [
    {
     "data": {
      "text/latex": [
       "$\\displaystyle 3$"
      ],
      "text/plain": [
       "3"
      ]
     },
     "execution_count": 110,
     "metadata": {},
     "output_type": "execute_result"
    }
   ],
   "source": [
    "sym.integrate(f*g, (x, -sym.oo, sym.oo))"
   ]
  }
 ],
 "metadata": {
  "kernelspec": {
   "display_name": "Python 3 (ipykernel)",
   "language": "python",
   "name": "python3"
  },
  "language_info": {
   "codemirror_mode": {
    "name": "ipython",
    "version": 3
   },
   "file_extension": ".py",
   "mimetype": "text/x-python",
   "name": "python",
   "nbconvert_exporter": "python",
   "pygments_lexer": "ipython3",
   "version": "3.9.13"
  }
 },
 "nbformat": 4,
 "nbformat_minor": 2
}
