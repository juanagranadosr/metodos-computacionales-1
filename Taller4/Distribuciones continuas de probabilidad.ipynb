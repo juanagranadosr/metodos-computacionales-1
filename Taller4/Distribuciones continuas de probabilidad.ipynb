{
 "cells": [
  {
   "cell_type": "code",
   "execution_count": null,
   "id": "91a7d26e",
   "metadata": {},
   "outputs": [],
   "source": []
  },
  {
   "cell_type": "markdown",
   "id": "3f1b5aa8",
   "metadata": {},
   "source": [
    "Ejercicios: 1, 4."
   ]
  },
  {
   "cell_type": "markdown",
   "id": "f014ff5e",
   "metadata": {},
   "source": [
    "### Ejercicio 4. Una variable aleatoria continua $X$ tiene una función densidad: $$f(x,y) = \\begin{cases} \\frac{2}{3}(x+2y) & \\text{si } 0\\leq x \\leq 1, 0\\leq y\\leq 1 \\\\ 0 & \\text{en otro caso }\\end{cases}.$$ Encuentre analíticamente y através del paquete Sympy los siguientes valores:"
   ]
  },
  {
   "cell_type": "markdown",
   "id": "84a4dd21",
   "metadata": {},
   "source": [
    "#### (a) Verifique que sea una función de densiadad conjunta válida."
   ]
  },
  {
   "cell_type": "code",
   "execution_count": null,
   "id": "b54086bd",
   "metadata": {},
   "outputs": [],
   "source": []
  },
  {
   "cell_type": "markdown",
   "id": "f0ed16aa",
   "metadata": {},
   "source": [
    "#### (b) Hallar las distribuciones marginales $g(x)$ y $h(y)$."
   ]
  },
  {
   "cell_type": "code",
   "execution_count": null,
   "id": "9dd64185",
   "metadata": {},
   "outputs": [],
   "source": []
  },
  {
   "cell_type": "markdown",
   "id": "c9d9facc",
   "metadata": {},
   "source": [
    "#### (c) $\\mathbb{E}(x)=\\frac{10}{18}$."
   ]
  },
  {
   "cell_type": "code",
   "execution_count": null,
   "id": "c14a126c",
   "metadata": {},
   "outputs": [],
   "source": []
  },
  {
   "cell_type": "markdown",
   "id": "aa0af8ea",
   "metadata": {},
   "source": [
    "#### (d) $\\mathbb{E}(y)=\\frac{11}{18}$."
   ]
  },
  {
   "cell_type": "code",
   "execution_count": null,
   "id": "df377665",
   "metadata": {},
   "outputs": [],
   "source": []
  },
  {
   "cell_type": "markdown",
   "id": "53980863",
   "metadata": {},
   "source": [
    "#### (e) Calcular la covarianza usando: $\\sigma_{xy}=\\mathbb{E}(xy)-\\mathbb{E}(x)\\mathbb{E}(y) = -0.00617$."
   ]
  },
  {
   "cell_type": "code",
   "execution_count": null,
   "id": "35b700e1",
   "metadata": {},
   "outputs": [],
   "source": []
  },
  {
   "cell_type": "markdown",
   "id": "f8498814",
   "metadata": {},
   "source": [
    "#### (f) Calcular la covarianza usando: $\\sigma_{xy}=\\mathbb{E}((x-\\hat{\\mu}_x)(y-\\hat{\\mu}_y)) = -0.00617$."
   ]
  },
  {
   "cell_type": "code",
   "execution_count": null,
   "id": "f258bd6f",
   "metadata": {},
   "outputs": [],
   "source": []
  },
  {
   "cell_type": "markdown",
   "id": "fa889d22",
   "metadata": {},
   "source": [
    "#### (g) ¿Son las variables $x$ e $y$ independientes?"
   ]
  },
  {
   "cell_type": "code",
   "execution_count": null,
   "id": "ccf4607d",
   "metadata": {},
   "outputs": [],
   "source": []
  },
  {
   "cell_type": "markdown",
   "id": "d8ad70ab",
   "metadata": {},
   "source": [
    "### Ejercicio 4. Una variable aleatoria continua $X$ tiene una función densidad: $$f(x) = \\begin{cases} e^{-x} & \\text{si } x > 0\\\\ 0 & \\text{en otro caso }\\end{cases}.$$ Encuentre el valor esperado de $g(X)=e^{2X/3}=3$. Recuerde que el valor esperado de la variable aleatoria $g(X)$ está dada por $$\\hat{\\mu}_{g(X)}=\\int_{-\\infty}^{\\infty}g(x)f(x)dx.$$"
   ]
  },
  {
   "cell_type": "code",
   "execution_count": null,
   "id": "d3bcd545",
   "metadata": {},
   "outputs": [],
   "source": []
  }
 ],
 "metadata": {
  "kernelspec": {
   "display_name": "Python 3 (ipykernel)",
   "language": "python",
   "name": "python3"
  },
  "language_info": {
   "codemirror_mode": {
    "name": "ipython",
    "version": 3
   },
   "file_extension": ".py",
   "mimetype": "text/x-python",
   "name": "python",
   "nbconvert_exporter": "python",
   "pygments_lexer": "ipython3",
   "version": "3.9.13"
  }
 },
 "nbformat": 4,
 "nbformat_minor": 5
}
