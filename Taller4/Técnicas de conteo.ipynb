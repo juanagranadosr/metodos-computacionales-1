{
 "cells": [
  {
   "cell_type": "code",
   "execution_count": 3,
   "id": "9474f107",
   "metadata": {},
   "outputs": [],
   "source": [
    "import numpy as np"
   ]
  },
  {
   "cell_type": "markdown",
   "id": "cdfab385",
   "metadata": {},
   "source": [
    "Ejercicios: 20, 22(hacerlo computacional tambien), 23"
   ]
  },
  {
   "cell_type": "markdown",
   "id": "eb76bad1",
   "metadata": {},
   "source": [
    "### Ejercicio 20. Demostrar la fórmula de combinaciones con repetición.\n",
    "\n",
    "La fórmula a verificar es:\n",
    "$$C_r^n=\\begin{pmatrix} n+r-1 \\\\ r \\end{pmatrix} =\\frac{(r+n-1)!}{r!(n-1)!}. $$\n",
    "\n",
    "Para demostrar esta fórmula visualizar $n$ canastas identicas con $r$ manzanas indistinguibles a distribuir en las canastas. Para esta situación se tienen dos posibles situaciones: la canasta está vacia o tiene una o más manzanas. En este problema la fórmula a verificar correspondería a las posibles combinaciones.\n",
    "\n",
    "Para ver esto coloquemos distrubuyamos las $r$ manzana\n",
    "s en las $n$ canastas. Visualmente sean los $\\bullet$ la representación de las manzanas y $|$ los separadores de las canastas ($n$ canastas equivaldría a $n-1$ separadores). Es decir:\n",
    "$$\\bullet|\\bullet\\bullet|\\dots|\\bullet$$\n",
    "donde se dividieron las $r$ $\\bullet$ en $n$ canastas. Como se tienen $r$ objetos y $n-1$ separadores se tiene que en total hay $r + (n-1)$ elementos en la representación, por lo que cada separación se puede colocar únicamente en este rango y se representaría matematicamente como \"$r+(n-1)$ choose $r$\":\n",
    "$$C_r^n = \\begin{pmatrix} n+r-1 \\\\ r \\end{pmatrix} =\\frac{(r+n-1)!}{r!(n-1)!}.$$"
   ]
  },
  {
   "cell_type": "markdown",
   "id": "05e182d9",
   "metadata": {},
   "source": [
    "### Ejercicio 22. Cúantas sumas de 3 enteros no negativos dan 10.\n",
    "\n",
    "Teniendo en cuenta lo anterior, para obtener cuantas posibles formas se pueden escoger tres enteros tal que sumen 10 podemos imaginar que se tienen 10 manzanas y se quieren distribuir en 3 canastas (2 separadores). Matematicamente se tiene:\n",
    "$$C_{10}^{3} =\\frac{(10+3-1)!}{10!(3-1)!}=66$$"
   ]
  },
  {
   "cell_type": "code",
   "execution_count": 17,
   "id": "eba0cb03",
   "metadata": {},
   "outputs": [],
   "source": [
    "def conteo(n, r):\n",
    "    N = n-1\n",
    "    Obj = n+r-1\n",
    "    return np.math.factorial(Obj)/(np.math.factorial(N)*np.math.factorial(Obj-N))"
   ]
  },
  {
   "cell_type": "code",
   "execution_count": 18,
   "id": "b5b7472a",
   "metadata": {},
   "outputs": [
    {
     "data": {
      "text/plain": [
       "66.0"
      ]
     },
     "execution_count": 18,
     "metadata": {},
     "output_type": "execute_result"
    }
   ],
   "source": [
    "# Para el caso de los 3 eneteros que sumen 10 se tiene que n=3 y r=10\n",
    "conteo(3,10)"
   ]
  },
  {
   "cell_type": "markdown",
   "id": "e8fcc8d6",
   "metadata": {},
   "source": [
    "### Ejercicio 23. Se tienen 9 llaves: 3 rojas, 3 azules y 3 verdes. Si elegimos 4, ¿De cuantas formas se pueden distribuir los colores?\n",
    "\n",
    "Nuevamente utilizando la fórmula demostrada:\n",
    "\n",
    "$$C_4^3 = \\frac{(4+3-1)!}{4!(3-1)!}=15$$\n",
    "\n",
    "Esto mostraría de cuantas formas es posible escoger 4 llaves de 3 colores distintos. Sin embargo, hay que tener en cuenta que hay tres casos que no son posibles, estos son los 3 casos en los que las cuatro llaves sean del mismo color (pues solo hay tres llaves de cada color). \n",
    "Luego hay\n",
    "$$15-3=12$$\n",
    "formas de distribuir los colores."
   ]
  },
  {
   "cell_type": "code",
   "execution_count": null,
   "id": "70977a3c",
   "metadata": {},
   "outputs": [],
   "source": []
  }
 ],
 "metadata": {
  "kernelspec": {
   "display_name": "Python 3 (ipykernel)",
   "language": "python",
   "name": "python3"
  },
  "language_info": {
   "codemirror_mode": {
    "name": "ipython",
    "version": 3
   },
   "file_extension": ".py",
   "mimetype": "text/x-python",
   "name": "python",
   "nbconvert_exporter": "python",
   "pygments_lexer": "ipython3",
   "version": "3.9.13"
  }
 },
 "nbformat": 4,
 "nbformat_minor": 5
}
