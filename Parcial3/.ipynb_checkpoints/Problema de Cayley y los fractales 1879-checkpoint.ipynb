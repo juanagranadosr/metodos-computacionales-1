{
 "cells": [
  {
   "cell_type": "code",
   "execution_count": 1,
   "id": "be9d994b",
   "metadata": {},
   "outputs": [],
   "source": [
    "import numpy as np\n",
    "import matplotlib.pyplot as plt\n",
    "import sympy as sym\n",
    "from scipy import integrate\n",
    "from tqdm import tqdm"
   ]
  },
  {
   "cell_type": "markdown",
   "id": "840055eb",
   "metadata": {},
   "source": [
    "Álgebra lineal problema 17\n"
   ]
  },
  {
   "cell_type": "code",
   "execution_count": 2,
   "id": "f0cc70e6",
   "metadata": {},
   "outputs": [],
   "source": [
    "x = sym.Symbol('x', real=True)\n",
    "y = sym.Symbol('y', real=True)\n",
    "z = x + sym.I*y"
   ]
  },
  {
   "cell_type": "code",
   "execution_count": 3,
   "id": "153adbf5",
   "metadata": {},
   "outputs": [],
   "source": [
    "def f(z):\n",
    "    return z**3 - 1"
   ]
  },
  {
   "cell_type": "code",
   "execution_count": 4,
   "id": "10f0ab2d",
   "metadata": {},
   "outputs": [],
   "source": [
    "F = [sym.re(f(z)), sym.im(f(z))]"
   ]
  },
  {
   "cell_type": "code",
   "execution_count": 5,
   "id": "5513c6ad",
   "metadata": {},
   "outputs": [
    {
     "data": {
      "text/latex": [
       "$\\displaystyle \\left[\\begin{matrix}3 x^{2} - 3 y^{2} & - 6 x y\\\\6 x y & 3 x^{2} - 3 y^{2}\\end{matrix}\\right]$"
      ],
      "text/plain": [
       "Matrix([\n",
       "[3*x**2 - 3*y**2,          -6*x*y],\n",
       "[          6*x*y, 3*x**2 - 3*y**2]])"
      ]
     },
     "execution_count": 5,
     "metadata": {},
     "output_type": "execute_result"
    }
   ],
   "source": [
    "def Jacobian (F):\n",
    "    return sym.Matrix( [[sym.diff(F[0], x), sym.diff(F[0], y)], [sym.diff(F[1], x), sym.diff(F[1], y)]] )\n",
    "\n",
    "J = Jacobian(F)\n",
    "J"
   ]
  },
  {
   "cell_type": "code",
   "execution_count": 6,
   "id": "5abf9b2a",
   "metadata": {},
   "outputs": [],
   "source": [
    "Fn = sym.lambdify([x, y], F, 'numpy')\n",
    "Jn = sym.lambdify([x, y], J, 'numpy')"
   ]
  },
  {
   "cell_type": "code",
   "execution_count": 17,
   "id": "73febd8f",
   "metadata": {},
   "outputs": [],
   "source": [
    "def rootsNR (z0, Fn, Jn):\n",
    "    zn = z0\n",
    "    for i in range(1000):\n",
    "        x2 = ((zn - np.dot( np.linalg.inv(Jn(zn[0], zn[1])), Fn(zn[0], zn[1]) ) + zn)[0])**2\n",
    "        y2 = ((zn - np.dot( np.linalg.inv(Jn(zn[0], zn[1])), Fn(zn[0], zn[1]) ) + zn)[1])**2\n",
    "        norm = np.sqrt(x2+y2)\n",
    "        \n",
    "        if np.absolute(norm) < 1e-7:\n",
    "            break\n",
    "        \n",
    "        zn = zn - np.dot( np.linalg.inv(Jn(zn[0], zn[1])), Fn(zn[0], zn[1]) )\n",
    "        \n",
    "    return np.array([zn[0],zn[1]])"
   ]
  },
  {
   "cell_type": "code",
   "execution_count": 18,
   "id": "25e2b30e",
   "metadata": {},
   "outputs": [
    {
     "data": {
      "text/plain": [
       "array([-0.5      ,  0.8660254])"
      ]
     },
     "execution_count": 18,
     "metadata": {},
     "output_type": "execute_result"
    }
   ],
   "source": [
    "z0 = np.array([0.5, 0.5])\n",
    "rootsNR(z0, Fn, Jn )"
   ]
  },
  {
   "cell_type": "code",
   "execution_count": 19,
   "id": "694d721a",
   "metadata": {},
   "outputs": [],
   "source": [
    "N = 300\n",
    "x = np.linspace(-1, 1, N)\n",
    "y = np.linspace(-1, 1, N)\n"
   ]
  },
  {
   "cell_type": "code",
   "execution_count": 20,
   "id": "41404dc0",
   "metadata": {},
   "outputs": [
    {
     "name": "stderr",
     "output_type": "stream",
     "text": [
      "100%|███████████████████████████████████████████| 20/20 [00:56<00:00,  2.82s/it]\n"
     ]
    }
   ],
   "source": [
    "Fractal = np.zeros((N,N), np.int64)\n",
    "for i in tqdm(range(N)):\n",
    "    for j in range(N):\n",
    "        if round((rootsNR((x[i], y[j]), Fn, Jn))[0], 0)==1 and  round((rootsNR((x[i], y[j]), Fn, Jn))[1], 3)==0:\n",
    "            Fractal[i][j] = 225\n",
    "        elif round((rootsNR((x[i], y[j]), Fn, Jn))[0], 1)==-0.5 and round((rootsNR((x[i], y[j]), Fn, Jn))[1], 3)==-0.866:\n",
    "            Fractal[i][j] = 100\n",
    "        elif round((rootsNR((x[i], y[j]), Fn, Jn))[0], 1)==-0.5 and round((rootsNR((x[i], y[j]), Fn, Jn))[1], 3)==0.866:\n",
    "            Fractal[i][j] = 20\n"
   ]
  },
  {
   "cell_type": "code",
   "execution_count": 21,
   "id": "b0c22ff9",
   "metadata": {},
   "outputs": [
    {
     "data": {
      "text/plain": [
       "<matplotlib.image.AxesImage at 0x7ff5a4e3ea00>"
      ]
     },
     "execution_count": 21,
     "metadata": {},
     "output_type": "execute_result"
    },
    {
     "data": {
      "image/png": "[encoded data removed]",
      "text/plain": [
       "<Figure size 640x480 with 1 Axes>"
      ]
     },
     "metadata": {},
     "output_type": "display_data"
    }
   ],
   "source": [
    "plt.imshow(Fractal, cmap='coolwarm' ,extent=[-1,1,-1,1])"
   ]
  },
  {
   "cell_type": "code",
   "execution_count": null,
   "id": "0a8bea77",
   "metadata": {},
   "outputs": [],
   "source": []
  },
  {
   "cell_type": "code",
   "execution_count": null,
   "id": "4f75e32c",
   "metadata": {},
   "outputs": [],
   "source": []
  }
 ],
 "metadata": {
  "kernelspec": {
   "display_name": "Python 3 (ipykernel)",
   "language": "python",
   "name": "python3"
  },
  "language_info": {
   "codemirror_mode": {
    "name": "ipython",
    "version": 3
   },
   "file_extension": ".py",
   "mimetype": "text/x-python",
   "name": "python",
   "nbconvert_exporter": "python",
   "pygments_lexer": "ipython3",
   "version": "3.9.13"
  }
 },
 "nbformat": 4,
 "nbformat_minor": 5
}
