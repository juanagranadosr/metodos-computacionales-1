{
 "cells": [
  {
   "cell_type": "code",
   "execution_count": 2,
   "id": "0a28d13d",
   "metadata": {},
   "outputs": [],
   "source": [
    "import numpy as np\n",
    "import matplotlib.pyplot as plt\n",
    "import sympy as sym\n",
    "from scipy import integrate"
   ]
  },
  {
   "cell_type": "code",
   "execution_count": 3,
   "id": "abc2af64",
   "metadata": {},
   "outputs": [
    {
     "data": {
      "text/plain": [
       "[1/(12*h), -2/(3*h), 0, 2/(3*h), -1/(12*h)]"
      ]
     },
     "execution_count": 3,
     "metadata": {},
     "output_type": "execute_result"
    }
   ],
   "source": [
    "x = sym.Symbol('x',real=True)\n",
    "h = sym.Symbol('h',real=True)\n",
    "\n",
    "P = 2\n",
    "\n",
    "X = [-2*h,-1*h,0*h,1*h,2*h]\n",
    "\n",
    "def Lagrange(x, xi, i):\n",
    "    \"\"\" x es el punto que se quiere aproximar\n",
    "        xi son todos los puntos de la función original\n",
    "        i es la iteración de los puntos de la función original\n",
    "        \"\"\"\n",
    "    prod = 1\n",
    "    n = len(xi)\n",
    "    \n",
    "    for j in range(n):\n",
    "        if i!=j:\n",
    "            prod *= (x - xi[j])/(xi[i]-xi[j])\n",
    "    return prod\n",
    "\n",
    "def GetCoefficients(x,p,X):\n",
    "    Coefficients = []\n",
    "    for i in range(len(X)):\n",
    "        Li = Lagrange(x,X,i)\n",
    "        dLi = sym.diff(Li,x,1)\n",
    "        C = dLi.subs(x,X[p])\n",
    "        Coefficients.append(C)\n",
    "\n",
    "    return Coefficients\n",
    "\n",
    "GetCoefficients(x, P, X)"
   ]
  },
  {
   "cell_type": "markdown",
   "id": "2fcb3e94",
   "metadata": {},
   "source": [
    "l) Al aproximar un polinomio que pasa por cinco puntos, el polinomio de interpolación obtenido a través del método de Lagrange es de orden 4. Por esto, el orden del error asociado será de orden 5."
   ]
  },
  {
   "cell_type": "code",
   "execution_count": null,
   "id": "e524411c",
   "metadata": {},
   "outputs": [],
   "source": []
  }
 ],
 "metadata": {
  "kernelspec": {
   "display_name": "Python 3 (ipykernel)",
   "language": "python",
   "name": "python3"
  },
  "language_info": {
   "codemirror_mode": {
    "name": "ipython",
    "version": 3
   },
   "file_extension": ".py",
   "mimetype": "text/x-python",
   "name": "python",
   "nbconvert_exporter": "python",
   "pygments_lexer": "ipython3",
   "version": "3.9.13"
  }
 },
 "nbformat": 4,
 "nbformat_minor": 5
}
