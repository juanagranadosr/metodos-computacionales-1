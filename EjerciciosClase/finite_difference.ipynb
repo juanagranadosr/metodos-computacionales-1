{
 "cells": [
  {
   "cell_type": "code",
   "execution_count": 2,
   "id": "a8864049",
   "metadata": {},
   "outputs": [
    {
     "name": "stdout",
     "output_type": "stream",
     "text": [
      "[[ 0.  0. -0. -0.  1.]\n",
      " [ 0. -0.  0.  0. -4.]\n",
      " [ 0.  0. -0.  0.  6.]\n",
      " [ 0.  0.  0. -0. -4.]\n",
      " [ 0. -0. -0.  0.  1.]]\n"
     ]
    }
   ],
   "source": [
    "import numpy as np\n",
    "\n",
    "def FindCoefficients (points, der_order, h):\n",
    "    \n",
    "    if der_order+1!=len(points):\n",
    "        return 'No se puede hacer'\n",
    "    \n",
    "    m = np.zeros((len(points), len(points)))\n",
    "    n = np.zeros(len(points))\n",
    "     \n",
    "    for i in range(der_order+1):\n",
    "        for j in range(der_order+1):\n",
    "            m[i][j]=(points[j])**i\n",
    "            \n",
    "    for i in range(der_order+1):\n",
    "        if i==(der_order):\n",
    "            n[i] = np.math.factorial(der_order)\n",
    "    \n",
    "    M = np.linalg.inv(m)*n\n",
    "    \n",
    "    return M\n",
    "        \n",
    "print(FindCoefficients ([-2, -1, 0, 1, 2], 4, 1))"
   ]
  },
  {
   "cell_type": "code",
   "execution_count": null,
   "id": "fe2a3539",
   "metadata": {},
   "outputs": [],
   "source": []
  }
 ],
 "metadata": {
  "kernelspec": {
   "display_name": "Python 3 (ipykernel)",
   "language": "python",
   "name": "python3"
  },
  "language_info": {
   "codemirror_mode": {
    "name": "ipython",
    "version": 3
   },
   "file_extension": ".py",
   "mimetype": "text/x-python",
   "name": "python",
   "nbconvert_exporter": "python",
   "pygments_lexer": "ipython3",
   "version": "3.9.13"
  }
 },
 "nbformat": 4,
 "nbformat_minor": 5
}
