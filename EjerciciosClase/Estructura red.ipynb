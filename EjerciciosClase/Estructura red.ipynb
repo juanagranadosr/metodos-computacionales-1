{
 "cells": [
  {
   "cell_type": "code",
   "execution_count": 1,
   "id": "481f8b63",
   "metadata": {},
   "outputs": [],
   "source": [
    "import numpy as np\n",
    "import matplotlib.pyplot as plt\n",
    "from matplotlib import cm\n",
    "from mpl_toolkits.mplot3d import axes3d"
   ]
  },
  {
   "cell_type": "code",
   "execution_count": 2,
   "id": "404d5274",
   "metadata": {},
   "outputs": [],
   "source": [
    "sigm = lambda x: 1/(1+np.exp(-x))"
   ]
  },
  {
   "cell_type": "code",
   "execution_count": 17,
   "id": "a5e36b4d",
   "metadata": {},
   "outputs": [],
   "source": [
    "class Layer:\n",
    "    def __init__(self, NC, NN, ActFunc):\n",
    "        self.NC = NC\n",
    "        self.NN = NN\n",
    "        self.ActFun = ActFunc\n",
    "        \n",
    "        self.W = np.random.uniform(-10,10, size = (self.NC, self.NN))\n",
    "        self.b = np.random.uniform(-10,10, size = (1, self.NN))\n",
    "        \n",
    "    def Activation(self,x):\n",
    "        z = np.dot(x,self.W)\n",
    "        return self.ActFunc(z)[0]"
   ]
  },
  {
   "cell_type": "code",
   "execution_count": 20,
   "id": "e86c7144",
   "metadata": {},
   "outputs": [
    {
     "data": {
      "text/plain": [
       "(array([[-4.53726345, -4.94083855,  8.7644324 , -7.81512755],\n",
       "        [ 4.05719585, -8.01310306, -4.03483947, -0.23386714]]),\n",
       " array([[-6.0590855 ,  6.71139167, -9.39795427,  4.66046345]]))"
      ]
     },
     "execution_count": 20,
     "metadata": {},
     "output_type": "execute_result"
    }
   ],
   "source": [
    "#capa cero\n",
    "L0 = Layer(2,4,sigm)\n",
    "L0.W,L0.b"
   ]
  },
  {
   "cell_type": "code",
   "execution_count": null,
   "id": "85f1b3dd",
   "metadata": {},
   "outputs": [],
   "source": []
  }
 ],
 "metadata": {
  "kernelspec": {
   "display_name": "Python 3 (ipykernel)",
   "language": "python",
   "name": "python3"
  },
  "language_info": {
   "codemirror_mode": {
    "name": "ipython",
    "version": 3
   },
   "file_extension": ".py",
   "mimetype": "text/x-python",
   "name": "python",
   "nbconvert_exporter": "python",
   "pygments_lexer": "ipython3",
   "version": "3.9.13"
  }
 },
 "nbformat": 4,
 "nbformat_minor": 5
}
