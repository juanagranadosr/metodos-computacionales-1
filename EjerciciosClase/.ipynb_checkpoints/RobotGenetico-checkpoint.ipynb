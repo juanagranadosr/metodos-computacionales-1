{
 "cells": [
  {
   "cell_type": "code",
   "execution_count": 4,
   "id": "abdc6c48",
   "metadata": {},
   "outputs": [],
   "source": [
    "import numpy as np\n",
    "import matplotlib.pyplot as plt\n",
    "from IPython.display import clear_output\n",
    "import time"
   ]
  },
  {
   "cell_type": "code",
   "execution_count": 7,
   "id": "df318b61",
   "metadata": {},
   "outputs": [],
   "source": [
    "class Robot:\n",
    "    \n",
    "    def __init__(self,dt,Id=0):\n",
    "        \n",
    "        #tiempo\n",
    "        self.dt = dt\n",
    "        self.Id = Id\n",
    "        \n",
    "        #posicion\n",
    "        self.r = np.\n",
    "        \n",
    "        theta = np.random.uniform(0,2*np.pi)\n",
    "        V = 1.\n",
    "        self.v = np.array([V*np.cos(theta),V*np.sin(theta)])\n",
    "        \n",
    "    def Evolution(self):\n",
    "        self.r += self.v*self.dt"
   ]
  },
  {
   "cell_type": "code",
   "execution_count": 8,
   "id": "abcfe90d",
   "metadata": {},
   "outputs": [],
   "source": [
    "r1 = Robot(0.1,0)"
   ]
  },
  {
   "cell_type": "code",
   "execution_count": 9,
   "id": "a1d3c281",
   "metadata": {},
   "outputs": [
    {
     "data": {
      "text/plain": [
       "array([-0.85565777, -0.51754206])"
      ]
     },
     "execution_count": 9,
     "metadata": {},
     "output_type": "execute_result"
    }
   ],
   "source": [
    "r1.v"
   ]
  },
  {
   "cell_type": "code",
   "execution_count": null,
   "id": "77c4e83f",
   "metadata": {},
   "outputs": [],
   "source": []
  }
 ],
 "metadata": {
  "kernelspec": {
   "display_name": "Python 3 (ipykernel)",
   "language": "python",
   "name": "python3"
  },
  "language_info": {
   "codemirror_mode": {
    "name": "ipython",
    "version": 3
   },
   "file_extension": ".py",
   "mimetype": "text/x-python",
   "name": "python",
   "nbconvert_exporter": "python",
   "pygments_lexer": "ipython3",
   "version": "3.9.13"
  }
 },
 "nbformat": 4,
 "nbformat_minor": 5
}
