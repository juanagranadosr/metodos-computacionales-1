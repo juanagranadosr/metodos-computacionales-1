{
 "cells": [
  {
   "cell_type": "code",
   "execution_count": 1,
   "id": "6a9d37f8",
   "metadata": {},
   "outputs": [
    {
     "data": {
      "text/html": [
       "<style>.container { width:90% !important; }</style>"
      ],
      "text/plain": [
       "<IPython.core.display.HTML object>"
      ]
     },
     "metadata": {},
     "output_type": "display_data"
    }
   ],
   "source": [
    "from IPython.display import display, HTML\n",
    "display(HTML(\"<style>.container { width:90% !important; }</style>\"))\n",
    "\n",
    "import numpy as np\n",
    "import matplotlib.pyplot as plt\n",
    "from scipy.stats import bernoulli\n",
    "from scipy.stats import binom\n",
    "from scipy.stats import poisson"
   ]
  },
  {
   "cell_type": "code",
   "execution_count": 3,
   "id": "dfdc3065",
   "metadata": {},
   "outputs": [],
   "source": [
    "def GetHisto(Data, bins):\n",
    "    h, bins = np.histogram(Data, bins=bins)\n",
    "    w = np.diff(bins) # ancho de clase (grosor cada bin)\n",
    "    m = bins[:-1] + 0.5*w[0] # marca de clase (punto medio en cada bin)\n",
    "    \n",
    "    hnorm = h/np.sum(h*w) # frecuencias relativas (porcentajes)\n",
    "    \n",
    "    return h, hnorm, m, w"
   ]
  },
  {
   "cell_type": "code",
   "execution_count": 4,
   "id": "e48c3b40",
   "metadata": {},
   "outputs": [],
   "source": [
    "p = 1/6\n",
    "N = 1000"
   ]
  },
  {
   "cell_type": "code",
   "execution_count": 8,
   "id": "ccccc9ce",
   "metadata": {},
   "outputs": [],
   "source": [
    "b = bernoulli.rvs(p, size = N) "
   ]
  },
  {
   "cell_type": "code",
   "execution_count": null,
   "id": "a9e73cca",
   "metadata": {},
   "outputs": [],
   "source": []
  }
 ],
 "metadata": {
  "kernelspec": {
   "display_name": "Python 3 (ipykernel)",
   "language": "python",
   "name": "python3"
  },
  "language_info": {
   "codemirror_mode": {
    "name": "ipython",
    "version": 3
   },
   "file_extension": ".py",
   "mimetype": "text/x-python",
   "name": "python",
   "nbconvert_exporter": "python",
   "pygments_lexer": "ipython3",
   "version": "3.9.13"
  }
 },
 "nbformat": 4,
 "nbformat_minor": 5
}
