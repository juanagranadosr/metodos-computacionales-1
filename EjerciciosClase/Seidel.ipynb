{
 "cells": [
  {
   "cell_type": "code",
   "execution_count": 1,
   "id": "130bed0e",
   "metadata": {},
   "outputs": [],
   "source": [
    "%matplotlib notebook\n",
    "import numpy as np\n",
    "import matplotlib.pyplot as plt\n",
    "from mpl_toolkits.mplot3d import axes3d"
   ]
  },
  {
   "cell_type": "code",
   "execution_count": 2,
   "id": "2e2a1c39",
   "metadata": {},
   "outputs": [],
   "source": [
    "A = np.array([[3,-1,-1],[-1.,3.,1.],[2,1,4]])\n",
    "b = np.array([1.,3.,7.])"
   ]
  },
  {
   "cell_type": "code",
   "execution_count": 3,
   "id": "b1bbc3b1",
   "metadata": {},
   "outputs": [],
   "source": [
    "def GausSeidel(A,b,x0, itmax=1000, tolerancia= 1e-9):\n",
    "    \n",
    "    x = x0.copy()\n",
    "    for it in range(itmax):\n",
    "        \n",
    "        for i in range(A.shape[0]):\n",
    "            sum_ = 0.\n",
    "            \n",
    "            for j in range(A.shape[1]):\n",
    "                if j!=i:\n",
    "                    sum_ += A[i,j]*x[j]\n",
    "                    \n",
    "            x[i] = (b[i] - sum_)/A[i,i]\n",
    "            \n",
    "        print(it,x)\n",
    "        residuo = np.linalg.norm( np.dot(A,x) - b )\n",
    "        \n",
    "        if np.allclose(residuo,tolerancia,atol=tolerancia):\n",
    "            break\n",
    "        \n",
    "    return x"
   ]
  },
  {
   "cell_type": "code",
   "execution_count": 4,
   "id": "8a2d7954",
   "metadata": {},
   "outputs": [
    {
     "name": "stdout",
     "output_type": "stream",
     "text": [
      "0 [0.33333333 1.11111111 1.30555556]\n",
      "1 [1.13888889 0.94444444 0.94444444]\n",
      "2 [0.96296296 1.00617284 1.01697531]\n",
      "3 [1.00771605 0.99691358 0.99691358]\n",
      "4 [0.99794239 1.00034294 1.00094307]\n",
      "5 [1.00042867 0.99982853 0.99982853]\n",
      "6 [0.99988569 1.00001905 1.00005239]\n",
      "7 [1.00002381 0.99999047 0.99999047]\n",
      "8 [0.99999365 1.00000106 1.00000291]\n",
      "9 [1.00000132 0.99999947 0.99999947]\n",
      "10 [0.99999965 1.00000006 1.00000016]\n",
      "11 [1.00000007 0.99999997 0.99999997]\n",
      "12 [0.99999998 1.         1.00000001]\n",
      "13 [1. 1. 1.]\n",
      "14 [1. 1. 1.]\n",
      "15 [1. 1. 1.]\n"
     ]
    },
    {
     "data": {
      "text/plain": [
       "array([1., 1., 1.])"
      ]
     },
     "execution_count": 4,
     "metadata": {},
     "output_type": "execute_result"
    }
   ],
   "source": [
    "x0 = np.array([0.,0.,0.])\n",
    "GausSeidel(A,b,x0)"
   ]
  },
  {
   "cell_type": "code",
   "execution_count": null,
   "id": "212f0b59",
   "metadata": {},
   "outputs": [],
   "source": []
  }
 ],
 "metadata": {
  "kernelspec": {
   "display_name": "Python 3 (ipykernel)",
   "language": "python",
   "name": "python3"
  },
  "language_info": {
   "codemirror_mode": {
    "name": "ipython",
    "version": 3
   },
   "file_extension": ".py",
   "mimetype": "text/x-python",
   "name": "python",
   "nbconvert_exporter": "python",
   "pygments_lexer": "ipython3",
   "version": "3.9.13"
  }
 },
 "nbformat": 4,
 "nbformat_minor": 5
}
