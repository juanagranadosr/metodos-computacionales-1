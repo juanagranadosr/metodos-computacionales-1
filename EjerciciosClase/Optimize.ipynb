{
 "cells": [
  {
   "cell_type": "code",
   "execution_count": 9,
   "id": "c0bc1f91",
   "metadata": {},
   "outputs": [],
   "source": [
    "import scipy.optimize as spo\n",
    "import numpy as np\n",
    "import matplotlib.pyplot as plt"
   ]
  },
  {
   "cell_type": "code",
   "execution_count": 10,
   "id": "cc46be0c",
   "metadata": {},
   "outputs": [],
   "source": [
    "def f(x):\n",
    "    return x**2 - 12*x + 20"
   ]
  },
  {
   "cell_type": "code",
   "execution_count": 11,
   "id": "eb461645",
   "metadata": {},
   "outputs": [],
   "source": [
    "x = np.linspace(0,10,100)\n",
    "y = f(x)"
   ]
  },
  {
   "cell_type": "code",
   "execution_count": 13,
   "id": "f5438881",
   "metadata": {},
   "outputs": [
    {
     "data": {
      "text/plain": [
       "[<matplotlib.lines.Line2D at 0x7ff328a385e0>]"
      ]
     },
     "execution_count": 13,
     "metadata": {},
     "output_type": "execute_result"
    },
    {
     "data": {
      "image/png": "[encoded data removed]",
      "text/plain": [
       "<Figure size 640x480 with 1 Axes>"
      ]
     },
     "metadata": {},
     "output_type": "display_data"
    }
   ],
   "source": [
    "plt.plot(x,y)"
   ]
  },
  {
   "cell_type": "code",
   "execution_count": 14,
   "id": "5a2cc144",
   "metadata": {},
   "outputs": [
    {
     "name": "stdout",
     "output_type": "stream",
     "text": [
      "Optimization terminated successfully.\n",
      "         Current function value: -16.000000\n",
      "         Iterations: 20\n",
      "         Function evaluations: 40\n"
     ]
    },
    {
     "data": {
      "text/plain": [
       " final_simplex: (array([[6.        ],\n",
       "       [6.00009766]]), array([-16.        , -15.99999999]))\n",
       "           fun: -16.000000000000007\n",
       "       message: 'Optimization terminated successfully.'\n",
       "          nfev: 40\n",
       "           nit: 20\n",
       "        status: 0\n",
       "       success: True\n",
       "             x: array([6.])"
      ]
     },
     "execution_count": 14,
     "metadata": {},
     "output_type": "execute_result"
    }
   ],
   "source": [
    "x0 = 2 #prior, se supone que el 2 es el mejor modelo\n",
    "result = spo.minimize(f, x0, options = {'disp':True}, method = 'Nelder-Mead')\n",
    "result"
   ]
  },
  {
   "cell_type": "code",
   "execution_count": 15,
   "id": "2d2e95a6",
   "metadata": {},
   "outputs": [
    {
     "data": {
      "text/plain": [
       "array([6.])"
      ]
     },
     "execution_count": 15,
     "metadata": {},
     "output_type": "execute_result"
    }
   ],
   "source": [
    "result.x"
   ]
  },
  {
   "cell_type": "code",
   "execution_count": 16,
   "id": "fbd4d34e",
   "metadata": {},
   "outputs": [
    {
     "data": {
      "text/plain": [
       "-16.000000000000007"
      ]
     },
     "execution_count": 16,
     "metadata": {},
     "output_type": "execute_result"
    }
   ],
   "source": [
    "result.fun"
   ]
  },
  {
   "cell_type": "code",
   "execution_count": 23,
   "id": "733146eb",
   "metadata": {},
   "outputs": [],
   "source": [
    "def g(p):\n",
    "    return -p[0]*p[1]"
   ]
  },
  {
   "cell_type": "code",
   "execution_count": 35,
   "id": "967d0da2",
   "metadata": {},
   "outputs": [
    {
     "name": "stdout",
     "output_type": "stream",
     "text": [
      "Optimization terminated successfully    (Exit mode 0)\n",
      "            Current function value: -1249.9999999999957\n",
      "            Iterations: 4\n",
      "            Function evaluations: 12\n",
      "            Gradient evaluations: 4\n"
     ]
    }
   ],
   "source": [
    "p0 = [20,20]\n",
    "bounds = ((1, 100), (1, 100))\n",
    "constraints = ( {'type':'eq', 'fun': lambda p:2*p[0]+p[1]-100} )\n",
    "\n",
    "result = spo.minimize(g, p0, options = {'disp': True}, constraints = constraints, bounds = bounds)"
   ]
  },
  {
   "cell_type": "code",
   "execution_count": 36,
   "id": "a134fecb",
   "metadata": {},
   "outputs": [
    {
     "data": {
      "text/plain": [
       "array([25.0000015, 49.999997 ])"
      ]
     },
     "execution_count": 36,
     "metadata": {},
     "output_type": "execute_result"
    }
   ],
   "source": [
    "result.x"
   ]
  },
  {
   "cell_type": "markdown",
   "id": "1143630b",
   "metadata": {},
   "source": [
    "## Máximizar el volumen de una caja sin tapa con superficie 12."
   ]
  },
  {
   "cell_type": "code",
   "execution_count": 49,
   "id": "cee6b7d0",
   "metadata": {},
   "outputs": [],
   "source": [
    "def vol(p):\n",
    "    return -p[0]*p[1]*p[2]"
   ]
  },
  {
   "cell_type": "code",
   "execution_count": 56,
   "id": "a4a5ade2",
   "metadata": {},
   "outputs": [
    {
     "name": "stdout",
     "output_type": "stream",
     "text": [
      "Optimization terminated successfully    (Exit mode 0)\n",
      "            Current function value: -4.000000000107495\n",
      "            Iterations: 6\n",
      "            Function evaluations: 24\n",
      "            Gradient evaluations: 6\n"
     ]
    }
   ],
   "source": [
    "p0 = [5, 5, 5]\n",
    "bounds = ((1, 100), (1, 100), (1, 100))\n",
    "constraints = ( {'type':'eq', 'fun': lambda p: 2*p[0]*p[2] + 2*p[1]*p[2] + p[0]*p[1] - 12} )\n",
    "\n",
    "result = spo.minimize(vol, p0, options = {'disp': True}, constraints = constraints, bounds = bounds)"
   ]
  },
  {
   "cell_type": "code",
   "execution_count": 57,
   "id": "36662f74",
   "metadata": {},
   "outputs": [
    {
     "data": {
      "text/plain": [
       "array([2., 2., 1.])"
      ]
     },
     "execution_count": 57,
     "metadata": {},
     "output_type": "execute_result"
    }
   ],
   "source": [
    "result.x"
   ]
  },
  {
   "cell_type": "code",
   "execution_count": null,
   "id": "5e1e0ee8",
   "metadata": {},
   "outputs": [],
   "source": []
  }
 ],
 "metadata": {
  "kernelspec": {
   "display_name": "Python 3 (ipykernel)",
   "language": "python",
   "name": "python3"
  },
  "language_info": {
   "codemirror_mode": {
    "name": "ipython",
    "version": 3
   },
   "file_extension": ".py",
   "mimetype": "text/x-python",
   "name": "python",
   "nbconvert_exporter": "python",
   "pygments_lexer": "ipython3",
   "version": "3.9.13"
  }
 },
 "nbformat": 4,
 "nbformat_minor": 5
}
