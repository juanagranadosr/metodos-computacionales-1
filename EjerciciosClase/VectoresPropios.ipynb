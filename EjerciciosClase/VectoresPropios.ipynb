{
 "cells": [
  {
   "cell_type": "code",
   "execution_count": 1,
   "id": "37585f39",
   "metadata": {},
   "outputs": [],
   "source": [
    "import numpy as np"
   ]
  },
  {
   "cell_type": "code",
   "execution_count": 4,
   "id": "14ce8b90",
   "metadata": {},
   "outputs": [],
   "source": [
    "A = np.array([[1,2,-1], [1,0,1], [4,-4,5]])"
   ]
  },
  {
   "cell_type": "code",
   "execution_count": 6,
   "id": "44a3570d",
   "metadata": {},
   "outputs": [
    {
     "data": {
      "text/plain": [
       "(array([3., 2., 1.]),\n",
       " array([[-0.23570226,  0.43643578,  0.40824829],\n",
       "        [ 0.23570226, -0.21821789, -0.40824829],\n",
       "        [ 0.94280904, -0.87287156, -0.81649658]]))"
      ]
     },
     "execution_count": 6,
     "metadata": {},
     "output_type": "execute_result"
    }
   ],
   "source": [
    "# los vectores propios estan dados en columnas\n",
    "np.linalg.eig(A)"
   ]
  },
  {
   "cell_type": "code",
   "execution_count": 38,
   "id": "41c30aa2",
   "metadata": {},
   "outputs": [],
   "source": [
    "def EigValue (A, c=0, itmax=1000, tolerancia=1e-20):\n",
    "    n = A.shape[0]\n",
    "    v0 = np.zeros(n)\n",
    "    v0[c] = 1\n",
    "    lambda1 = 0\n",
    "    \n",
    "    for k in range(itmax): \n",
    "        v1 = np.dot(A,v0)\n",
    "        v1 = v1/np.linalg.norm(v1) \n",
    "        \n",
    "        v2 = np.dot(A,v1)\n",
    "        v2 = v2/np.linalg.norm(v1)\n",
    "        \n",
    "        lambda0 = lambda1\n",
    "        lambda1 = v2[0]/v1[0] #fórmula 5.56 de las notas\n",
    "        \n",
    "        v0 = v2\n",
    "        \n",
    "        if np.abs(lambda0 - lambda1) <= tolerancia:\n",
    "            break\n",
    "        \n",
    "    return lambda1, v1"
   ]
  },
  {
   "cell_type": "code",
   "execution_count": 39,
   "id": "0cd3f4b4",
   "metadata": {},
   "outputs": [
    {
     "name": "stdout",
     "output_type": "stream",
     "text": [
      "3.0 [-0.23570226  0.23570226  0.94280904]\n"
     ]
    }
   ],
   "source": [
    "value1, vector1 = EigValue(A)\n",
    "print(value1, vector1)"
   ]
  },
  {
   "cell_type": "code",
   "execution_count": 40,
   "id": "c4bef556",
   "metadata": {},
   "outputs": [],
   "source": [
    "def Tensor(v):\n",
    "    n = v.shape[0]\n",
    "    T = np.zeros((n,n))\n",
    "    \n",
    "    for i in range(n):\n",
    "        for j in range(n):\n",
    "            T[i,j] = v[i]*v[j]\n",
    "            \n",
    "    return T"
   ]
  },
  {
   "cell_type": "code",
   "execution_count": 51,
   "id": "b699a26a",
   "metadata": {},
   "outputs": [
    {
     "data": {
      "text/plain": [
       "array([[1., 0.],\n",
       "       [0., 0.]])"
      ]
     },
     "execution_count": 51,
     "metadata": {},
     "output_type": "execute_result"
    }
   ],
   "source": [
    "v1 = np.array([1,0])\n",
    "Tensor(v1)"
   ]
  },
  {
   "cell_type": "markdown",
   "id": "cf6aec5e",
   "metadata": {},
   "source": [
    "$$B = A -\\lambda_1 \\vec{v}_1\\otimes\\vec{v}_1$$"
   ]
  },
  {
   "cell_type": "code",
   "execution_count": 55,
   "id": "3a9a1fa9",
   "metadata": {},
   "outputs": [],
   "source": [
    "Tensor1 = Tensor(vector1)"
   ]
  },
  {
   "cell_type": "code",
   "execution_count": 56,
   "id": "0d4ceb39",
   "metadata": {},
   "outputs": [],
   "source": [
    "B = A - value1*Tensor1"
   ]
  },
  {
   "cell_type": "code",
   "execution_count": 57,
   "id": "1fdf62df",
   "metadata": {},
   "outputs": [
    {
     "data": {
      "text/plain": [
       "array([[ 0.83333333,  2.16666667, -0.33333333],\n",
       "       [ 1.16666667, -0.16666667,  0.33333333],\n",
       "       [ 4.66666667, -4.66666667,  2.33333333]])"
      ]
     },
     "execution_count": 57,
     "metadata": {},
     "output_type": "execute_result"
    }
   ],
   "source": [
    "B"
   ]
  },
  {
   "cell_type": "code",
   "execution_count": 67,
   "id": "563ce59a",
   "metadata": {},
   "outputs": [
    {
     "data": {
      "text/plain": [
       "(1.9999999999999991, array([0.17069719, 0.23897606, 0.95590424]))"
      ]
     },
     "execution_count": 67,
     "metadata": {},
     "output_type": "execute_result"
    }
   ],
   "source": [
    "EigValue(B)"
   ]
  },
  {
   "cell_type": "code",
   "execution_count": 68,
   "id": "898ba981",
   "metadata": {},
   "outputs": [],
   "source": [
    "value2, vector2 = EigValue(B)\n",
    "Tensor2 = Tensor(vector2)"
   ]
  },
  {
   "cell_type": "code",
   "execution_count": 69,
   "id": "05935fd4",
   "metadata": {},
   "outputs": [],
   "source": [
    "C = B-value2*Tensor2"
   ]
  },
  {
   "cell_type": "code",
   "execution_count": 72,
   "id": "7a5719a6",
   "metadata": {},
   "outputs": [
    {
     "data": {
      "text/plain": [
       "1.9999999999999991"
      ]
     },
     "execution_count": 72,
     "metadata": {},
     "output_type": "execute_result"
    }
   ],
   "source": [
    "value2"
   ]
  },
  {
   "cell_type": "code",
   "execution_count": 71,
   "id": "f813a4e2",
   "metadata": {},
   "outputs": [
    {
     "data": {
      "text/plain": [
       "1.000000000000002"
      ]
     },
     "execution_count": 71,
     "metadata": {},
     "output_type": "execute_result"
    }
   ],
   "source": [
    "value3, vector3 = EigValue(C)\n",
    "value3"
   ]
  },
  {
   "cell_type": "code",
   "execution_count": null,
   "id": "8bc85871",
   "metadata": {},
   "outputs": [],
   "source": []
  }
 ],
 "metadata": {
  "kernelspec": {
   "display_name": "Python 3 (ipykernel)",
   "language": "python",
   "name": "python3"
  },
  "language_info": {
   "codemirror_mode": {
    "name": "ipython",
    "version": 3
   },
   "file_extension": ".py",
   "mimetype": "text/x-python",
   "name": "python",
   "nbconvert_exporter": "python",
   "pygments_lexer": "ipython3",
   "version": "3.9.13"
  }
 },
 "nbformat": 4,
 "nbformat_minor": 5
}
