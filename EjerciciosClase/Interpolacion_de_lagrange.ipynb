{
 "cells": [
  {
   "cell_type": "code",
   "execution_count": 39,
   "id": "e9fb9583",
   "metadata": {},
   "outputs": [],
   "source": [
    "import urllib.request\n",
    "\n",
    "import numpy as np\n",
    "import matplotlib.pyplot as plt\n",
    "from matplotlib import rc\n",
    "import pandas as pd\n",
    "import sympy as sym\n",
    "import os.path as path\n",
    "import os\n",
    "from sympy import lambdify\n",
    "\n",
    "#import wget"
   ]
  },
  {
   "cell_type": "code",
   "execution_count": 40,
   "id": "5f497e02",
   "metadata": {},
   "outputs": [
    {
     "data": {
      "text/html": [
       "<div>\n",
       "<style scoped>\n",
       "    .dataframe tbody tr th:only-of-type {\n",
       "        vertical-align: middle;\n",
       "    }\n",
       "\n",
       "    .dataframe tbody tr th {\n",
       "        vertical-align: top;\n",
       "    }\n",
       "\n",
       "    .dataframe thead th {\n",
       "        text-align: right;\n",
       "    }\n",
       "</style>\n",
       "<table border=\"1\" class=\"dataframe\">\n",
       "  <thead>\n",
       "    <tr style=\"text-align: right;\">\n",
       "      <th></th>\n",
       "      <th>X</th>\n",
       "      <th>Y</th>\n",
       "    </tr>\n",
       "  </thead>\n",
       "  <tbody>\n",
       "    <tr>\n",
       "      <th>0</th>\n",
       "      <td>-3</td>\n",
       "      <td>39</td>\n",
       "    </tr>\n",
       "    <tr>\n",
       "      <th>1</th>\n",
       "      <td>-1</td>\n",
       "      <td>19</td>\n",
       "    </tr>\n",
       "    <tr>\n",
       "      <th>2</th>\n",
       "      <td>1</td>\n",
       "      <td>-21</td>\n",
       "    </tr>\n",
       "    <tr>\n",
       "      <th>3</th>\n",
       "      <td>3</td>\n",
       "      <td>-57</td>\n",
       "    </tr>\n",
       "    <tr>\n",
       "      <th>4</th>\n",
       "      <td>5</td>\n",
       "      <td>-65</td>\n",
       "    </tr>\n",
       "    <tr>\n",
       "      <th>5</th>\n",
       "      <td>7</td>\n",
       "      <td>-21</td>\n",
       "    </tr>\n",
       "    <tr>\n",
       "      <th>6</th>\n",
       "      <td>9</td>\n",
       "      <td>99</td>\n",
       "    </tr>\n",
       "  </tbody>\n",
       "</table>\n",
       "</div>"
      ],
      "text/plain": [
       "   X   Y\n",
       "0 -3  39\n",
       "1 -1  19\n",
       "2  1 -21\n",
       "3  3 -57\n",
       "4  5 -65\n",
       "5  7 -21\n",
       "6  9  99"
      ]
     },
     "execution_count": 40,
     "metadata": {},
     "output_type": "execute_result"
    }
   ],
   "source": [
    "if not path.exists('Data'):\n",
    "    os.mkdir('Data')\n",
    "    \n",
    "file = 'Data/InterpolacionNewton.csv'\n",
    "url = 'https://raw.githubusercontent.com/asegura4488/Database/main/MetodosComputacionalesReforma/InterpolacionNewton.csv'\n",
    "\n",
    "if not path.exists(file):\n",
    "    Path_ = wget.download(url,file)\n",
    "    \n",
    "else:\n",
    "    Path_ = file\n",
    "\n",
    "Data = pd.read_csv(Path_)\n",
    "Data"
   ]
  },
  {
   "cell_type": "code",
   "execution_count": 41,
   "id": "4ae4136f",
   "metadata": {},
   "outputs": [
    {
     "name": "stdout",
     "output_type": "stream",
     "text": [
      "[-3. -1.  1.  3.  5.  7.  9.] [ 39.  19. -21. -57. -65. -21.  99.]\n"
     ]
    }
   ],
   "source": [
    "X = np.array([1,2,3,4,5])\n",
    "Y = np.array([1,2,3,4,5])\n",
    "\n",
    "X = np.float64(Data.X)\n",
    "Y = np.float64(Data.Y)\n",
    "print(X,Y)"
   ]
  },
  {
   "cell_type": "code",
   "execution_count": 42,
   "id": "02f4bdbd",
   "metadata": {},
   "outputs": [],
   "source": [
    "def Lagrange(x, xi, i):\n",
    "    \"\"\" x es el punto que se quiere aproximar\n",
    "        xi son todos los puntos de la función original\n",
    "        i es la iteración de los puntos de la función original\n",
    "        \"\"\"\n",
    "    prod = 1.\n",
    "    n = len(xi)\n",
    "    \n",
    "    for j in range(n):\n",
    "        if i!=j:\n",
    "            prod *= (x - xi[j])/(xi[i]-xi[j])\n",
    "    return prod"
   ]
  },
  {
   "cell_type": "code",
   "execution_count": 43,
   "id": "a2fddf86",
   "metadata": {},
   "outputs": [],
   "source": [
    "def Interpolate(x, xi, yi):\n",
    "    \"\"\" x es el punto que se quiere aproximar\n",
    "        xi son todos los puntos del eje x de la función original\n",
    "        yi son los puntos del eje Y de la función original\n",
    "        \"\"\"\n",
    "    Sum = 0\n",
    "    n = len(xi)\n",
    "    \n",
    "    for j in range(n):\n",
    "        Sum += yi[j]*Lagrange(x, xi, j)\n",
    "        \n",
    "    return Sum"
   ]
  },
  {
   "cell_type": "code",
   "execution_count": 44,
   "id": "f0e8c48c",
   "metadata": {},
   "outputs": [
    {
     "data": {
      "text/plain": [
       "[<matplotlib.lines.Line2D at 0x7fe350091d90>]"
      ]
     },
     "execution_count": 44,
     "metadata": {},
     "output_type": "execute_result"
    },
    {
     "data": {
      "image/png": "[encoded data removed]",
      "text/plain": [
       "<Figure size 640x480 with 1 Axes>"
      ]
     },
     "metadata": {},
     "output_type": "display_data"
    }
   ],
   "source": [
    "x = np.linspace(X[0],X[-1],100)\n",
    "y = Interpolate(x,X,Y)\n",
    "\n",
    "plt.scatter(X,Y,marker='o', color='b')\n",
    "plt.plot(x,y,color='k')"
   ]
  },
  {
   "cell_type": "markdown",
   "id": "67650157",
   "metadata": {},
   "source": []
  },
  {
   "cell_type": "code",
   "execution_count": 45,
   "id": "0c8392dc",
   "metadata": {},
   "outputs": [],
   "source": [
    "x = sym.Symbol('x', real=True)\n",
    "\n",
    "f = Interpolate(x, X, Y)\n",
    "f1 = sym.simplify(f)"
   ]
  },
  {
   "cell_type": "code",
   "execution_count": 46,
   "id": "5965874b",
   "metadata": {},
   "outputs": [],
   "source": [
    "func = lambdify([x], f1, modules='numpy')"
   ]
  },
  {
   "cell_type": "code",
   "execution_count": 47,
   "id": "3d705fdb",
   "metadata": {},
   "outputs": [
    {
     "data": {
      "text/latex": [
       "$\\displaystyle - 2.22044604925031 \\cdot 10^{-16} x^{4} + 0.499999999999999 x^{3} - 1.0 x^{2} - 20.5 x + 5.32907051820075 \\cdot 10^{-15}$"
      ],
      "text/plain": [
       "-2.22044604925031e-16*x**4 + 0.499999999999999*x**3 - 1.0*x**2 - 20.5*x + 5.32907051820075e-15"
      ]
     },
     "execution_count": 47,
     "metadata": {},
     "output_type": "execute_result"
    }
   ],
   "source": [
    "f = Interpolate(x,X,Y)\n",
    "f = sym.simplify(f)\n",
    "f"
   ]
  },
  {
   "cell_type": "code",
   "execution_count": 48,
   "id": "7138ac38",
   "metadata": {},
   "outputs": [
    {
     "data": {
      "text/plain": [
       "-66.9710116308985"
      ]
     },
     "execution_count": 48,
     "metadata": {},
     "output_type": "execute_result"
    }
   ],
   "source": [
    "def der_func(x,h):\n",
    "    return (func(x+h)-func(x-h))/(2*h)\n",
    "\n",
    "def der2_func(x,h):\n",
    "    return (func(x+h)-2*func(x)+func(x-h))/(h**2)\n",
    "\n",
    "def newtrap (x):\n",
    "    return x-(der_func(x,0.01)/der2_func(x,0.01))\n",
    "\n",
    "\n",
    "x1= 1\n",
    "for i in range(100):\n",
    "    X1 = x1\n",
    "    x1 = newtrap(x1)\n",
    "    if np.abs(X1-x1)<=(10**(-6)):\n",
    "        sol = x1\n",
    "\n",
    "func(sol)\n",
    "\n"
   ]
  },
  {
   "cell_type": "code",
   "execution_count": 49,
   "id": "012bb428",
   "metadata": {},
   "outputs": [
    {
     "data": {
      "text/plain": [
       "[<matplotlib.lines.Line2D at 0x7fe380584220>]"
      ]
     },
     "execution_count": 49,
     "metadata": {},
     "output_type": "execute_result"
    },
    {
     "data": {
      "image/png": "[encoded data removed]",
      "text/plain": [
       "<Figure size 640x480 with 1 Axes>"
      ]
     },
     "metadata": {},
     "output_type": "display_data"
    }
   ],
   "source": [
    "x = np.linspace(X[0],X[-1],100)\n",
    "y = Interpolate(x,X,Y)\n",
    "\n",
    "plt.scatter(X,Y,marker='o', color='b')\n",
    "plt.plot(x,y,color='k')\n",
    "\n",
    "plt.plot([X[0],X[-1]],[func(sol),func(sol)],\"r\")\n",
    "plt.plot([sol,sol],[-7,Y[-1]],\"r\")\n",
    "\n",
    "#plt.scatter(sol, func(sol),color= 'r')"
   ]
  },
  {
   "cell_type": "code",
   "execution_count": null,
   "id": "953e9527",
   "metadata": {},
   "outputs": [],
   "source": []
  },
  {
   "cell_type": "code",
   "execution_count": null,
   "id": "83b1b1a6",
   "metadata": {},
   "outputs": [],
   "source": []
  },
  {
   "cell_type": "code",
   "execution_count": null,
   "id": "3d264781",
   "metadata": {},
   "outputs": [],
   "source": []
  }
 ],
 "metadata": {
  "kernelspec": {
   "display_name": "Python 3 (ipykernel)",
   "language": "python",
   "name": "python3"
  },
  "language_info": {
   "codemirror_mode": {
    "name": "ipython",
    "version": 3
   },
   "file_extension": ".py",
   "mimetype": "text/x-python",
   "name": "python",
   "nbconvert_exporter": "python",
   "pygments_lexer": "ipython3",
   "version": "3.9.13"
  }
 },
 "nbformat": 4,
 "nbformat_minor": 5
}
