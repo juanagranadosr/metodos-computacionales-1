{
 "cells": [
  {
   "cell_type": "code",
   "execution_count": 1,
   "id": "3734d564",
   "metadata": {},
   "outputs": [
    {
     "data": {
      "text/html": [
       "<style>.container {width:100% !important; }</style>"
      ],
      "text/plain": [
       "<IPython.core.display.HTML object>"
      ]
     },
     "metadata": {},
     "output_type": "display_data"
    }
   ],
   "source": [
    "from IPython.display import display, HTML\n",
    "display(HTML('<style>.container {width:100% !important; }</style>'))\n",
    "import numpy as np\n",
    "import matplotlib.pyplot as plt\n",
    "from scipy import integrate"
   ]
  },
  {
   "cell_type": "markdown",
   "id": "e19230d5",
   "metadata": {},
   "source": [
    "# Método de Trapecio Compuesto \n",
    "### (3.14.2 notas de clase)"
   ]
  },
  {
   "cell_type": "code",
   "execution_count": 2,
   "id": "f99faa8b",
   "metadata": {},
   "outputs": [],
   "source": [
    "class Integrator:\n",
    "    \n",
    "    def __init__ (self, x, f):\n",
    "        \n",
    "        self.x = x\n",
    "        self.h = self.x[1] - self.x[0]\n",
    "        \n",
    "        self.y = f(self.x)\n",
    "        \n",
    "        self.Integral = 0.\n",
    "        self.Error = 0\n",
    "        \n",
    "    def GetStep(self):\n",
    "        return self.h\n",
    "    "
   ]
  },
  {
   "cell_type": "code",
   "execution_count": 3,
   "id": "66d1ac9b",
   "metadata": {},
   "outputs": [],
   "source": [
    "class Trapezoid(Integrator):\n",
    "    \n",
    "    def __init__(self, x, f):\n",
    "        Integrator.__init__(self, x, f)\n",
    "        \n",
    "    def GetIntegral(self):\n",
    "        self.Integral = 0\n",
    "        # pedazo de (h/2)*(f(a)+f(b))\n",
    "        self.Integral += 0.5*(self.y[0]+self.y[-1])\n",
    "        \n",
    "        # sumatoria de h*f(x_i) #ver notas de clase 3.14.2\n",
    "        self.Integral += np.sum(self.y[1:-1])\n",
    "        \n",
    "        return self.Integral*self.h\n",
    "    \n",
    "    def Get2Derivative(self):\n",
    "        return (f(self.x+self.h)-2*f(self.x)+f(self.x-self.h))/self.h**2\n",
    "    \n",
    "    def GetError(self):\n",
    "        d = self.Get2Derivative()\n",
    "        \n",
    "        max_ = np.max(np.abs(d))\n",
    "        \n",
    "        self.error = (max_*(self.x[-1]-self.x[0])**3)/(12*(len(self.x)-1)**2)\n",
    "        \n",
    "        return self.error"
   ]
  },
  {
   "cell_type": "code",
   "execution_count": 4,
   "id": "f87cd3e1",
   "metadata": {},
   "outputs": [],
   "source": [
    "f = lambda x: np.sin(x)\n",
    "N = 12\n",
    "x = np.linspace(0, 0.5*np.pi, N)"
   ]
  },
  {
   "cell_type": "code",
   "execution_count": 5,
   "id": "7bf56479",
   "metadata": {},
   "outputs": [
    {
     "data": {
      "text/plain": [
       "0.9983001101346353"
      ]
     },
     "execution_count": 5,
     "metadata": {},
     "output_type": "execute_result"
    }
   ],
   "source": [
    "Integrator1 = Trapezoid(x,f)\n",
    "Integrator1.GetIntegral()"
   ]
  },
  {
   "cell_type": "code",
   "execution_count": 6,
   "id": "8ed1c68c",
   "metadata": {},
   "outputs": [
    {
     "data": {
      "text/plain": [
       "0.9983001101346352"
      ]
     },
     "execution_count": 6,
     "metadata": {},
     "output_type": "execute_result"
    }
   ],
   "source": [
    "# con el paquete de scipy\n",
    "\n",
    "integrate.trapezoid(f(x,),x)"
   ]
  },
  {
   "cell_type": "code",
   "execution_count": 7,
   "id": "5f0d3b7c",
   "metadata": {},
   "outputs": [
    {
     "data": {
      "text/plain": [
       "0.0026647402842498702"
      ]
     },
     "execution_count": 7,
     "metadata": {},
     "output_type": "execute_result"
    }
   ],
   "source": [
    "#Error\n",
    "\n",
    "Integrator1.GetError()"
   ]
  },
  {
   "cell_type": "markdown",
   "id": "6afc0bb7",
   "metadata": {},
   "source": [
    "# Método de Simpson"
   ]
  },
  {
   "cell_type": "markdown",
   "id": "313d7fc4",
   "metadata": {},
   "source": [
    "## 1/3 (3.14.4)"
   ]
  },
  {
   "cell_type": "code",
   "execution_count": 8,
   "id": "4f9481f2",
   "metadata": {},
   "outputs": [],
   "source": [
    "class Simpson(Integrator):\n",
    "    \n",
    "    def __init__(self, x, f):\n",
    "        Integrator.__init__(self, x, f)\n",
    "        \n",
    "    def GetIntegral(self):\n",
    "        self.Integral = 0\n",
    "        # pedazo de (f(a)+f(b))\n",
    "        self.Integral += (self.y[0]+self.y[-1])\n",
    "        # print(self.y[0],self.y[-1])\n",
    "        \n",
    "        # sumatoria \n",
    "        #ver notas de clase 3.14.4\n",
    "        for i in range(len(self.y[1:-1])):  #se pone y[1:-1] para excluir el primer y ultimo término\n",
    "            \n",
    "            # caso impares\n",
    "            if i%2==0:\n",
    "                self.Integral += 4.*self.y[i+1]\n",
    "                # print(i+1, 'entro impar', self.y[i+1], self.Integral*self.h/3)\n",
    "            \n",
    "            #caso pares\n",
    "            elif i%2!=0:\n",
    "                self.Integral += 2.*self.y[i+1]\n",
    "                # print(i+1, 'entro par', self.y[i+1], self.Integral*self.h/3)\n",
    "            \n",
    "        return self.Integral*self.h/3\n",
    "    \n",
    "    def Get4Derivative(self):\n",
    "        return (f(self.x+2*self.h) - 4*f(self.x+self.h) + 6*f(self.x) - 4*f(self.x-self.h) + f(self.x-2*self.h))/self.h**4\n",
    "    \n",
    "    \n",
    "    \n",
    "    def GetError(self):\n",
    "        d = self.Get4Derivative()\n",
    "        \n",
    "        max_ = np.max(np.abs(d))\n",
    "        \n",
    "        self.error = ( (self.x[-1]-self.x[0])*self.h**4 * max_  )/180\n",
    "                      \n",
    "        return self.error"
   ]
  },
  {
   "cell_type": "code",
   "execution_count": 9,
   "id": "c727e961",
   "metadata": {},
   "outputs": [],
   "source": [
    "f = lambda x: np.sin(x)\n",
    "N = 12\n",
    "x = np.linspace(0, 0.5*np.pi, N+1)"
   ]
  },
  {
   "cell_type": "code",
   "execution_count": 10,
   "id": "48b80c2d",
   "metadata": {},
   "outputs": [
    {
     "data": {
      "text/plain": [
       "1.0000016344385794"
      ]
     },
     "execution_count": 10,
     "metadata": {},
     "output_type": "execute_result"
    }
   ],
   "source": [
    "Integrador2 = Simpson(x,f)\n",
    "Integrador2.GetIntegral()"
   ]
  },
  {
   "cell_type": "code",
   "execution_count": 11,
   "id": "3db5069b",
   "metadata": {},
   "outputs": [
    {
     "data": {
      "text/plain": [
       "2.5548268139593947e-06"
      ]
     },
     "execution_count": 11,
     "metadata": {},
     "output_type": "execute_result"
    }
   ],
   "source": [
    "Integrador2.GetError()"
   ]
  },
  {
   "cell_type": "code",
   "execution_count": null,
   "id": "41f7cdae",
   "metadata": {},
   "outputs": [],
   "source": []
  }
 ],
 "metadata": {
  "kernelspec": {
   "display_name": "Python 3 (ipykernel)",
   "language": "python",
   "name": "python3"
  },
  "language_info": {
   "codemirror_mode": {
    "name": "ipython",
    "version": 3
   },
   "file_extension": ".py",
   "mimetype": "text/x-python",
   "name": "python",
   "nbconvert_exporter": "python",
   "pygments_lexer": "ipython3",
   "version": "3.9.13"
  }
 },
 "nbformat": 4,
 "nbformat_minor": 5
}
