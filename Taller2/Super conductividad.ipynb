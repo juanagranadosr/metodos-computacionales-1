{
 "cells": [
  {
   "cell_type": "code",
   "execution_count": 1,
   "id": "7c6d8425",
   "metadata": {},
   "outputs": [],
   "source": [
    "\n",
    "import numpy as np\n",
    "import matplotlib.pyplot as plt\n",
    "import sympy as sym\n",
    "from scipy import integrate\n",
    "\n"
   ]
  },
  {
   "cell_type": "code",
   "execution_count": 2,
   "id": "5679dff2",
   "metadata": {},
   "outputs": [],
   "source": [
    "\n",
    "n = 50\n",
    "x = sym.Symbol('x',real=True)\n",
    "y = sym.Symbol('y',real=True)"
   ]
  },
  {
   "cell_type": "code",
   "execution_count": 3,
   "id": "ae74df96",
   "metadata": {},
   "outputs": [],
   "source": [
    "\n",
    "   \n",
    "def GetLegendre(n,x,y):\n",
    "    \n",
    "    y = (x**2 - 1)**n\n",
    "    \n",
    "    poly = sym.diff( y,x,n )/(2**n * np.math.factorial(n))\n",
    "    \n",
    "    return poly\n",
    "    \n",
    "Legendre = []\n",
    "DLegendre = []\n",
    "\n",
    "for i in range(n+1):\n",
    "    \n",
    "    Poly = GetLegendre(i,x,y)\n",
    "    Legendre.append(Poly)\n",
    "    DLegendre.append( sym.diff(Poly,x,1) )"
   ]
  },
  {
   "cell_type": "code",
   "execution_count": 4,
   "id": "d1cdeacc",
   "metadata": {},
   "outputs": [],
   "source": [
    "def GetNewton(f,df,xn,itmax=10000,precision=1e-14):\n",
    "    \n",
    "    error = 1.\n",
    "    it = 0\n",
    "    \n",
    "    while error >= precision and it < itmax:\n",
    "        \n",
    "        try:\n",
    "            \n",
    "            xn1 = xn - f(xn)/df(xn)\n",
    "            \n",
    "            error = np.abs(f(xn)/df(xn))\n",
    "            \n",
    "        except ZeroDivisionError:\n",
    "            print('Zero Division')\n",
    "            \n",
    "        xn = xn1\n",
    "        it += 1\n",
    "        \n",
    "    if it == itmax:\n",
    "        return False\n",
    "    else:\n",
    "        return xn"
   ]
  },
  {
   "cell_type": "code",
   "execution_count": 5,
   "id": "7b36d5a6",
   "metadata": {},
   "outputs": [],
   "source": [
    "def GetRoots(f,df,x,tolerancia = 14):\n",
    "    \n",
    "    Roots = np.array([])\n",
    "    \n",
    "    for i in x:\n",
    "        \n",
    "        root = GetNewton(f,df,i)\n",
    "        \n",
    "        if root != False:\n",
    "            \n",
    "            croot = np.round( root, tolerancia )\n",
    "            \n",
    "            if croot not in Roots:\n",
    "                Roots = np.append(Roots, croot)\n",
    "                \n",
    "    Roots.sort()\n",
    "    \n",
    "    return Roots"
   ]
  },
  {
   "cell_type": "code",
   "execution_count": 6,
   "id": "60a2a7c7",
   "metadata": {},
   "outputs": [],
   "source": [
    "\n",
    "\n",
    "def GetAllRoots(n,xn,Legendre,DLegendre):\n",
    "\n",
    "    poly = sym.lambdify([x],Legendre[n],'numpy')\n",
    "    Dpoly = sym.lambdify([x],DLegendre[n],'numpy')\n",
    "    Roots = GetRoots(poly,Dpoly,xn)\n",
    "\n",
    "    return Roots\n",
    "\n",
    "\n",
    "xn = np.linspace(-1,1,100)\n",
    "Roots = GetAllRoots(n,xn,Legendre,DLegendre)"
   ]
  },
  {
   "cell_type": "code",
   "execution_count": 7,
   "id": "8193fc76",
   "metadata": {},
   "outputs": [
    {
     "name": "stdout",
     "output_type": "stream",
     "text": [
      "[0.00290862 0.01811556 0.02178024 0.02536067 0.02884299 0.03221373\n",
      " 0.03545984 0.04940094 0.0516557  0.0516557  0.05371062 0.05371062\n",
      " 0.05555774 0.05555774 0.05718993 0.05718993 0.05860085 0.05860085\n",
      " 0.05978506 0.05978506 0.05978506 0.06073797 0.0614559  0.06193607\n",
      " 0.06217662 0.06217662 0.06193607 0.0614559  0.06073797 0.06073797\n",
      " 0.05978506 0.05978506 0.05860085 0.05718993 0.05718993 0.05718993\n",
      " 0.05718993 0.05555774 0.05555774 0.05371062 0.05371062 0.0516557\n",
      " 0.0516557  0.04695505 0.0443275  0.04152846 0.03545984 0.03221373\n",
      " 0.02884299 0.02536067 0.02178024 0.01811556 0.00290862]\n"
     ]
    }
   ],
   "source": [
    "\n",
    "\n",
    "def GetWeights(Roots,DLegendre):\n",
    "\n",
    "    Dpoly = sym.lambdify([x],DLegendre[n],'numpy')\n",
    "    Weights= 2/( (1-Roots**2)*Dpoly(Roots)**2 )\n",
    "\n",
    "    return Weights\n",
    "Weights = GetWeights(Roots,DLegendre)\n",
    "print(Weights)\n"
   ]
  },
  {
   "cell_type": "code",
   "execution_count": 41,
   "id": "5aa76545",
   "metadata": {},
   "outputs": [],
   "source": [
    "Roots,Weights = np.polynomial.legendre.leggauss(50)"
   ]
  },
  {
   "cell_type": "code",
   "execution_count": 47,
   "id": "edcf6e74",
   "metadata": {},
   "outputs": [
    {
     "name": "stderr",
     "output_type": "stream",
     "text": [
      "C:\\Users\\JC224F~1.GUT\\AppData\\Local\\Temp/ipykernel_6492/3861936525.py:8: RuntimeWarning: divide by zero encountered in double_scalars\n",
      "  H=np.tanh(np.sqrt(x**2 + delta_prima**2)*(t_d/(2*t)))\n"
     ]
    },
    {
     "data": {
      "text/plain": [
       "12.137213721372138"
      ]
     },
     "execution_count": 47,
     "metadata": {},
     "output_type": "execute_result"
    }
   ],
   "source": [
    "k=1.38*10**(-23)\n",
    "h_wd=k*300\n",
    "t_d=300\n",
    "delta_t=0.0001\n",
    "T=np.linspace(0,40,10000)\n",
    "def funcion(x,t,delta_t):\n",
    "    delta_prima=h_wd*delta_t\n",
    "    H=np.tanh(np.sqrt(x**2 + delta_prima**2)*(t_d/(2*t)))\n",
    "    J=np.sqrt(x**2+delta_prima**2)\n",
    "    r=H/J\n",
    "    return (r/2)\n",
    "    \n",
    "\n",
    "for t in T:\n",
    "    I=np.sum(funcion(Roots,t,delta_t)*Weights)\n",
    "    if I < 1/0.3:\n",
    "        r = I\n",
    "        break\n",
    "    \n",
    "   \n",
    "t\n"
   ]
  },
  {
   "cell_type": "code",
   "execution_count": 46,
   "id": "cbbd980e",
   "metadata": {},
   "outputs": [
    {
     "name": "stderr",
     "output_type": "stream",
     "text": [
      "C:\\Users\\JC224F~1.GUT\\AppData\\Local\\Temp/ipykernel_6492/2943943334.py:8: RuntimeWarning: divide by zero encountered in double_scalars\n",
      "  H=np.tanh(np.sqrt(x**2 + delta_prima**2)*(t_d/(2*t)))\n"
     ]
    },
    {
     "data": {
      "text/plain": [
       "<matplotlib.collections.LineCollection at 0x25aeab1d0d0>"
      ]
     },
     "execution_count": 46,
     "metadata": {},
     "output_type": "execute_result"
    },
    {
     "data": {
      "image/png": "[encoded data removed]",
      "text/plain": [
       "<Figure size 432x288 with 1 Axes>"
      ]
     },
     "metadata": {
      "needs_background": "light"
     },
     "output_type": "display_data"
    }
   ],
   "source": [
    "plt.plot(T,[np.sum(funcion(Roots,t,delta_t)*Weights) for t in T])\n",
    "plt.hlines(1/0.3,0,20)"
   ]
  },
  {
   "cell_type": "code",
   "execution_count": null,
   "id": "d4d0099b",
   "metadata": {},
   "outputs": [],
   "source": []
  }
 ],
 "metadata": {
  "kernelspec": {
   "display_name": "Python 3 (ipykernel)",
   "language": "python",
   "name": "python3"
  },
  "language_info": {
   "codemirror_mode": {
    "name": "ipython",
    "version": 3
   },
   "file_extension": ".py",
   "mimetype": "text/x-python",
   "name": "python",
   "nbconvert_exporter": "python",
   "pygments_lexer": "ipython3",
   "version": "3.9.7"
  }
 },
 "nbformat": 4,
 "nbformat_minor": 5
}
