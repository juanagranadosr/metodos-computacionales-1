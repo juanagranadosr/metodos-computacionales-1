{
 "cells": [
  {
   "cell_type": "code",
   "execution_count": 1,
   "id": "eef2e76d",
   "metadata": {},
   "outputs": [
    {
     "data": {
      "text/plain": [
       "[<matplotlib.lines.Line2D at 0x1a64c4927f0>]"
      ]
     },
     "execution_count": 1,
     "metadata": {},
     "output_type": "execute_result"
    },
    {
     "data": {
      "image/png": "[encoded data removed]",
      "text/plain": [
       "<Figure size 432x288 with 1 Axes>"
      ]
     },
     "metadata": {
      "needs_background": "light"
     },
     "output_type": "display_data"
    }
   ],
   "source": [
    "import numpy as np\n",
    "import matplotlib.pyplot as plt\n",
    "from matplotlib import rc\n",
    "import pandas as pd\n",
    "import sympy as sym\n",
    "def f(x):\n",
    "    j=np.sqrt(np.tan(x))\n",
    "  \n",
    "    return j\n",
    "\n",
    "def derivada_central(f,x,h):\n",
    "    f2=(f(x+h)-f(x-h))/(2*h)\n",
    "    return f2\n",
    "def derivada_progresiva(f,x,h):\n",
    "    m=(f(x+h)-f(x))/h\n",
    "    return m\n",
    "\n",
    "def derivada_analitica(x):\n",
    "    y=1/2*(np.tan(x))**(-1/2)\n",
    "    r=y/(1+np.tan(x)**2)\n",
    "    return r\n",
    "x=np.linspace(1,100,1)\n",
    "h=0.01\n",
    "\n",
    "plt.plot(derivada_central(f,x,h),x)\n",
    "plt.plot(derivada_progresiva(f,x,h),x)\n",
    "plt.plot(derivada_analitica(x),x)"
   ]
  },
  {
   "cell_type": "code",
   "execution_count": null,
   "id": "45938c8f",
   "metadata": {},
   "outputs": [],
   "source": []
  }
 ],
 "metadata": {
  "kernelspec": {
   "display_name": "Python 3 (ipykernel)",
   "language": "python",
   "name": "python3"
  },
  "language_info": {
   "codemirror_mode": {
    "name": "ipython",
    "version": 3
   },
   "file_extension": ".py",
   "mimetype": "text/x-python",
   "name": "python",
   "nbconvert_exporter": "python",
   "pygments_lexer": "ipython3",
   "version": "3.9.7"
  }
 },
 "nbformat": 4,
 "nbformat_minor": 5
}
