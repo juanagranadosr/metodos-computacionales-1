{
 "cells": [
  {
   "cell_type": "code",
   "execution_count": 1,
   "id": "83a45e54",
   "metadata": {},
   "outputs": [],
   "source": [
    "from sympy import*"
   ]
  },
  {
   "cell_type": "code",
   "execution_count": 4,
   "id": "c57738fa",
   "metadata": {},
   "outputs": [],
   "source": [
    "x=symbols(\"x\")\n",
    "x_0=symbols(\"x_0\")\n",
    "x_1=symbols(\"x_1\")\n",
    "x_2=symbols(\"x_2\")\n",
    "y=symbols(\"y\")\n",
    "y_0=symbols(\"y_0\")\n",
    "y_1=symbols(\"y_1\")\n",
    "y_2=symbols(\"y_2\")"
   ]
  },
  {
   "cell_type": "code",
   "execution_count": 29,
   "id": "2bd60c07",
   "metadata": {},
   "outputs": [
    {
     "data": {
      "text/latex": [
       "$\\displaystyle 0$"
      ],
      "text/plain": [
       "0"
      ]
     },
     "execution_count": 29,
     "metadata": {},
     "output_type": "execute_result"
    }
   ],
   "source": [
    "def p(x):\n",
    "    l0=((x-x_1)/(x_0-x_1))*((x-x_2)/(x_0-x_2))\n",
    "    l1=((x-x_0)/(x_1-x_0))*((x-x_2)/(x_1-x_2))\n",
    "    l2=((x-x_0)/(x_2-x_0))*((x-x_1)/(x_2-x_1)) #\"Aqui se tiene el polinomio que interpola el conjunto soporte\"\n",
    "    p=y_0*l0+y_1*l1+y_2*l2\n",
    "    j=diff(p,x)#\"aqui derivamos el conjunto soporte\"\n",
    "    return simplify(j)\n",
    "\n",
    "p(x_0) #evaluamos el conjunto soporte en x=x_0 y queda demostrado\n"
   ]
  },
  {
   "cell_type": "code",
   "execution_count": null,
   "id": "4ec0a563",
   "metadata": {},
   "outputs": [],
   "source": []
  },
  {
   "cell_type": "code",
   "execution_count": null,
   "id": "675da3e9",
   "metadata": {},
   "outputs": [],
   "source": []
  }
 ],
 "metadata": {
  "kernelspec": {
   "display_name": "Python 3 (ipykernel)",
   "language": "python",
   "name": "python3"
  },
  "language_info": {
   "codemirror_mode": {
    "name": "ipython",
    "version": 3
   },
   "file_extension": ".py",
   "mimetype": "text/x-python",
   "name": "python",
   "nbconvert_exporter": "python",
   "pygments_lexer": "ipython3",
   "version": "3.9.7"
  }
 },
 "nbformat": 4,
 "nbformat_minor": 5
}
