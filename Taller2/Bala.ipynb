{
 "cells": [
  {
   "cell_type": "code",
   "execution_count": 6,
   "metadata": {},
   "outputs": [
    {
     "name": "stdout",
     "output_type": "stream",
     "text": [
      "la velocidad inicial es en metros por segundo :10 con un angulo asociado en grados de :20\n"
     ]
    }
   ],
   "source": [
    "# -*- coding: utf-8 -*-\n",
    "\"\"\"\n",
    "Created on Wed Sep  7 15:04:33 2022\n",
    "@author: issos\n",
    "\"\"\"\n",
    "#Bloque imports\n",
    "import numpy as np\n",
    "import matplotlib.pyplot as plt\n",
    "from matplotlib import rc\n",
    "import pandas as pd\n",
    "import sympy as sym\n",
    "from sympy import var, solve\n",
    "\n",
    "\n",
    "X = [1.4,3.5,5.6]\n",
    "Y = [0.4007954931819738,0.594128102489774,0.29802795523938164]\n",
    "\n",
    "def Lagrange(x,xi,j):\n",
    "    \n",
    "    prod = 1.0\n",
    "    n = len(xi)\n",
    "    \n",
    "    for i in range(n):\n",
    "        if i != j:\n",
    "            prod *= (x - xi[i])/(xi[j]-xi[i])\n",
    "            \n",
    "    return prod\n",
    "\n",
    "def Poly(x,xi,yi):\n",
    "    \n",
    "    Sum = 0.\n",
    "    n = len(xi)\n",
    "        \n",
    "    for j in range(n):\n",
    "        Sum += yi[j]*Lagrange(x,xi,j)\n",
    "        \n",
    "    return Sum\n",
    "\n",
    "x_sym = sym.Symbol(\"x\")\n",
    "\n",
    "y_funcLag = Poly(x_sym,X,Y) \n",
    "dy=sym.diff(y_funcLag, x_sym) \n",
    "dy2=sym.diff(y_funcLag, x_sym, 2) \n",
    "\n",
    "\n",
    "\n",
    "dy_n=sym.lambdify([x_sym],dy,'numpy')\n",
    "valor=dy_n(1.4)\n",
    "\n",
    "\n",
    "theta,v_0=var('x V')\n",
    "\n",
    "ecuacion_1= sym.tan(theta)+(dy2*1.4)-valor\n",
    "rtheta= solve([ecuacion_1],[theta])\n",
    "res_rad=rtheta.get(x)\n",
    "res_grad=res_rad*(180/np.pi)\n",
    "ecuacion_2= -9.81/((v_0**2)*(sym.cos(res_rad)**2))-dy2\n",
    "respuestavel= solve([ecuacion_2],[v_0])\n",
    "V_0=respuestavel[1][0]\n",
    "Theta_grad=res_grad\n",
    "print(\"la velocidad inicial es en metros por segundo :\"+str(round(V_0))+ \" con un angulo asociado en grados de :\"+str(round(Theta_grad)))"
   ]
  },
  {
   "cell_type": "code",
   "execution_count": null,
   "metadata": {},
   "outputs": [],
   "source": []
  }
 ],
 "metadata": {
  "kernelspec": {
   "display_name": "Python 3 (ipykernel)",
   "language": "python",
   "name": "python3"
  },
  "language_info": {
   "codemirror_mode": {
    "name": "ipython",
    "version": 3
   },
   "file_extension": ".py",
   "mimetype": "text/x-python",
   "name": "python",
   "nbconvert_exporter": "python",
   "pygments_lexer": "ipython3",
   "version": "3.9.7"
  }
 },
 "nbformat": 4,
 "nbformat_minor": 4
}
