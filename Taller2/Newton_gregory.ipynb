{
 "cells": [
  {
   "cell_type": "code",
   "execution_count": 4,
   "metadata": {},
   "outputs": [],
   "source": [
    "import numpy as np\n",
    "import matplotlib.pyplot as plt"
   ]
  },
  {
   "cell_type": "code",
   "execution_count": 9,
   "metadata": {},
   "outputs": [
    {
     "data": {
      "text/plain": [
       "<matplotlib.legend.Legend at 0x1c013e88580>"
      ]
     },
     "execution_count": 9,
     "metadata": {},
     "output_type": "execute_result"
    },
    {
     "data": {
      "image/png": "[encoded data removed]",
      "text/plain": [
       "<Figure size 432x288 with 1 Axes>"
      ]
     },
     "metadata": {
      "needs_background": "light"
     },
     "output_type": "display_data"
    }
   ],
   "source": [
    "X= [0, 1, 2, 3, 4, 5]\n",
    "Y = [-18,-13, 0, 5, 3, 10]\n",
    "def newton_gragoty_interpolación(X,Y,x):\n",
    "    suma = Y[0]\n",
    "    dif = np.zeros( (len(X),len(Y)+1) )\n",
    "    dif[:,0] = X \n",
    "    dif[:,1] = Y\n",
    "    poly = 1.0\n",
    "\n",
    "    for i in range(2,len(Y)+1):\n",
    "        poly *= (x-X[i-2])\n",
    "        for j in range(i-1,len(X)):\n",
    "            D = 0.\n",
    "            for c in range(j-(i-2),j+1):\n",
    "                D += dif[c,0]-dif[c-1,0]\n",
    "            dif[j,i] = (dif[j,i-1]-dif[j-1,i-1])/ D\n",
    "            \n",
    "        suma += poly*dif[i-1,i]\n",
    "        \n",
    "    return suma, np.round(dif,2)\n",
    "p, M =  newton_gragoty_interpolación(X,Y,9)\n",
    "xp = np.linspace(0,5,10000)\n",
    "yp = []\n",
    "\n",
    "for x in xp:\n",
    "    y,_ = newton_gragoty_interpolación(X,Y,x)\n",
    "    yp.append(y)\n",
    "plt.scatter(X,Y,color='purple')\n",
    "plt.plot(xp,yp,c='g',label='Polinomio de newton gregory')\n",
    "plt.legend()"
   ]
  },
  {
   "cell_type": "code",
   "execution_count": null,
   "metadata": {},
   "outputs": [],
   "source": []
  }
 ],
 "metadata": {
  "kernelspec": {
   "display_name": "Python 3 (ipykernel)",
   "language": "python",
   "name": "python3"
  },
  "language_info": {
   "codemirror_mode": {
    "name": "ipython",
    "version": 3
   },
   "file_extension": ".py",
   "mimetype": "text/x-python",
   "name": "python",
   "nbconvert_exporter": "python",
   "pygments_lexer": "ipython3",
   "version": "3.9.7"
  }
 },
 "nbformat": 4,
 "nbformat_minor": 4
}
